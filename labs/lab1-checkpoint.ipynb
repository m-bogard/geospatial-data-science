{
 "cells": [
  {
   "cell_type": "code",
   "execution_count": 2,
   "id": "34b82efb",
   "metadata": {},
   "outputs": [
    {
     "name": "stdout",
     "output_type": "stream",
     "text": [
      "1476\n"
     ]
    }
   ],
   "source": [
    "import numpy as np\n",
    "a = 1504\n",
    "b = 28\n",
    "c = np.subtract(a, b)\n",
    "print(c)"
   ]
  },
  {
   "cell_type": "markdown",
   "id": "83722d8d",
   "metadata": {},
   "source": [
    "![Wallowa Lake](geospatial-data-science/labs/lab1/Wallowa-Lake.png)"
   ]
  },
  {
   "cell_type": "code",
   "execution_count": null,
   "id": "d5d79886",
   "metadata": {},
   "outputs": [],
   "source": []
  }
 ],
 "metadata": {
  "kernelspec": {
   "display_name": "Python 3 (ipykernel)",
   "language": "python",
   "name": "python3"
  },
  "language_info": {
   "codemirror_mode": {
    "name": "ipython",
    "version": 3
   },
   "file_extension": ".py",
   "mimetype": "text/x-python",
   "name": "python",
   "nbconvert_exporter": "python",
   "pygments_lexer": "ipython3",
   "version": "3.9.7"
  }
 },
 "nbformat": 4,
 "nbformat_minor": 5
}
