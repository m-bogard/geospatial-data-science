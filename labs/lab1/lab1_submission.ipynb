{
 "cells": [
  {
   "cell_type": "code",
   "execution_count": 1,
   "id": "9a497c73",
   "metadata": {},
   "outputs": [
    {
     "name": "stdout",
     "output_type": "stream",
     "text": [
      "250\n"
     ]
    }
   ],
   "source": [
    "import numpy as np\n",
    "a = 1000\n",
    "b = 750\n",
    "c = np.subtract(a, b)\n",
    "print(c)"
   ]
  },
  {
   "cell_type": "markdown",
   "id": "9180ba5d",
   "metadata": {},
   "source": [
    "**[Wallowa Lake](https://www.oregonlive.com/travel/2020/01/public-access-to-views-above-wallowa-lake-are-one-step-closer-to-reality.html)** in Eastern Oregon. _(Photo Courtesy of David Jensen.)_"
   ]
  },
  {
   "cell_type": "markdown",
   "id": "0f9b31b1",
   "metadata": {},
   "source": [
    "![Wallowa Lake](wallowa_lake.png)"
   ]
  },
  {
   "cell_type": "code",
   "execution_count": null,
   "id": "101ee78d",
   "metadata": {},
   "outputs": [],
   "source": []
  }
 ],
 "metadata": {
  "kernelspec": {
   "display_name": "Python 3 (ipykernel)",
   "language": "python",
   "name": "python3"
  },
  "language_info": {
   "codemirror_mode": {
    "name": "ipython",
    "version": 3
   },
   "file_extension": ".py",
   "mimetype": "text/x-python",
   "name": "python",
   "nbconvert_exporter": "python",
   "pygments_lexer": "ipython3",
   "version": "3.9.7"
  }
 },
 "nbformat": 4,
 "nbformat_minor": 5
}
