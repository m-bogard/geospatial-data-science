{
  "nbformat": 4,
  "nbformat_minor": 0,
  "metadata": {
    "colab": {
      "name": "Lab7_Submission_Colab.ipynb",
      "provenance": []
    },
    "kernelspec": {
      "name": "python3",
      "display_name": "Python 3"
    },
    "language_info": {
      "name": "python"
    }
  },
  "cells": [
    {
      "cell_type": "code",
      "source": [
        "!pip install -U selenium pandas geopandas rioxarray numpy folium\n",
        "# Install package for obtaining USGS streamflow data\n",
        "!pip install -U dataretrieval\n",
        "!apt install chromium-chromedriver"
      ],
      "metadata": {
        "colab": {
          "base_uri": "https://localhost:8080/",
          "height": 0
        },
        "id": "9nv9u0JPId6a",
        "outputId": "decc23c5-293b-4ebc-d845-26ce1351d90f"
      },
      "execution_count": 1,
      "outputs": [
        {
          "output_type": "stream",
          "name": "stdout",
          "text": [
            "Collecting selenium\n",
            "  Downloading selenium-4.1.1-py3-none-any.whl (963 kB)\n",
            "\u001b[?25l\r\u001b[K     |▍                               | 10 kB 24.4 MB/s eta 0:00:01\r\u001b[K     |▊                               | 20 kB 12.2 MB/s eta 0:00:01\r\u001b[K     |█                               | 30 kB 8.5 MB/s eta 0:00:01\r\u001b[K     |█▍                              | 40 kB 3.8 MB/s eta 0:00:01\r\u001b[K     |█▊                              | 51 kB 3.7 MB/s eta 0:00:01\r\u001b[K     |██                              | 61 kB 4.4 MB/s eta 0:00:01\r\u001b[K     |██▍                             | 71 kB 4.3 MB/s eta 0:00:01\r\u001b[K     |██▊                             | 81 kB 4.5 MB/s eta 0:00:01\r\u001b[K     |███                             | 92 kB 5.0 MB/s eta 0:00:01\r\u001b[K     |███▍                            | 102 kB 4.2 MB/s eta 0:00:01\r\u001b[K     |███▊                            | 112 kB 4.2 MB/s eta 0:00:01\r\u001b[K     |████                            | 122 kB 4.2 MB/s eta 0:00:01\r\u001b[K     |████▍                           | 133 kB 4.2 MB/s eta 0:00:01\r\u001b[K     |████▊                           | 143 kB 4.2 MB/s eta 0:00:01\r\u001b[K     |█████                           | 153 kB 4.2 MB/s eta 0:00:01\r\u001b[K     |█████▍                          | 163 kB 4.2 MB/s eta 0:00:01\r\u001b[K     |█████▉                          | 174 kB 4.2 MB/s eta 0:00:01\r\u001b[K     |██████▏                         | 184 kB 4.2 MB/s eta 0:00:01\r\u001b[K     |██████▌                         | 194 kB 4.2 MB/s eta 0:00:01\r\u001b[K     |██████▉                         | 204 kB 4.2 MB/s eta 0:00:01\r\u001b[K     |███████▏                        | 215 kB 4.2 MB/s eta 0:00:01\r\u001b[K     |███████▌                        | 225 kB 4.2 MB/s eta 0:00:01\r\u001b[K     |███████▉                        | 235 kB 4.2 MB/s eta 0:00:01\r\u001b[K     |████████▏                       | 245 kB 4.2 MB/s eta 0:00:01\r\u001b[K     |████████▌                       | 256 kB 4.2 MB/s eta 0:00:01\r\u001b[K     |████████▉                       | 266 kB 4.2 MB/s eta 0:00:01\r\u001b[K     |█████████▏                      | 276 kB 4.2 MB/s eta 0:00:01\r\u001b[K     |█████████▌                      | 286 kB 4.2 MB/s eta 0:00:01\r\u001b[K     |█████████▉                      | 296 kB 4.2 MB/s eta 0:00:01\r\u001b[K     |██████████▏                     | 307 kB 4.2 MB/s eta 0:00:01\r\u001b[K     |██████████▌                     | 317 kB 4.2 MB/s eta 0:00:01\r\u001b[K     |██████████▉                     | 327 kB 4.2 MB/s eta 0:00:01\r\u001b[K     |███████████▎                    | 337 kB 4.2 MB/s eta 0:00:01\r\u001b[K     |███████████▋                    | 348 kB 4.2 MB/s eta 0:00:01\r\u001b[K     |████████████                    | 358 kB 4.2 MB/s eta 0:00:01\r\u001b[K     |████████████▎                   | 368 kB 4.2 MB/s eta 0:00:01\r\u001b[K     |████████████▋                   | 378 kB 4.2 MB/s eta 0:00:01\r\u001b[K     |█████████████                   | 389 kB 4.2 MB/s eta 0:00:01\r\u001b[K     |█████████████▎                  | 399 kB 4.2 MB/s eta 0:00:01\r\u001b[K     |█████████████▋                  | 409 kB 4.2 MB/s eta 0:00:01\r\u001b[K     |██████████████                  | 419 kB 4.2 MB/s eta 0:00:01\r\u001b[K     |██████████████▎                 | 430 kB 4.2 MB/s eta 0:00:01\r\u001b[K     |██████████████▋                 | 440 kB 4.2 MB/s eta 0:00:01\r\u001b[K     |███████████████                 | 450 kB 4.2 MB/s eta 0:00:01\r\u001b[K     |███████████████▎                | 460 kB 4.2 MB/s eta 0:00:01\r\u001b[K     |███████████████▋                | 471 kB 4.2 MB/s eta 0:00:01\r\u001b[K     |████████████████                | 481 kB 4.2 MB/s eta 0:00:01\r\u001b[K     |████████████████▎               | 491 kB 4.2 MB/s eta 0:00:01\r\u001b[K     |████████████████▋               | 501 kB 4.2 MB/s eta 0:00:01\r\u001b[K     |█████████████████               | 512 kB 4.2 MB/s eta 0:00:01\r\u001b[K     |█████████████████▍              | 522 kB 4.2 MB/s eta 0:00:01\r\u001b[K     |█████████████████▊              | 532 kB 4.2 MB/s eta 0:00:01\r\u001b[K     |██████████████████              | 542 kB 4.2 MB/s eta 0:00:01\r\u001b[K     |██████████████████▍             | 552 kB 4.2 MB/s eta 0:00:01\r\u001b[K     |██████████████████▊             | 563 kB 4.2 MB/s eta 0:00:01\r\u001b[K     |███████████████████             | 573 kB 4.2 MB/s eta 0:00:01\r\u001b[K     |███████████████████▍            | 583 kB 4.2 MB/s eta 0:00:01\r\u001b[K     |███████████████████▊            | 593 kB 4.2 MB/s eta 0:00:01\r\u001b[K     |████████████████████            | 604 kB 4.2 MB/s eta 0:00:01\r\u001b[K     |████████████████████▍           | 614 kB 4.2 MB/s eta 0:00:01\r\u001b[K     |████████████████████▊           | 624 kB 4.2 MB/s eta 0:00:01\r\u001b[K     |█████████████████████           | 634 kB 4.2 MB/s eta 0:00:01\r\u001b[K     |█████████████████████▍          | 645 kB 4.2 MB/s eta 0:00:01\r\u001b[K     |█████████████████████▊          | 655 kB 4.2 MB/s eta 0:00:01\r\u001b[K     |██████████████████████          | 665 kB 4.2 MB/s eta 0:00:01\r\u001b[K     |██████████████████████▌         | 675 kB 4.2 MB/s eta 0:00:01\r\u001b[K     |██████████████████████▉         | 686 kB 4.2 MB/s eta 0:00:01\r\u001b[K     |███████████████████████▏        | 696 kB 4.2 MB/s eta 0:00:01\r\u001b[K     |███████████████████████▌        | 706 kB 4.2 MB/s eta 0:00:01\r\u001b[K     |███████████████████████▉        | 716 kB 4.2 MB/s eta 0:00:01\r\u001b[K     |████████████████████████▏       | 727 kB 4.2 MB/s eta 0:00:01\r\u001b[K     |████████████████████████▌       | 737 kB 4.2 MB/s eta 0:00:01\r\u001b[K     |████████████████████████▉       | 747 kB 4.2 MB/s eta 0:00:01\r\u001b[K     |█████████████████████████▏      | 757 kB 4.2 MB/s eta 0:00:01\r\u001b[K     |█████████████████████████▌      | 768 kB 4.2 MB/s eta 0:00:01\r\u001b[K     |█████████████████████████▉      | 778 kB 4.2 MB/s eta 0:00:01\r\u001b[K     |██████████████████████████▏     | 788 kB 4.2 MB/s eta 0:00:01\r\u001b[K     |██████████████████████████▌     | 798 kB 4.2 MB/s eta 0:00:01\r\u001b[K     |██████████████████████████▉     | 808 kB 4.2 MB/s eta 0:00:01\r\u001b[K     |███████████████████████████▏    | 819 kB 4.2 MB/s eta 0:00:01\r\u001b[K     |███████████████████████████▌    | 829 kB 4.2 MB/s eta 0:00:01\r\u001b[K     |████████████████████████████    | 839 kB 4.2 MB/s eta 0:00:01\r\u001b[K     |████████████████████████████▎   | 849 kB 4.2 MB/s eta 0:00:01\r\u001b[K     |████████████████████████████▋   | 860 kB 4.2 MB/s eta 0:00:01\r\u001b[K     |█████████████████████████████   | 870 kB 4.2 MB/s eta 0:00:01\r\u001b[K     |█████████████████████████████▎  | 880 kB 4.2 MB/s eta 0:00:01\r\u001b[K     |█████████████████████████████▋  | 890 kB 4.2 MB/s eta 0:00:01\r\u001b[K     |██████████████████████████████  | 901 kB 4.2 MB/s eta 0:00:01\r\u001b[K     |██████████████████████████████▎ | 911 kB 4.2 MB/s eta 0:00:01\r\u001b[K     |██████████████████████████████▋ | 921 kB 4.2 MB/s eta 0:00:01\r\u001b[K     |███████████████████████████████ | 931 kB 4.2 MB/s eta 0:00:01\r\u001b[K     |███████████████████████████████▎| 942 kB 4.2 MB/s eta 0:00:01\r\u001b[K     |███████████████████████████████▋| 952 kB 4.2 MB/s eta 0:00:01\r\u001b[K     |████████████████████████████████| 962 kB 4.2 MB/s eta 0:00:01\r\u001b[K     |████████████████████████████████| 963 kB 4.2 MB/s \n",
            "\u001b[?25hRequirement already satisfied: pandas in /usr/local/lib/python3.7/dist-packages (1.3.5)\n",
            "Collecting geopandas\n",
            "  Downloading geopandas-0.10.2-py2.py3-none-any.whl (1.0 MB)\n",
            "\u001b[K     |████████████████████████████████| 1.0 MB 52.4 MB/s \n",
            "\u001b[?25hCollecting rioxarray\n",
            "  Downloading rioxarray-0.9.1.tar.gz (47 kB)\n",
            "\u001b[K     |████████████████████████████████| 47 kB 3.6 MB/s \n",
            "\u001b[?25h  Installing build dependencies ... \u001b[?25l\u001b[?25hdone\n",
            "  Getting requirements to build wheel ... \u001b[?25l\u001b[?25hdone\n",
            "    Preparing wheel metadata ... \u001b[?25l\u001b[?25hdone\n",
            "Requirement already satisfied: numpy in /usr/local/lib/python3.7/dist-packages (1.21.5)\n",
            "Requirement already satisfied: folium in /usr/local/lib/python3.7/dist-packages (0.8.3)\n",
            "Collecting folium\n",
            "  Downloading folium-0.12.1.post1-py2.py3-none-any.whl (95 kB)\n",
            "\u001b[K     |████████████████████████████████| 95 kB 3.4 MB/s \n",
            "\u001b[?25hCollecting trio-websocket~=0.9\n",
            "  Downloading trio_websocket-0.9.2-py3-none-any.whl (16 kB)\n",
            "Collecting trio~=0.17\n",
            "  Downloading trio-0.20.0-py3-none-any.whl (359 kB)\n",
            "\u001b[K     |████████████████████████████████| 359 kB 49.1 MB/s \n",
            "\u001b[?25hCollecting urllib3[secure,socks]~=1.26\n",
            "  Downloading urllib3-1.26.8-py2.py3-none-any.whl (138 kB)\n",
            "\u001b[K     |████████████████████████████████| 138 kB 51.8 MB/s \n",
            "\u001b[?25hCollecting sniffio\n",
            "  Downloading sniffio-1.2.0-py3-none-any.whl (10 kB)\n",
            "Requirement already satisfied: sortedcontainers in /usr/local/lib/python3.7/dist-packages (from trio~=0.17->selenium) (2.4.0)\n",
            "Collecting async-generator>=1.9\n",
            "  Downloading async_generator-1.10-py3-none-any.whl (18 kB)\n",
            "Requirement already satisfied: idna in /usr/local/lib/python3.7/dist-packages (from trio~=0.17->selenium) (2.10)\n",
            "Requirement already satisfied: attrs>=19.2.0 in /usr/local/lib/python3.7/dist-packages (from trio~=0.17->selenium) (21.4.0)\n",
            "Collecting outcome\n",
            "  Downloading outcome-1.1.0-py2.py3-none-any.whl (9.7 kB)\n",
            "Collecting wsproto>=0.14\n",
            "  Downloading wsproto-1.0.0-py3-none-any.whl (24 kB)\n",
            "Requirement already satisfied: PySocks!=1.5.7,<2.0,>=1.5.6 in /usr/local/lib/python3.7/dist-packages (from urllib3[secure,socks]~=1.26->selenium) (1.7.1)\n",
            "Collecting pyOpenSSL>=0.14\n",
            "  Downloading pyOpenSSL-22.0.0-py2.py3-none-any.whl (55 kB)\n",
            "\u001b[K     |████████████████████████████████| 55 kB 3.8 MB/s \n",
            "\u001b[?25hRequirement already satisfied: certifi in /usr/local/lib/python3.7/dist-packages (from urllib3[secure,socks]~=1.26->selenium) (2021.10.8)\n",
            "Collecting cryptography>=1.3.4\n",
            "  Downloading cryptography-36.0.1-cp36-abi3-manylinux_2_24_x86_64.whl (3.6 MB)\n",
            "\u001b[K     |████████████████████████████████| 3.6 MB 42.1 MB/s \n",
            "\u001b[?25hRequirement already satisfied: cffi>=1.12 in /usr/local/lib/python3.7/dist-packages (from cryptography>=1.3.4->urllib3[secure,socks]~=1.26->selenium) (1.15.0)\n",
            "Requirement already satisfied: pycparser in /usr/local/lib/python3.7/dist-packages (from cffi>=1.12->cryptography>=1.3.4->urllib3[secure,socks]~=1.26->selenium) (2.21)\n",
            "Collecting h11<1,>=0.9.0\n",
            "  Downloading h11-0.13.0-py3-none-any.whl (58 kB)\n",
            "\u001b[K     |████████████████████████████████| 58 kB 4.5 MB/s \n",
            "\u001b[?25hRequirement already satisfied: typing-extensions in /usr/local/lib/python3.7/dist-packages (from h11<1,>=0.9.0->wsproto>=0.14->trio-websocket~=0.9->selenium) (3.10.0.2)\n",
            "Requirement already satisfied: pytz>=2017.3 in /usr/local/lib/python3.7/dist-packages (from pandas) (2018.9)\n",
            "Requirement already satisfied: python-dateutil>=2.7.3 in /usr/local/lib/python3.7/dist-packages (from pandas) (2.8.2)\n",
            "Requirement already satisfied: six>=1.5 in /usr/local/lib/python3.7/dist-packages (from python-dateutil>=2.7.3->pandas) (1.15.0)\n",
            "Collecting pyproj>=2.2.0\n",
            "  Downloading pyproj-3.2.1-cp37-cp37m-manylinux2010_x86_64.whl (6.3 MB)\n",
            "\u001b[K     |████████████████████████████████| 6.3 MB 34.9 MB/s \n",
            "\u001b[?25hCollecting fiona>=1.8\n",
            "  Downloading Fiona-1.8.21-cp37-cp37m-manylinux2014_x86_64.whl (16.7 MB)\n",
            "\u001b[K     |████████████████████████████████| 16.7 MB 350 kB/s \n",
            "\u001b[?25hRequirement already satisfied: shapely>=1.6 in /usr/local/lib/python3.7/dist-packages (from geopandas) (1.8.1)\n",
            "Collecting munch\n",
            "  Downloading munch-2.5.0-py2.py3-none-any.whl (10 kB)\n",
            "Requirement already satisfied: click>=4.0 in /usr/local/lib/python3.7/dist-packages (from fiona>=1.8->geopandas) (7.1.2)\n",
            "Collecting cligj>=0.5\n",
            "  Downloading cligj-0.7.2-py3-none-any.whl (7.1 kB)\n",
            "Collecting click-plugins>=1.0\n",
            "  Downloading click_plugins-1.1.1-py2.py3-none-any.whl (7.5 kB)\n",
            "Requirement already satisfied: setuptools in /usr/local/lib/python3.7/dist-packages (from fiona>=1.8->geopandas) (57.4.0)\n",
            "Requirement already satisfied: packaging in /usr/local/lib/python3.7/dist-packages (from rioxarray) (21.3)\n",
            "Requirement already satisfied: xarray>=0.17 in /usr/local/lib/python3.7/dist-packages (from rioxarray) (0.18.2)\n",
            "Collecting rasterio\n",
            "  Downloading rasterio-1.2.10-cp37-cp37m-manylinux1_x86_64.whl (19.3 MB)\n",
            "\u001b[K     |████████████████████████████████| 19.3 MB 1.3 MB/s \n",
            "\u001b[?25hRequirement already satisfied: jinja2>=2.9 in /usr/local/lib/python3.7/dist-packages (from folium) (2.11.3)\n",
            "Requirement already satisfied: requests in /usr/local/lib/python3.7/dist-packages (from folium) (2.23.0)\n",
            "Requirement already satisfied: branca>=0.3.0 in /usr/local/lib/python3.7/dist-packages (from folium) (0.4.2)\n",
            "Requirement already satisfied: MarkupSafe>=0.23 in /usr/local/lib/python3.7/dist-packages (from jinja2>=2.9->folium) (2.0.1)\n",
            "Requirement already satisfied: pyparsing!=3.0.5,>=2.0.2 in /usr/local/lib/python3.7/dist-packages (from packaging->rioxarray) (3.0.7)\n",
            "Collecting affine\n",
            "  Downloading affine-2.3.0-py2.py3-none-any.whl (15 kB)\n",
            "Collecting snuggs>=1.4.1\n",
            "  Downloading snuggs-1.4.7-py3-none-any.whl (5.4 kB)\n",
            "Requirement already satisfied: chardet<4,>=3.0.2 in /usr/local/lib/python3.7/dist-packages (from requests->folium) (3.0.4)\n",
            "Collecting requests\n",
            "  Downloading requests-2.27.1-py2.py3-none-any.whl (63 kB)\n",
            "\u001b[K     |████████████████████████████████| 63 kB 1.4 MB/s \n",
            "\u001b[?25hRequirement already satisfied: charset-normalizer~=2.0.0 in /usr/local/lib/python3.7/dist-packages (from requests->folium) (2.0.12)\n",
            "Building wheels for collected packages: rioxarray\n",
            "  Building wheel for rioxarray (PEP 517) ... \u001b[?25l\u001b[?25hdone\n",
            "  Created wheel for rioxarray: filename=rioxarray-0.9.1-py3-none-any.whl size=54611 sha256=393a7bb41e2e4e96572df3c7d4408e65a30c4dde07e4402b8fde6b13e1a13b65\n",
            "  Stored in directory: /root/.cache/pip/wheels/07/da/9e/1cc57b2e7a29a206893db83e984a341e2e94378263e0798229\n",
            "Successfully built rioxarray\n",
            "Installing collected packages: sniffio, outcome, h11, cryptography, async-generator, wsproto, urllib3, trio, snuggs, pyOpenSSL, munch, cligj, click-plugins, affine, trio-websocket, requests, rasterio, pyproj, fiona, selenium, rioxarray, geopandas, folium\n",
            "  Attempting uninstall: urllib3\n",
            "    Found existing installation: urllib3 1.24.3\n",
            "    Uninstalling urllib3-1.24.3:\n",
            "      Successfully uninstalled urllib3-1.24.3\n",
            "  Attempting uninstall: requests\n",
            "    Found existing installation: requests 2.23.0\n",
            "    Uninstalling requests-2.23.0:\n",
            "      Successfully uninstalled requests-2.23.0\n",
            "  Attempting uninstall: folium\n",
            "    Found existing installation: folium 0.8.3\n",
            "    Uninstalling folium-0.8.3:\n",
            "      Successfully uninstalled folium-0.8.3\n",
            "\u001b[31mERROR: pip's dependency resolver does not currently take into account all the packages that are installed. This behaviour is the source of the following dependency conflicts.\n",
            "google-colab 1.0.0 requires requests~=2.23.0, but you have requests 2.27.1 which is incompatible.\n",
            "datascience 0.10.6 requires folium==0.2.1, but you have folium 0.12.1.post1 which is incompatible.\u001b[0m\n",
            "Successfully installed affine-2.3.0 async-generator-1.10 click-plugins-1.1.1 cligj-0.7.2 cryptography-36.0.1 fiona-1.8.21 folium-0.12.1.post1 geopandas-0.10.2 h11-0.13.0 munch-2.5.0 outcome-1.1.0 pyOpenSSL-22.0.0 pyproj-3.2.1 rasterio-1.2.10 requests-2.27.1 rioxarray-0.9.1 selenium-4.1.1 sniffio-1.2.0 snuggs-1.4.7 trio-0.20.0 trio-websocket-0.9.2 urllib3-1.26.8 wsproto-1.0.0\n",
            "Collecting dataretrieval\n",
            "  Downloading dataretrieval-0.7-py3-none-any.whl (16 kB)\n",
            "Requirement already satisfied: requests in /usr/local/lib/python3.7/dist-packages (from dataretrieval) (2.27.1)\n",
            "Requirement already satisfied: pandas in /usr/local/lib/python3.7/dist-packages (from dataretrieval) (1.3.5)\n",
            "Requirement already satisfied: numpy>=1.17.3 in /usr/local/lib/python3.7/dist-packages (from pandas->dataretrieval) (1.21.5)\n",
            "Requirement already satisfied: pytz>=2017.3 in /usr/local/lib/python3.7/dist-packages (from pandas->dataretrieval) (2018.9)\n",
            "Requirement already satisfied: python-dateutil>=2.7.3 in /usr/local/lib/python3.7/dist-packages (from pandas->dataretrieval) (2.8.2)\n",
            "Requirement already satisfied: six>=1.5 in /usr/local/lib/python3.7/dist-packages (from python-dateutil>=2.7.3->pandas->dataretrieval) (1.15.0)\n",
            "Requirement already satisfied: certifi>=2017.4.17 in /usr/local/lib/python3.7/dist-packages (from requests->dataretrieval) (2021.10.8)\n",
            "Requirement already satisfied: urllib3<1.27,>=1.21.1 in /usr/local/lib/python3.7/dist-packages (from requests->dataretrieval) (1.26.8)\n",
            "Requirement already satisfied: charset-normalizer~=2.0.0 in /usr/local/lib/python3.7/dist-packages (from requests->dataretrieval) (2.0.12)\n",
            "Requirement already satisfied: idna<4,>=2.5 in /usr/local/lib/python3.7/dist-packages (from requests->dataretrieval) (2.10)\n",
            "Installing collected packages: dataretrieval\n",
            "Successfully installed dataretrieval-0.7\n",
            "Reading package lists... Done\n",
            "Building dependency tree       \n",
            "Reading state information... Done\n",
            "The following package was automatically installed and is no longer required:\n",
            "  libnvidia-common-470\n",
            "Use 'apt autoremove' to remove it.\n",
            "The following additional packages will be installed:\n",
            "  chromium-browser chromium-browser-l10n chromium-codecs-ffmpeg-extra\n",
            "Suggested packages:\n",
            "  webaccounts-chromium-extension unity-chromium-extension\n",
            "The following NEW packages will be installed:\n",
            "  chromium-browser chromium-browser-l10n chromium-chromedriver\n",
            "  chromium-codecs-ffmpeg-extra\n",
            "0 upgraded, 4 newly installed, 0 to remove and 39 not upgraded.\n",
            "Need to get 95.3 MB of archives.\n",
            "After this operation, 327 MB of additional disk space will be used.\n",
            "Get:1 http://archive.ubuntu.com/ubuntu bionic-updates/universe amd64 chromium-codecs-ffmpeg-extra amd64 97.0.4692.71-0ubuntu0.18.04.1 [1,142 kB]\n",
            "Get:2 http://archive.ubuntu.com/ubuntu bionic-updates/universe amd64 chromium-browser amd64 97.0.4692.71-0ubuntu0.18.04.1 [84.7 MB]\n",
            "Get:3 http://archive.ubuntu.com/ubuntu bionic-updates/universe amd64 chromium-browser-l10n all 97.0.4692.71-0ubuntu0.18.04.1 [4,370 kB]\n",
            "Get:4 http://archive.ubuntu.com/ubuntu bionic-updates/universe amd64 chromium-chromedriver amd64 97.0.4692.71-0ubuntu0.18.04.1 [5,055 kB]\n",
            "Fetched 95.3 MB in 10s (9,349 kB/s)\n",
            "Selecting previously unselected package chromium-codecs-ffmpeg-extra.\n",
            "(Reading database ... 155320 files and directories currently installed.)\n",
            "Preparing to unpack .../chromium-codecs-ffmpeg-extra_97.0.4692.71-0ubuntu0.18.04.1_amd64.deb ...\n",
            "Unpacking chromium-codecs-ffmpeg-extra (97.0.4692.71-0ubuntu0.18.04.1) ...\n",
            "Selecting previously unselected package chromium-browser.\n",
            "Preparing to unpack .../chromium-browser_97.0.4692.71-0ubuntu0.18.04.1_amd64.deb ...\n",
            "Unpacking chromium-browser (97.0.4692.71-0ubuntu0.18.04.1) ...\n",
            "Selecting previously unselected package chromium-browser-l10n.\n",
            "Preparing to unpack .../chromium-browser-l10n_97.0.4692.71-0ubuntu0.18.04.1_all.deb ...\n",
            "Unpacking chromium-browser-l10n (97.0.4692.71-0ubuntu0.18.04.1) ...\n",
            "Selecting previously unselected package chromium-chromedriver.\n",
            "Preparing to unpack .../chromium-chromedriver_97.0.4692.71-0ubuntu0.18.04.1_amd64.deb ...\n",
            "Unpacking chromium-chromedriver (97.0.4692.71-0ubuntu0.18.04.1) ...\n",
            "Setting up chromium-codecs-ffmpeg-extra (97.0.4692.71-0ubuntu0.18.04.1) ...\n",
            "Setting up chromium-browser (97.0.4692.71-0ubuntu0.18.04.1) ...\n",
            "update-alternatives: using /usr/bin/chromium-browser to provide /usr/bin/x-www-browser (x-www-browser) in auto mode\n",
            "update-alternatives: using /usr/bin/chromium-browser to provide /usr/bin/gnome-www-browser (gnome-www-browser) in auto mode\n",
            "Setting up chromium-chromedriver (97.0.4692.71-0ubuntu0.18.04.1) ...\n",
            "Setting up chromium-browser-l10n (97.0.4692.71-0ubuntu0.18.04.1) ...\n",
            "Processing triggers for man-db (2.8.3-2ubuntu0.1) ...\n",
            "Processing triggers for hicolor-icon-theme (0.17-2) ...\n",
            "Processing triggers for mime-support (3.60ubuntu1) ...\n",
            "Processing triggers for libc-bin (2.27-3ubuntu1.3) ...\n",
            "/sbin/ldconfig.real: /usr/local/lib/python3.7/dist-packages/ideep4py/lib/libmkldnn.so.0 is not a symbolic link\n",
            "\n"
          ]
        }
      ]
    },
    {
      "cell_type": "code",
      "source": [
        "# Import the functions for downloading data from NWIS\n",
        "import dataretrieval.nwis as nwis\n",
        "\n",
        "# Specify the USGS site code\n",
        "site = '03339000'\n",
        "\n",
        "# Get instantaneous values (iv)\n",
        "df = nwis.get_record(sites=site, service='dv', start='2020-10-01', end='2021-09-30')\n",
        "df"
      ],
      "metadata": {
        "colab": {
          "base_uri": "https://localhost:8080/",
          "height": 674
        },
        "id": "GINSG8Y2IyqQ",
        "outputId": "0e93da76-b25d-4d5a-caa8-dc914e5c97de"
      },
      "execution_count": 2,
      "outputs": [
        {
          "output_type": "execute_result",
          "data": {
            "text/html": [
              "\n",
              "  <div id=\"df-3b9982ff-235b-469e-b969-e7db04a7c7e1\">\n",
              "    <div class=\"colab-df-container\">\n",
              "      <div>\n",
              "<style scoped>\n",
              "    .dataframe tbody tr th:only-of-type {\n",
              "        vertical-align: middle;\n",
              "    }\n",
              "\n",
              "    .dataframe tbody tr th {\n",
              "        vertical-align: top;\n",
              "    }\n",
              "\n",
              "    .dataframe thead th {\n",
              "        text-align: right;\n",
              "    }\n",
              "</style>\n",
              "<table border=\"1\" class=\"dataframe\">\n",
              "  <thead>\n",
              "    <tr style=\"text-align: right;\">\n",
              "      <th></th>\n",
              "      <th>00010_Mean</th>\n",
              "      <th>00010_Mean_cd</th>\n",
              "      <th>site_no</th>\n",
              "      <th>00060_Mean</th>\n",
              "      <th>00060_Mean_cd</th>\n",
              "      <th>00065_Mean</th>\n",
              "      <th>00065_Mean_cd</th>\n",
              "      <th>00095_Mean</th>\n",
              "      <th>00095_Mean_cd</th>\n",
              "      <th>00300_Minimum</th>\n",
              "      <th>00300_Minimum_cd</th>\n",
              "      <th>00300_Mean</th>\n",
              "      <th>00300_Mean_cd</th>\n",
              "      <th>00400_Median</th>\n",
              "      <th>00400_Median_cd</th>\n",
              "      <th>51289_Maximum</th>\n",
              "      <th>51289_Maximum_cd</th>\n",
              "      <th>51289_Minimum</th>\n",
              "      <th>51289_Minimum_cd</th>\n",
              "      <th>51289_Mean</th>\n",
              "      <th>51289_Mean_cd</th>\n",
              "      <th>63680_ysi_Maximum</th>\n",
              "      <th>63680_ysi_Maximum_cd</th>\n",
              "      <th>63680_hach_Maximum</th>\n",
              "      <th>63680_hach_Maximum_cd</th>\n",
              "      <th>63680_ysi_Minimum</th>\n",
              "      <th>63680_ysi_Minimum_cd</th>\n",
              "      <th>63680_hach_Minimum</th>\n",
              "      <th>63680_hach_Minimum_cd</th>\n",
              "      <th>63680_hach_Mean</th>\n",
              "      <th>63680_hach_Mean_cd</th>\n",
              "      <th>63680_ysi_Mean</th>\n",
              "      <th>63680_ysi_Mean_cd</th>\n",
              "      <th>91049_Mean</th>\n",
              "      <th>91049_Mean_cd</th>\n",
              "      <th>99133_Maximum</th>\n",
              "      <th>99133_Maximum_cd</th>\n",
              "      <th>99133_Minimum</th>\n",
              "      <th>99133_Minimum_cd</th>\n",
              "      <th>99133_Mean</th>\n",
              "      <th>99133_Mean_cd</th>\n",
              "    </tr>\n",
              "    <tr>\n",
              "      <th>datetime</th>\n",
              "      <th></th>\n",
              "      <th></th>\n",
              "      <th></th>\n",
              "      <th></th>\n",
              "      <th></th>\n",
              "      <th></th>\n",
              "      <th></th>\n",
              "      <th></th>\n",
              "      <th></th>\n",
              "      <th></th>\n",
              "      <th></th>\n",
              "      <th></th>\n",
              "      <th></th>\n",
              "      <th></th>\n",
              "      <th></th>\n",
              "      <th></th>\n",
              "      <th></th>\n",
              "      <th></th>\n",
              "      <th></th>\n",
              "      <th></th>\n",
              "      <th></th>\n",
              "      <th></th>\n",
              "      <th></th>\n",
              "      <th></th>\n",
              "      <th></th>\n",
              "      <th></th>\n",
              "      <th></th>\n",
              "      <th></th>\n",
              "      <th></th>\n",
              "      <th></th>\n",
              "      <th></th>\n",
              "      <th></th>\n",
              "      <th></th>\n",
              "      <th></th>\n",
              "      <th></th>\n",
              "      <th></th>\n",
              "      <th></th>\n",
              "      <th></th>\n",
              "      <th></th>\n",
              "      <th></th>\n",
              "      <th></th>\n",
              "    </tr>\n",
              "  </thead>\n",
              "  <tbody>\n",
              "    <tr>\n",
              "      <th>2020-10-01 00:00:00+00:00</th>\n",
              "      <td>14.9</td>\n",
              "      <td>A</td>\n",
              "      <td>03339000</td>\n",
              "      <td>75.7</td>\n",
              "      <td>A</td>\n",
              "      <td>2.04</td>\n",
              "      <td>A</td>\n",
              "      <td>672.0</td>\n",
              "      <td>A</td>\n",
              "      <td>8.9</td>\n",
              "      <td>A</td>\n",
              "      <td>11.0</td>\n",
              "      <td>A</td>\n",
              "      <td>8.3</td>\n",
              "      <td>A</td>\n",
              "      <td>NaN</td>\n",
              "      <td>NaN</td>\n",
              "      <td>NaN</td>\n",
              "      <td>NaN</td>\n",
              "      <td>NaN</td>\n",
              "      <td>NaN</td>\n",
              "      <td>4.8</td>\n",
              "      <td>A</td>\n",
              "      <td>13.4</td>\n",
              "      <td>A</td>\n",
              "      <td>2.8</td>\n",
              "      <td>A</td>\n",
              "      <td>4.2</td>\n",
              "      <td>A</td>\n",
              "      <td>5.5</td>\n",
              "      <td>A</td>\n",
              "      <td>3.7</td>\n",
              "      <td>A</td>\n",
              "      <td>1510.0</td>\n",
              "      <td>P</td>\n",
              "      <td>4.1</td>\n",
              "      <td>A</td>\n",
              "      <td>3.3</td>\n",
              "      <td>A</td>\n",
              "      <td>3.7</td>\n",
              "      <td>A</td>\n",
              "    </tr>\n",
              "    <tr>\n",
              "      <th>2020-10-02 00:00:00+00:00</th>\n",
              "      <td>14.5</td>\n",
              "      <td>A</td>\n",
              "      <td>03339000</td>\n",
              "      <td>66.0</td>\n",
              "      <td>A</td>\n",
              "      <td>1.99</td>\n",
              "      <td>A</td>\n",
              "      <td>678.0</td>\n",
              "      <td>A</td>\n",
              "      <td>9.2</td>\n",
              "      <td>A</td>\n",
              "      <td>11.3</td>\n",
              "      <td>A</td>\n",
              "      <td>8.3</td>\n",
              "      <td>A</td>\n",
              "      <td>NaN</td>\n",
              "      <td>NaN</td>\n",
              "      <td>NaN</td>\n",
              "      <td>NaN</td>\n",
              "      <td>NaN</td>\n",
              "      <td>NaN</td>\n",
              "      <td>4.6</td>\n",
              "      <td>A</td>\n",
              "      <td>9.1</td>\n",
              "      <td>A</td>\n",
              "      <td>2.7</td>\n",
              "      <td>A</td>\n",
              "      <td>3.9</td>\n",
              "      <td>A</td>\n",
              "      <td>5.4</td>\n",
              "      <td>A</td>\n",
              "      <td>3.6</td>\n",
              "      <td>A</td>\n",
              "      <td>1450.0</td>\n",
              "      <td>P</td>\n",
              "      <td>4.2</td>\n",
              "      <td>A</td>\n",
              "      <td>3.8</td>\n",
              "      <td>A</td>\n",
              "      <td>4.1</td>\n",
              "      <td>A</td>\n",
              "    </tr>\n",
              "    <tr>\n",
              "      <th>2020-10-03 00:00:00+00:00</th>\n",
              "      <td>14.2</td>\n",
              "      <td>A</td>\n",
              "      <td>03339000</td>\n",
              "      <td>60.2</td>\n",
              "      <td>A</td>\n",
              "      <td>1.96</td>\n",
              "      <td>A</td>\n",
              "      <td>678.0</td>\n",
              "      <td>A</td>\n",
              "      <td>9.4</td>\n",
              "      <td>A</td>\n",
              "      <td>11.5</td>\n",
              "      <td>A</td>\n",
              "      <td>8.3</td>\n",
              "      <td>A</td>\n",
              "      <td>NaN</td>\n",
              "      <td>NaN</td>\n",
              "      <td>NaN</td>\n",
              "      <td>NaN</td>\n",
              "      <td>NaN</td>\n",
              "      <td>NaN</td>\n",
              "      <td>4.9</td>\n",
              "      <td>A</td>\n",
              "      <td>10.8</td>\n",
              "      <td>A</td>\n",
              "      <td>2.5</td>\n",
              "      <td>A</td>\n",
              "      <td>3.8</td>\n",
              "      <td>A</td>\n",
              "      <td>4.9</td>\n",
              "      <td>A</td>\n",
              "      <td>3.2</td>\n",
              "      <td>A</td>\n",
              "      <td>1110.0</td>\n",
              "      <td>P</td>\n",
              "      <td>3.8</td>\n",
              "      <td>A</td>\n",
              "      <td>3.0</td>\n",
              "      <td>A</td>\n",
              "      <td>3.4</td>\n",
              "      <td>A</td>\n",
              "    </tr>\n",
              "    <tr>\n",
              "      <th>2020-10-04 00:00:00+00:00</th>\n",
              "      <td>14.4</td>\n",
              "      <td>A</td>\n",
              "      <td>03339000</td>\n",
              "      <td>68.8</td>\n",
              "      <td>A</td>\n",
              "      <td>2.01</td>\n",
              "      <td>A</td>\n",
              "      <td>705.0</td>\n",
              "      <td>A</td>\n",
              "      <td>9.1</td>\n",
              "      <td>A</td>\n",
              "      <td>11.2</td>\n",
              "      <td>A</td>\n",
              "      <td>8.3</td>\n",
              "      <td>A</td>\n",
              "      <td>NaN</td>\n",
              "      <td>NaN</td>\n",
              "      <td>NaN</td>\n",
              "      <td>NaN</td>\n",
              "      <td>NaN</td>\n",
              "      <td>NaN</td>\n",
              "      <td>4.6</td>\n",
              "      <td>A</td>\n",
              "      <td>6.2</td>\n",
              "      <td>A</td>\n",
              "      <td>2.7</td>\n",
              "      <td>A</td>\n",
              "      <td>3.9</td>\n",
              "      <td>A</td>\n",
              "      <td>4.7</td>\n",
              "      <td>A</td>\n",
              "      <td>3.3</td>\n",
              "      <td>A</td>\n",
              "      <td>1030.0</td>\n",
              "      <td>P</td>\n",
              "      <td>3.0</td>\n",
              "      <td>A</td>\n",
              "      <td>2.6</td>\n",
              "      <td>A</td>\n",
              "      <td>2.8</td>\n",
              "      <td>A</td>\n",
              "    </tr>\n",
              "    <tr>\n",
              "      <th>2020-10-05 00:00:00+00:00</th>\n",
              "      <td>13.4</td>\n",
              "      <td>A</td>\n",
              "      <td>03339000</td>\n",
              "      <td>66.8</td>\n",
              "      <td>A</td>\n",
              "      <td>1.99</td>\n",
              "      <td>A</td>\n",
              "      <td>718.0</td>\n",
              "      <td>A</td>\n",
              "      <td>9.6</td>\n",
              "      <td>A</td>\n",
              "      <td>11.6</td>\n",
              "      <td>A</td>\n",
              "      <td>8.3</td>\n",
              "      <td>A</td>\n",
              "      <td>NaN</td>\n",
              "      <td>NaN</td>\n",
              "      <td>NaN</td>\n",
              "      <td>NaN</td>\n",
              "      <td>NaN</td>\n",
              "      <td>NaN</td>\n",
              "      <td>4.0</td>\n",
              "      <td>A</td>\n",
              "      <td>5.5</td>\n",
              "      <td>A</td>\n",
              "      <td>2.4</td>\n",
              "      <td>A</td>\n",
              "      <td>3.5</td>\n",
              "      <td>A</td>\n",
              "      <td>4.4</td>\n",
              "      <td>A</td>\n",
              "      <td>3.1</td>\n",
              "      <td>A</td>\n",
              "      <td>1080.0</td>\n",
              "      <td>P</td>\n",
              "      <td>3.4</td>\n",
              "      <td>A</td>\n",
              "      <td>2.7</td>\n",
              "      <td>A</td>\n",
              "      <td>3.0</td>\n",
              "      <td>A</td>\n",
              "    </tr>\n",
              "    <tr>\n",
              "      <th>...</th>\n",
              "      <td>...</td>\n",
              "      <td>...</td>\n",
              "      <td>...</td>\n",
              "      <td>...</td>\n",
              "      <td>...</td>\n",
              "      <td>...</td>\n",
              "      <td>...</td>\n",
              "      <td>...</td>\n",
              "      <td>...</td>\n",
              "      <td>...</td>\n",
              "      <td>...</td>\n",
              "      <td>...</td>\n",
              "      <td>...</td>\n",
              "      <td>...</td>\n",
              "      <td>...</td>\n",
              "      <td>...</td>\n",
              "      <td>...</td>\n",
              "      <td>...</td>\n",
              "      <td>...</td>\n",
              "      <td>...</td>\n",
              "      <td>...</td>\n",
              "      <td>...</td>\n",
              "      <td>...</td>\n",
              "      <td>...</td>\n",
              "      <td>...</td>\n",
              "      <td>...</td>\n",
              "      <td>...</td>\n",
              "      <td>...</td>\n",
              "      <td>...</td>\n",
              "      <td>...</td>\n",
              "      <td>...</td>\n",
              "      <td>...</td>\n",
              "      <td>...</td>\n",
              "      <td>...</td>\n",
              "      <td>...</td>\n",
              "      <td>...</td>\n",
              "      <td>...</td>\n",
              "      <td>...</td>\n",
              "      <td>...</td>\n",
              "      <td>...</td>\n",
              "      <td>...</td>\n",
              "    </tr>\n",
              "    <tr>\n",
              "      <th>2021-09-26 00:00:00+00:00</th>\n",
              "      <td>18.7</td>\n",
              "      <td>A</td>\n",
              "      <td>03339000</td>\n",
              "      <td>174.0</td>\n",
              "      <td>A</td>\n",
              "      <td>2.52</td>\n",
              "      <td>A</td>\n",
              "      <td>571.0</td>\n",
              "      <td>A</td>\n",
              "      <td>NaN</td>\n",
              "      <td>NaN</td>\n",
              "      <td>NaN</td>\n",
              "      <td>NaN</td>\n",
              "      <td>8.3</td>\n",
              "      <td>A</td>\n",
              "      <td>NaN</td>\n",
              "      <td>NaN</td>\n",
              "      <td>NaN</td>\n",
              "      <td>NaN</td>\n",
              "      <td>NaN</td>\n",
              "      <td>NaN</td>\n",
              "      <td>18.8</td>\n",
              "      <td>A</td>\n",
              "      <td>25.1</td>\n",
              "      <td>A</td>\n",
              "      <td>8.9</td>\n",
              "      <td>A</td>\n",
              "      <td>10.4</td>\n",
              "      <td>A</td>\n",
              "      <td>15.9</td>\n",
              "      <td>A</td>\n",
              "      <td>12.6</td>\n",
              "      <td>A</td>\n",
              "      <td>2080.0</td>\n",
              "      <td>P</td>\n",
              "      <td>2.5</td>\n",
              "      <td>A</td>\n",
              "      <td>2.1</td>\n",
              "      <td>A</td>\n",
              "      <td>2.2</td>\n",
              "      <td>A</td>\n",
              "    </tr>\n",
              "    <tr>\n",
              "      <th>2021-09-27 00:00:00+00:00</th>\n",
              "      <td>20.2</td>\n",
              "      <td>A</td>\n",
              "      <td>03339000</td>\n",
              "      <td>155.0</td>\n",
              "      <td>A</td>\n",
              "      <td>2.46</td>\n",
              "      <td>A</td>\n",
              "      <td>578.0</td>\n",
              "      <td>A</td>\n",
              "      <td>NaN</td>\n",
              "      <td>NaN</td>\n",
              "      <td>NaN</td>\n",
              "      <td>NaN</td>\n",
              "      <td>8.3</td>\n",
              "      <td>A</td>\n",
              "      <td>NaN</td>\n",
              "      <td>NaN</td>\n",
              "      <td>NaN</td>\n",
              "      <td>NaN</td>\n",
              "      <td>NaN</td>\n",
              "      <td>NaN</td>\n",
              "      <td>18.0</td>\n",
              "      <td>A</td>\n",
              "      <td>22.1</td>\n",
              "      <td>A</td>\n",
              "      <td>8.8</td>\n",
              "      <td>A</td>\n",
              "      <td>10.1</td>\n",
              "      <td>A</td>\n",
              "      <td>14.8</td>\n",
              "      <td>A</td>\n",
              "      <td>11.7</td>\n",
              "      <td>A</td>\n",
              "      <td>2050.0</td>\n",
              "      <td>P</td>\n",
              "      <td>2.6</td>\n",
              "      <td>A</td>\n",
              "      <td>2.2</td>\n",
              "      <td>A</td>\n",
              "      <td>2.4</td>\n",
              "      <td>A</td>\n",
              "    </tr>\n",
              "    <tr>\n",
              "      <th>2021-09-28 00:00:00+00:00</th>\n",
              "      <td>21.6</td>\n",
              "      <td>A</td>\n",
              "      <td>03339000</td>\n",
              "      <td>132.0</td>\n",
              "      <td>A</td>\n",
              "      <td>2.37</td>\n",
              "      <td>A</td>\n",
              "      <td>587.0</td>\n",
              "      <td>A</td>\n",
              "      <td>NaN</td>\n",
              "      <td>NaN</td>\n",
              "      <td>NaN</td>\n",
              "      <td>NaN</td>\n",
              "      <td>8.3</td>\n",
              "      <td>A</td>\n",
              "      <td>NaN</td>\n",
              "      <td>NaN</td>\n",
              "      <td>NaN</td>\n",
              "      <td>NaN</td>\n",
              "      <td>NaN</td>\n",
              "      <td>NaN</td>\n",
              "      <td>18.0</td>\n",
              "      <td>A</td>\n",
              "      <td>21.0</td>\n",
              "      <td>A</td>\n",
              "      <td>7.4</td>\n",
              "      <td>A</td>\n",
              "      <td>9.0</td>\n",
              "      <td>A</td>\n",
              "      <td>13.5</td>\n",
              "      <td>A</td>\n",
              "      <td>10.7</td>\n",
              "      <td>A</td>\n",
              "      <td>1600.0</td>\n",
              "      <td>P</td>\n",
              "      <td>2.4</td>\n",
              "      <td>A</td>\n",
              "      <td>2.1</td>\n",
              "      <td>A</td>\n",
              "      <td>2.2</td>\n",
              "      <td>A</td>\n",
              "    </tr>\n",
              "    <tr>\n",
              "      <th>2021-09-29 00:00:00+00:00</th>\n",
              "      <td>22.3</td>\n",
              "      <td>A</td>\n",
              "      <td>03339000</td>\n",
              "      <td>117.0</td>\n",
              "      <td>A</td>\n",
              "      <td>2.31</td>\n",
              "      <td>A</td>\n",
              "      <td>614.0</td>\n",
              "      <td>A</td>\n",
              "      <td>NaN</td>\n",
              "      <td>NaN</td>\n",
              "      <td>NaN</td>\n",
              "      <td>NaN</td>\n",
              "      <td>8.3</td>\n",
              "      <td>A</td>\n",
              "      <td>NaN</td>\n",
              "      <td>NaN</td>\n",
              "      <td>NaN</td>\n",
              "      <td>NaN</td>\n",
              "      <td>NaN</td>\n",
              "      <td>NaN</td>\n",
              "      <td>15.0</td>\n",
              "      <td>A</td>\n",
              "      <td>22.6</td>\n",
              "      <td>A</td>\n",
              "      <td>6.7</td>\n",
              "      <td>A</td>\n",
              "      <td>8.3</td>\n",
              "      <td>A</td>\n",
              "      <td>12.4</td>\n",
              "      <td>A</td>\n",
              "      <td>9.8</td>\n",
              "      <td>A</td>\n",
              "      <td>1430.0</td>\n",
              "      <td>P</td>\n",
              "      <td>2.4</td>\n",
              "      <td>A</td>\n",
              "      <td>2.2</td>\n",
              "      <td>A</td>\n",
              "      <td>2.3</td>\n",
              "      <td>A</td>\n",
              "    </tr>\n",
              "    <tr>\n",
              "      <th>2021-09-30 00:00:00+00:00</th>\n",
              "      <td>22.6</td>\n",
              "      <td>A</td>\n",
              "      <td>03339000</td>\n",
              "      <td>111.0</td>\n",
              "      <td>A</td>\n",
              "      <td>2.28</td>\n",
              "      <td>A</td>\n",
              "      <td>628.0</td>\n",
              "      <td>A</td>\n",
              "      <td>NaN</td>\n",
              "      <td>NaN</td>\n",
              "      <td>NaN</td>\n",
              "      <td>NaN</td>\n",
              "      <td>8.3</td>\n",
              "      <td>A</td>\n",
              "      <td>NaN</td>\n",
              "      <td>NaN</td>\n",
              "      <td>NaN</td>\n",
              "      <td>NaN</td>\n",
              "      <td>NaN</td>\n",
              "      <td>NaN</td>\n",
              "      <td>14.5</td>\n",
              "      <td>A</td>\n",
              "      <td>17.6</td>\n",
              "      <td>A</td>\n",
              "      <td>5.6</td>\n",
              "      <td>A</td>\n",
              "      <td>6.8</td>\n",
              "      <td>A</td>\n",
              "      <td>10.8</td>\n",
              "      <td>A</td>\n",
              "      <td>8.6</td>\n",
              "      <td>A</td>\n",
              "      <td>1290.0</td>\n",
              "      <td>P</td>\n",
              "      <td>2.2</td>\n",
              "      <td>A</td>\n",
              "      <td>2.1</td>\n",
              "      <td>A</td>\n",
              "      <td>2.2</td>\n",
              "      <td>A</td>\n",
              "    </tr>\n",
              "  </tbody>\n",
              "</table>\n",
              "<p>365 rows × 41 columns</p>\n",
              "</div>\n",
              "      <button class=\"colab-df-convert\" onclick=\"convertToInteractive('df-3b9982ff-235b-469e-b969-e7db04a7c7e1')\"\n",
              "              title=\"Convert this dataframe to an interactive table.\"\n",
              "              style=\"display:none;\">\n",
              "        \n",
              "  <svg xmlns=\"http://www.w3.org/2000/svg\" height=\"24px\"viewBox=\"0 0 24 24\"\n",
              "       width=\"24px\">\n",
              "    <path d=\"M0 0h24v24H0V0z\" fill=\"none\"/>\n",
              "    <path d=\"M18.56 5.44l.94 2.06.94-2.06 2.06-.94-2.06-.94-.94-2.06-.94 2.06-2.06.94zm-11 1L8.5 8.5l.94-2.06 2.06-.94-2.06-.94L8.5 2.5l-.94 2.06-2.06.94zm10 10l.94 2.06.94-2.06 2.06-.94-2.06-.94-.94-2.06-.94 2.06-2.06.94z\"/><path d=\"M17.41 7.96l-1.37-1.37c-.4-.4-.92-.59-1.43-.59-.52 0-1.04.2-1.43.59L10.3 9.45l-7.72 7.72c-.78.78-.78 2.05 0 2.83L4 21.41c.39.39.9.59 1.41.59.51 0 1.02-.2 1.41-.59l7.78-7.78 2.81-2.81c.8-.78.8-2.07 0-2.86zM5.41 20L4 18.59l7.72-7.72 1.47 1.35L5.41 20z\"/>\n",
              "  </svg>\n",
              "      </button>\n",
              "      \n",
              "  <style>\n",
              "    .colab-df-container {\n",
              "      display:flex;\n",
              "      flex-wrap:wrap;\n",
              "      gap: 12px;\n",
              "    }\n",
              "\n",
              "    .colab-df-convert {\n",
              "      background-color: #E8F0FE;\n",
              "      border: none;\n",
              "      border-radius: 50%;\n",
              "      cursor: pointer;\n",
              "      display: none;\n",
              "      fill: #1967D2;\n",
              "      height: 32px;\n",
              "      padding: 0 0 0 0;\n",
              "      width: 32px;\n",
              "    }\n",
              "\n",
              "    .colab-df-convert:hover {\n",
              "      background-color: #E2EBFA;\n",
              "      box-shadow: 0px 1px 2px rgba(60, 64, 67, 0.3), 0px 1px 3px 1px rgba(60, 64, 67, 0.15);\n",
              "      fill: #174EA6;\n",
              "    }\n",
              "\n",
              "    [theme=dark] .colab-df-convert {\n",
              "      background-color: #3B4455;\n",
              "      fill: #D2E3FC;\n",
              "    }\n",
              "\n",
              "    [theme=dark] .colab-df-convert:hover {\n",
              "      background-color: #434B5C;\n",
              "      box-shadow: 0px 1px 3px 1px rgba(0, 0, 0, 0.15);\n",
              "      filter: drop-shadow(0px 1px 2px rgba(0, 0, 0, 0.3));\n",
              "      fill: #FFFFFF;\n",
              "    }\n",
              "  </style>\n",
              "\n",
              "      <script>\n",
              "        const buttonEl =\n",
              "          document.querySelector('#df-3b9982ff-235b-469e-b969-e7db04a7c7e1 button.colab-df-convert');\n",
              "        buttonEl.style.display =\n",
              "          google.colab.kernel.accessAllowed ? 'block' : 'none';\n",
              "\n",
              "        async function convertToInteractive(key) {\n",
              "          const element = document.querySelector('#df-3b9982ff-235b-469e-b969-e7db04a7c7e1');\n",
              "          const dataTable =\n",
              "            await google.colab.kernel.invokeFunction('convertToInteractive',\n",
              "                                                     [key], {});\n",
              "          if (!dataTable) return;\n",
              "\n",
              "          const docLinkHtml = 'Like what you see? Visit the ' +\n",
              "            '<a target=\"_blank\" href=https://colab.research.google.com/notebooks/data_table.ipynb>data table notebook</a>'\n",
              "            + ' to learn more about interactive tables.';\n",
              "          element.innerHTML = '';\n",
              "          dataTable['output_type'] = 'display_data';\n",
              "          await google.colab.output.renderOutput(dataTable, element);\n",
              "          const docLink = document.createElement('div');\n",
              "          docLink.innerHTML = docLinkHtml;\n",
              "          element.appendChild(docLink);\n",
              "        }\n",
              "      </script>\n",
              "    </div>\n",
              "  </div>\n",
              "  "
            ],
            "text/plain": [
              "                           00010_Mean 00010_Mean_cd  ... 99133_Mean  99133_Mean_cd\n",
              "datetime                                             ...                          \n",
              "2020-10-01 00:00:00+00:00        14.9             A  ...        3.7              A\n",
              "2020-10-02 00:00:00+00:00        14.5             A  ...        4.1              A\n",
              "2020-10-03 00:00:00+00:00        14.2             A  ...        3.4              A\n",
              "2020-10-04 00:00:00+00:00        14.4             A  ...        2.8              A\n",
              "2020-10-05 00:00:00+00:00        13.4             A  ...        3.0              A\n",
              "...                               ...           ...  ...        ...            ...\n",
              "2021-09-26 00:00:00+00:00        18.7             A  ...        2.2              A\n",
              "2021-09-27 00:00:00+00:00        20.2             A  ...        2.4              A\n",
              "2021-09-28 00:00:00+00:00        21.6             A  ...        2.2              A\n",
              "2021-09-29 00:00:00+00:00        22.3             A  ...        2.3              A\n",
              "2021-09-30 00:00:00+00:00        22.6             A  ...        2.2              A\n",
              "\n",
              "[365 rows x 41 columns]"
            ]
          },
          "metadata": {},
          "execution_count": 2
        }
      ]
    },
    {
      "cell_type": "code",
      "source": [
        "# Simple plot\n",
        "df['00060_Mean'].plot()"
      ],
      "metadata": {
        "colab": {
          "base_uri": "https://localhost:8080/",
          "height": 309
        },
        "id": "gLz6ZR-0I0rC",
        "outputId": "07546952-556e-47ac-dc24-5b7e5ce2df9a"
      },
      "execution_count": 3,
      "outputs": [
        {
          "output_type": "execute_result",
          "data": {
            "text/plain": [
              "<matplotlib.axes._subplots.AxesSubplot at 0x7fd08008b990>"
            ]
          },
          "metadata": {},
          "execution_count": 3
        },
        {
          "output_type": "display_data",
          "data": {
            "image/png": "[encoded data removed]",
            "text/plain": [
              "<Figure size 432x288 with 1 Axes>"
            ]
          },
          "metadata": {
            "needs_background": "light"
          }
        }
      ]
    },
    {
      "cell_type": "markdown",
      "source": [
        "---------------\n",
        "## Question 1 (10 points)\n",
        "\n",
        "Make a new `jupyter notebook` called `lab7_submission.ipynb` and complete the following tasks:\n",
        "\n",
        "\n",
        "* Download daily values (i.e. `service='dv'`) for another station and time period of your choosing.\n",
        "\n",
        "\n",
        "\n",
        "* Plot one column\n",
        "\n",
        "\n",
        "\n",
        "* In a **markdown** cell below, describe what your plot shows\n",
        "\n",
        "---------------"
      ],
      "metadata": {
        "id": "TuSJkLgAJgon"
      }
    },
    {
      "cell_type": "code",
      "source": [
        "# Import the functions for downloading data from NWIS\n",
        "import dataretrieval.nwis as nwis\n",
        "\n",
        "# Specify the USGS site code\n",
        "# MINAM RIVER AT MINAM, OR\n",
        "site = '13331500'\n",
        "\n",
        "# Get instantaneous values (iv)\n",
        "df = nwis.get_record(sites=site, service='dv', start='2019-01-01', end='2021-10-01')"
      ],
      "metadata": {
        "id": "Rmfj6FCZJj9o"
      },
      "execution_count": 4,
      "outputs": []
    },
    {
      "cell_type": "code",
      "source": [
        "# Simple plot\n",
        "df['00060_Mean'].plot()"
      ],
      "metadata": {
        "colab": {
          "base_uri": "https://localhost:8080/",
          "height": 309
        },
        "id": "0k0CnDXxJrhp",
        "outputId": "08a73c40-2b3d-41ef-dd7d-29181f9c48af"
      },
      "execution_count": 5,
      "outputs": [
        {
          "output_type": "execute_result",
          "data": {
            "text/plain": [
              "<matplotlib.axes._subplots.AxesSubplot at 0x7fd0802468d0>"
            ]
          },
          "metadata": {},
          "execution_count": 5
        },
        {
          "output_type": "display_data",
          "data": {
            "image/png": "[encoded data removed]",
            "text/plain": [
              "<Figure size 432x288 with 1 Axes>"
            ]
          },
          "metadata": {
            "needs_background": "light"
          }
        }
      ]
    },
    {
      "cell_type": "markdown",
      "source": [
        "For my plot I chose a station in Eastern Oreogon, at the Minam river in Wallowa County. \n",
        "\n",
        "The plotted graph shows very seasonal pattern. The gauge records high value spikes during the spring months leading up to July, where sudden snow melt has flooded the Minam river. The spike then tends to immediately drops later during the summer months after July, as the river dries up without snow melt to feed it."
      ],
      "metadata": {
        "id": "hoMhteDIJyLo"
      }
    },
    {
      "cell_type": "markdown",
      "source": [
        "---------------\n",
        "## Question 2 (10 points)\n",
        "\n",
        "* Make an HTML table that contains the **site name**, **site number** and **mean daily discharge** between Oct 31, 2020 and Sep 30, 2021 (zero decimal places)** for **three** rivers in the US.\n",
        "\n",
        "HINT: the discharge parameter is `00060_Mean`. If the data from your site does not contain this column, try another site.\n",
        "\n",
        "--------------"
      ],
      "metadata": {
        "id": "Sv-8vLXMJ5Qv"
      }
    },
    {
      "cell_type": "code",
      "source": [
        "minam = '13331500'\n",
        "willamette = '14166000'\n",
        "mississippi = '07032000'"
      ],
      "metadata": {
        "id": "zbyHqfhaJ6kH"
      },
      "execution_count": 6,
      "outputs": []
    },
    {
      "cell_type": "code",
      "source": [
        "# Import the functions for downloading data from NWIS\n",
        "import dataretrieval.nwis as nwis\n",
        "\n",
        "# Specify the USGS site code\n",
        "site = '07032000'\n",
        "\n",
        "# Get instantaneous values (iv)\n",
        "df = nwis.get_record(sites=site, service='dv', start='2019-01-01', end='2021-10-01')\n",
        "\n",
        "df['00060_Mean'].mean()"
      ],
      "metadata": {
        "colab": {
          "base_uri": "https://localhost:8080/",
          "height": 0
        },
        "id": "AZITPjcoJ-jT",
        "outputId": "6d5326c8-16fb-4022-b7b4-bad2e899672e"
      },
      "execution_count": 7,
      "outputs": [
        {
          "output_type": "execute_result",
          "data": {
            "text/plain": [
              "784106.4676616916"
            ]
          },
          "metadata": {},
          "execution_count": 7
        }
      ]
    },
    {
      "cell_type": "markdown",
      "source": [
        "<table>\n",
        "  <tr>\n",
        "    <th>Site Name</th>\n",
        "    <th>Site Number</th>\n",
        "    <th>Mean Discharge for the Whole Year</th>\n",
        "  </tr>\n",
        "  <tr>\n",
        "    <td>Minam</td>\n",
        "    <td>13331500</td>\n",
        "    <td>460.91452736318405</td>\n",
        "  </tr>\n",
        "  <tr>\n",
        "    <td>Willamette</td>\n",
        "    <td>14166000</td>\n",
        "    <td>8699.512437810945</td>\n",
        "  </tr>\n",
        "     <tr>\n",
        "    <td>Mississippi</td>\n",
        "    <td>07032000</td>\n",
        "    <td>784106.4676616916</td>\n",
        "  </tr>\n",
        "</table>"
      ],
      "metadata": {
        "id": "odkKlhVqKBHD"
      }
    },
    {
      "cell_type": "markdown",
      "source": [
        "---------------\n",
        "## Question 3 (10 points)\n",
        "\n",
        "* Make a new map of the tallest mountains in Oregon but include a popup that displays the `Isolation` data as a **float**.\n",
        "---------------"
      ],
      "metadata": {
        "id": "SM8AmNqrKXc7"
      }
    },
    {
      "cell_type": "code",
      "source": [
        "# Import packages\n",
        "import numpy as np\n",
        "import pandas as pd\n",
        "import folium"
      ],
      "metadata": {
        "id": "aWc5ho2sKYvo"
      },
      "execution_count": 8,
      "outputs": []
    },
    {
      "cell_type": "code",
      "source": [
        "# Read HTML table data\n",
        "mountains = pd.read_html('https://en.wikipedia.org/wiki/List_of_mountain_peaks_of_Oregon')\n",
        "mountains"
      ],
      "metadata": {
        "colab": {
          "base_uri": "https://localhost:8080/",
          "height": 0
        },
        "id": "lKvYe1_LKa0A",
        "outputId": "c7145ccd-5a8d-4d20-97c4-7fa50a3e828d"
      },
      "execution_count": 9,
      "outputs": [
        {
          "output_type": "execute_result",
          "data": {
            "text/plain": [
              "[                                                   0\n",
              " 0  Map this section's coordinates using: OpenStre...\n",
              " 1                       Download coordinates as: KML,\n",
              "     Rank  ...                                           Location\n",
              " 0      1  ...  .mw-parser-output .geo-default,.mw-parser-outp...\n",
              " 1      2  ...    44°40′27″N 121°47′59″W﻿ / ﻿44.6743°N 121.7996°W\n",
              " 2      3  ...    44°06′13″N 121°46′09″W﻿ / ﻿44.1035°N 121.7693°W\n",
              " 3      4  ...    44°10′00″N 121°46′20″W﻿ / ﻿44.1666°N 121.7723°W\n",
              " 4      5  ...    44°08′54″N 121°47′02″W﻿ / ﻿44.1483°N 121.7840°W\n",
              " 5      6  ...    45°14′42″N 117°17′34″W﻿ / ﻿45.2450°N 117.2929°W\n",
              " 6      7  ...    42°38′11″N 118°34′36″W﻿ / ﻿42.6364°N 118.5767°W\n",
              " 7      8  ...    45°12′11″N 117°10′30″W﻿ / ﻿45.2030°N 117.1750°W\n",
              " 8      9  ...    45°18′17″N 117°20′43″W﻿ / ﻿45.3046°N 117.3452°W\n",
              " 9     10  ...    45°03′52″N 117°14′46″W﻿ / ﻿45.0644°N 117.2460°W\n",
              " 10    11  ...    42°26′40″N 122°18′56″W﻿ / ﻿42.4445°N 122.3156°W\n",
              " 11    12  ...    45°13′20″N 117°23′48″W﻿ / ﻿45.2223°N 117.3968°W\n",
              " 12    13  ...    43°09′10″N 122°03′59″W﻿ / ﻿43.1528°N 122.0665°W\n",
              " 13    14  ...    44°04′59″N 121°41′58″W﻿ / ﻿44.0830°N 121.6994°W\n",
              " 14    15  ...    44°49′00″N 118°06′14″W﻿ / ﻿44.8168°N 118.1039°W\n",
              " 15    16  ...    43°58′46″N 121°41′19″W﻿ / ﻿43.9794°N 121.6885°W\n",
              " 16    17  ...    44°18′44″N 118°43′00″W﻿ / ﻿44.3123°N 118.7166°W\n",
              " 17    18  ...    42°55′22″N 122°00′58″W﻿ / ﻿42.9229°N 122.0162°W\n",
              " 18    19  ...    43°31′15″N 122°08′59″W﻿ / ﻿43.5207°N 122.1496°W\n",
              " 19    20  ...    42°05′58″N 118°39′02″W﻿ / ﻿42.0995°N 118.6506°W\n",
              " 20    21  ...    42°03′46″N 120°14′27″W﻿ / ﻿42.0628°N 120.2408°W\n",
              " 21    22  ...    42°18′00″N 120°07′26″W﻿ / ﻿42.3001°N 120.1238°W\n",
              " 22    23  ...    43°09′18″N 122°13′12″W﻿ / ﻿43.1551°N 122.2200°W\n",
              " 23    24  ...    42°29′46″N 120°52′38″W﻿ / ﻿42.4960°N 120.8773°W\n",
              " 24    25  ...    42°18′56″N 122°05′15″W﻿ / ﻿42.3155°N 122.0876°W\n",
              " 25    26  ...    42°55′50″N 121°21′39″W﻿ / ﻿42.9306°N 121.3607°W\n",
              " 26    27  ...    44°42′50″N 118°33′42″W﻿ / ﻿44.7138°N 118.5617°W\n",
              " 27    28  ...    42°30′48″N 122°08′43″W﻿ / ﻿42.5134°N 122.1453°W\n",
              " 28    29  ...    44°17′20″N 118°29′43″W﻿ / ﻿44.2889°N 118.4954°W\n",
              " 29    30  ...    42°27′35″N 119°44′29″W﻿ / ﻿42.4597°N 119.7414°W\n",
              " 30    31  ...    43°41′21″N 121°15′18″W﻿ / ﻿43.6892°N 121.2549°W\n",
              " \n",
              " [31 rows x 7 columns],\n",
              "                                                    0\n",
              " 0  Map this section's coordinates using: OpenStre...\n",
              " 1                       Download coordinates as: KML,\n",
              "     Rank  ...                                         Location\n",
              " 0      1  ...  45°22′25″N 121°41′45″W﻿ / ﻿45.3735°N 121.6959°W\n",
              " 1      2  ...  45°14′42″N 117°17′34″W﻿ / ﻿45.2450°N 117.2929°W\n",
              " 2      3  ...  44°40′27″N 121°47′59″W﻿ / ﻿44.6743°N 121.7996°W\n",
              " 3      4  ...  44°06′13″N 121°46′09″W﻿ / ﻿44.1035°N 121.7693°W\n",
              " 4      5  ...  44°49′00″N 118°06′14″W﻿ / ﻿44.8168°N 118.1039°W\n",
              " 5      6  ...  42°26′40″N 122°18′56″W﻿ / ﻿42.4445°N 122.3156°W\n",
              " 6      7  ...  42°38′11″N 118°34′36″W﻿ / ﻿42.6364°N 118.5767°W\n",
              " 7      8  ...  44°18′44″N 118°43′00″W﻿ / ﻿44.3123°N 118.7166°W\n",
              " 8      9  ...  42°35′51″N 123°52′49″W﻿ / ﻿42.5976°N 123.8803°W\n",
              " 9     10  ...  42°29′46″N 120°52′38″W﻿ / ﻿42.4960°N 120.8773°W\n",
              " 10    11  ...  43°09′10″N 122°03′59″W﻿ / ﻿43.1528°N 122.0665°W\n",
              " 11    12  ...  44°30′16″N 123°33′08″W﻿ / ﻿44.5045°N 123.5523°W\n",
              " 12    13  ...  43°41′21″N 121°15′18″W﻿ / ﻿43.6892°N 121.2549°W\n",
              " 13    14  ...  42°55′50″N 121°21′39″W﻿ / ﻿42.9306°N 121.3607°W\n",
              " 14    15  ...  42°04′51″N 122°43′01″W﻿ / ﻿42.0807°N 122.7169°W\n",
              " 15    16  ...  43°31′15″N 122°08′59″W﻿ / ﻿43.5207°N 122.1496°W\n",
              " 16    17  ...  44°36′32″N 117°16′42″W﻿ / ﻿44.6089°N 117.2782°W\n",
              " 17    18  ...  42°18′56″N 122°05′15″W﻿ / ﻿42.3155°N 122.0876°W\n",
              " 18    19  ...  44°23′59″N 121°38′08″W﻿ / ﻿44.3997°N 121.6355°W\n",
              " 19    20  ...  42°05′58″N 118°39′02″W﻿ / ﻿42.0995°N 118.6506°W\n",
              " 20    21  ...  45°39′54″N 123°32′53″W﻿ / ﻿45.6649°N 123.5481°W\n",
              " 21    22  ...  42°55′22″N 122°00′58″W﻿ / ﻿42.9229°N 122.0162°W\n",
              " 22    23  ...  43°09′18″N 122°13′12″W﻿ / ﻿43.1551°N 122.2200°W\n",
              " 23    24  ...  44°42′50″N 118°33′42″W﻿ / ﻿44.7138°N 118.5617°W\n",
              " 24    25  ...  44°55′24″N 123°34′24″W﻿ / ﻿44.9233°N 123.5732°W\n",
              " 25    26  ...  44°10′00″N 121°46′20″W﻿ / ﻿44.1666°N 121.7723°W\n",
              " 26    27  ...  43°58′46″N 121°41′19″W﻿ / ﻿43.9794°N 121.6885°W\n",
              " 27    28  ...  42°17′55″N 123°50′47″W﻿ / ﻿42.2987°N 123.8464°W\n",
              " 28    29  ...  43°37′36″N 121°57′53″W﻿ / ﻿43.6268°N 121.9648°W\n",
              " 29    30  ...  44°19′56″N 121°50′19″W﻿ / ﻿44.3321°N 121.8385°W\n",
              " \n",
              " [30 rows x 7 columns],\n",
              "                                                    0\n",
              " 0  Map this section's coordinates using: OpenStre...\n",
              " 1                       Download coordinates as: KML,\n",
              "     Rank  ...                                         Location\n",
              " 0      1  ...  45°14′42″N 117°17′34″W﻿ / ﻿45.2450°N 117.2929°W\n",
              " 1      2  ...  42°38′11″N 118°34′36″W﻿ / ﻿42.6364°N 118.5767°W\n",
              " 2      3  ...  42°26′40″N 122°18′56″W﻿ / ﻿42.4445°N 122.3156°W\n",
              " 3      4  ...  45°39′54″N 123°32′53″W﻿ / ﻿45.6649°N 123.5481°W\n",
              " 4      5  ...  45°22′25″N 121°41′45″W﻿ / ﻿45.3735°N 121.6959°W\n",
              " 5      6  ...  43°09′10″N 122°03′59″W﻿ / ﻿43.1528°N 122.0665°W\n",
              " 6      7  ...  44°30′16″N 123°33′08″W﻿ / ﻿44.5045°N 123.5523°W\n",
              " 7      8  ...  44°40′27″N 121°47′59″W﻿ / ﻿44.6743°N 121.7996°W\n",
              " 8      9  ...  44°18′44″N 118°43′00″W﻿ / ﻿44.3123°N 118.7166°W\n",
              " 9     10  ...  44°19′37″N 120°22′23″W﻿ / ﻿44.3270°N 120.3730°W\n",
              " 10    11  ...  42°03′46″N 120°14′27″W﻿ / ﻿42.0628°N 120.2408°W\n",
              " 11    12  ...  44°49′00″N 118°06′14″W﻿ / ﻿44.8168°N 118.1039°W\n",
              " 12    13  ...  42°29′46″N 120°52′38″W﻿ / ﻿42.4960°N 120.8773°W\n",
              " 13    14  ...  44°06′13″N 121°46′09″W﻿ / ﻿44.1035°N 121.7693°W\n",
              " 14    15  ...  42°35′51″N 123°52′49″W﻿ / ﻿42.5976°N 123.8803°W\n",
              " 15    16  ...  45°12′47″N 119°17′45″W﻿ / ﻿45.2131°N 119.2958°W\n",
              " 16    17  ...  42°55′50″N 121°21′39″W﻿ / ﻿42.9306°N 121.3607°W\n",
              " 17    18  ...  42°04′51″N 122°43′01″W﻿ / ﻿42.0807°N 122.7169°W\n",
              " 18    19  ...  43°41′21″N 121°15′18″W﻿ / ﻿43.6892°N 121.2549°W\n",
              " 19    20  ...  42°05′58″N 118°39′02″W﻿ / ﻿42.0995°N 118.6506°W\n",
              " 20    21  ...  44°55′24″N 123°34′24″W﻿ / ﻿44.9233°N 123.5732°W\n",
              " 21    22  ...  43°58′13″N 119°29′46″W﻿ / ﻿43.9704°N 119.4962°W\n",
              " 22    23  ...  43°31′15″N 122°08′59″W﻿ / ﻿43.5207°N 122.1496°W\n",
              " 23    24  ...  43°54′44″N 123°44′18″W﻿ / ﻿43.9121°N 123.7383°W\n",
              " 24    25  ...  42°27′35″N 119°44′29″W﻿ / ﻿42.4597°N 119.7414°W\n",
              " 25    26  ...  44°10′08″N 117°39′44″W﻿ / ﻿44.1688°N 117.6621°W\n",
              " 26    27  ...  45°58′09″N 123°41′07″W﻿ / ﻿45.9691°N 123.6853°W\n",
              " 27    28  ...  42°23′09″N 119°19′55″W﻿ / ﻿42.3859°N 119.3320°W\n",
              " 28    29  ...  43°16′27″N 121°21′20″W﻿ / ﻿43.2743°N 121.3555°W\n",
              " 29    30  ...  42°19′34″N 121°16′09″W﻿ / ﻿42.3262°N 121.2691°W\n",
              " \n",
              " [30 rows x 7 columns],\n",
              "    .mw-parser-output .navbar{display:inline;font-size:88%;font-weight:normal}.mw-parser-output .navbar-collapse{float:left;text-align:left}.mw-parser-output .navbar-boxtext{word-spacing:0}.mw-parser-output .navbar ul{display:inline-block;white-space:nowrap;line-height:inherit}.mw-parser-output .navbar-brackets::before{margin-right:-0.125em;content:\"[ \"}.mw-parser-output .navbar-brackets::after{margin-left:-0.125em;content:\" ]\"}.mw-parser-output .navbar li{word-spacing:-0.125em}.mw-parser-output .navbar a>span,.mw-parser-output .navbar a>abbr{text-decoration:inherit}.mw-parser-output .navbar-mini abbr{font-variant:small-caps;border-bottom:none;text-decoration:none;cursor:inherit}.mw-parser-output .navbar-ct-full{font-size:114%;margin:0 7em}.mw-parser-output .navbar-ct-mini{font-size:114%;margin:0 4em}vte State of Oregon  ... .mw-parser-output .navbar{display:inline;font-size:88%;font-weight:normal}.mw-parser-output .navbar-collapse{float:left;text-align:left}.mw-parser-output .navbar-boxtext{word-spacing:0}.mw-parser-output .navbar ul{display:inline-block;white-space:nowrap;line-height:inherit}.mw-parser-output .navbar-brackets::before{margin-right:-0.125em;content:\"[ \"}.mw-parser-output .navbar-brackets::after{margin-left:-0.125em;content:\" ]\"}.mw-parser-output .navbar li{word-spacing:-0.125em}.mw-parser-output .navbar a>span,.mw-parser-output .navbar a>abbr{text-decoration:inherit}.mw-parser-output .navbar-mini abbr{font-variant:small-caps;border-bottom:none;text-decoration:none;cursor:inherit}.mw-parser-output .navbar-ct-full{font-size:114%;margin:0 7em}.mw-parser-output .navbar-ct-mini{font-size:114%;margin:0 4em}vte State of Oregon.2\n",
              " 0                                     Salem (capital)                                                                                                                                                                                                                                                                                                                                                                                                                                                                                                                                                                                                                                                                                                                                                                                                           ...                                    Salem (capital)                                                                                                                                                                                                                                                                                                                                                                                                                                                                                                                                                                                                                                                                                                                                                                                                           \n",
              " 1                                              Topics                                                                                                                                                                                                                                                                                                                                                                                                                                                                                                                                                                                                                                                                                                                                                                                                           ...                                                NaN                                                                                                                                                                                                                                                                                                                                                                                                                                                                                                                                                                                                                                                                                                                                                                                                           \n",
              " 2                                             Society                                                                                                                                                                                                                                                                                                                                                                                                                                                                                                                                                                                                                                                                                                                                                                                                           ...                                                NaN                                                                                                                                                                                                                                                                                                                                                                                                                                                                                                                                                                                                                                                                                                                                                                                                           \n",
              " 3                                             Regions                                                                                                                                                                                                                                                                                                                                                                                                                                                                                                                                                                                                                                                                                                                                                                                                           ...                                                NaN                                                                                                                                                                                                                                                                                                                                                                                                                                                                                                                                                                                                                                                                                                                                                                                                           \n",
              " 4                                             Western                                                                                                                                                                                                                                                                                                                                                                                                                                                                                                                                                                                                                                                                                                                                                                                                           ...                                                NaN                                                                                                                                                                                                                                                                                                                                                                                                                                                                                                                                                                                                                                                                                                                                                                                                           \n",
              " 5                                             Eastern                                                                                                                                                                                                                                                                                                                                                                                                                                                                                                                                                                                                                                                                                                                                                                                                           ...                                                NaN                                                                                                                                                                                                                                                                                                                                                                                                                                                                                                                                                                                                                                                                                                                                                                                                           \n",
              " 6                                            Southern                                                                                                                                                                                                                                                                                                                                                                                                                                                                                                                                                                                                                                                                                                                                                                                                           ...                                                NaN                                                                                                                                                                                                                                                                                                                                                                                                                                                                                                                                                                                                                                                                                                                                                                                                           \n",
              " 7                                              Shared                                                                                                                                                                                                                                                                                                                                                                                                                                                                                                                                                                                                                                                                                                                                                                                                           ...                                                NaN                                                                                                                                                                                                                                                                                                                                                                                                                                                                                                                                                                                                                                                                                                                                                                                                           \n",
              " 8                                         Metro areas                                                                                                                                                                                                                                                                                                                                                                                                                                                                                                                                                                                                                                                                                                                                                                                                           ...                                                NaN                                                                                                                                                                                                                                                                                                                                                                                                                                                                                                                                                                                                                                                                                                                                                                                                           \n",
              " 9                                      Largest cities                                                                                                                                                                                                                                                                                                                                                                                                                                                                                                                                                                                                                                                                                                                                                                                                           ...                                                NaN                                                                                                                                                                                                                                                                                                                                                                                                                                                                                                                                                                                                                                                                                                                                                                                                           \n",
              " 10                                           Counties                                                                                                                                                                                                                                                                                                                                                                                                                                                                                                                                                                                                                                                                                                                                                                                                           ...                                                NaN                                                                                                                                                                                                                                                                                                                                                                                                                                                                                                                                                                                                                                                                                                                                                                                                           \n",
              " 11           Oregon portal • Pacific Northwest portal                                                                                                                                                                                                                                                                                                                                                                                                                                                                                                                                                                                                                                                                                                                                                                                                           ...           Oregon portal • Pacific Northwest portal                                                                                                                                                                                                                                                                                                                                                                                                                                                                                                                                                                                                                                                                                                                                                                                                           \n",
              " \n",
              " [12 rows x 3 columns],\n",
              "           0                                                  1\n",
              " 0   Western  Northwest Oregon Oregon Coast Portland Metro T...\n",
              " 1   Eastern  Harney Basin High Desert Palouse Treasure Vall...\n",
              " 2  Southern                                       Rogue Valley\n",
              " 3    Shared  The Cascades Columbia Gorge Columbia River Col...,\n",
              "            vteThe 24 highest major summits of Oregon        vteThe 24 highest major summits of Oregon.1\n",
              " 0  .mw-parser-output .div-col{margin-top:0.3em;co...  .mw-parser-output .div-col{margin-top:0.3em;co...,\n",
              "   vteThe 104 highest major summits of the United States of America vteThe 104 highest major summits of the United States of America.1\n",
              " 0  Denali Mount Saint Elias Mount Foraker Mount B...                Denali Mount Saint Elias Mount Foraker Mount B...                ,\n",
              "   vteThe 126 most prominent summits of the United States of America vteThe 126 most prominent summits of the United States of America.1\n",
              " 0  Denali Mauna Kea Mount Rainier Mount Fairweath...                 Denali Mauna Kea Mount Rainier Mount Fairweath...                 ,\n",
              "   vteThe 113 most isolated major summits of the United States of America vteThe 113 most isolated major summits of the United States of America.1\n",
              " 0  Denali Mauna Kea Mount Whitney Mount Mitchell ...                      Denali Mauna Kea Mount Whitney Mount Mitchell ...                      ,\n",
              "   vteMountain peaks of the United States of America vteMountain peaks of the United States of America.1\n",
              " 0                                            States  Alabama Alaska Arizona Arkansas California Col... \n",
              " 1                                  Federal district                                   Washington, D.C. \n",
              " 2                                     Insular areas  American Samoa Guam Northern Mariana Islands P... ]"
            ]
          },
          "metadata": {},
          "execution_count": 9
        }
      ]
    },
    {
      "cell_type": "code",
      "source": [
        "# Print number of tables on webpage\n",
        "len(mountains)"
      ],
      "metadata": {
        "colab": {
          "base_uri": "https://localhost:8080/",
          "height": 0
        },
        "id": "o4BVUsrkKek9",
        "outputId": "227e085c-b40b-4858-ebc2-71ee7c651db2"
      },
      "execution_count": 10,
      "outputs": [
        {
          "output_type": "execute_result",
          "data": {
            "text/plain": [
              "13"
            ]
          },
          "metadata": {},
          "execution_count": 10
        }
      ]
    },
    {
      "cell_type": "code",
      "source": [
        "# We would like the table that contains the highest summits of Oregon which happens to be the second one\n",
        "mountain_stats = mountains[1]"
      ],
      "metadata": {
        "id": "JGFn0wVaKjjh"
      },
      "execution_count": 11,
      "outputs": []
    },
    {
      "cell_type": "code",
      "source": [
        "# Some wrangling\n",
        "mountain_stats['Location'] = mountain_stats['Location'].str.replace(mountain_stats['Location'].loc[0], \"45°22′25″N 121°41′45″W\\ufeff / \\ufeff45.3735°N 121.6959°W\", regex=True)\n",
        "mountain_stats"
      ],
      "metadata": {
        "colab": {
          "base_uri": "https://localhost:8080/",
          "height": 990
        },
        "id": "hNmPeBIrKnvh",
        "outputId": "5c71a5f7-a5d0-4188-e3d7-27dad7262311"
      },
      "execution_count": 12,
      "outputs": [
        {
          "output_type": "execute_result",
          "data": {
            "text/html": [
              "\n",
              "  <div id=\"df-6b453dd3-1346-4acb-92ca-8016e3243d1e\">\n",
              "    <div class=\"colab-df-container\">\n",
              "      <div>\n",
              "<style scoped>\n",
              "    .dataframe tbody tr th:only-of-type {\n",
              "        vertical-align: middle;\n",
              "    }\n",
              "\n",
              "    .dataframe tbody tr th {\n",
              "        vertical-align: top;\n",
              "    }\n",
              "\n",
              "    .dataframe thead th {\n",
              "        text-align: right;\n",
              "    }\n",
              "</style>\n",
              "<table border=\"1\" class=\"dataframe\">\n",
              "  <thead>\n",
              "    <tr style=\"text-align: right;\">\n",
              "      <th></th>\n",
              "      <th>Rank</th>\n",
              "      <th>Mountain peak</th>\n",
              "      <th>Mountain range</th>\n",
              "      <th>Elevation</th>\n",
              "      <th>Prominence</th>\n",
              "      <th>Isolation</th>\n",
              "      <th>Location</th>\n",
              "    </tr>\n",
              "  </thead>\n",
              "  <tbody>\n",
              "    <tr>\n",
              "      <th>0</th>\n",
              "      <td>1</td>\n",
              "      <td>Mount Hood[6][7][8][9][a]</td>\n",
              "      <td>Cascade Range</td>\n",
              "      <td>3428.8 m</td>\n",
              "      <td>2349 m</td>\n",
              "      <td>92.2 km</td>\n",
              "      <td>45°22′25″N 121°41′45″W﻿ / ﻿45.3735°N 121.6959°W</td>\n",
              "    </tr>\n",
              "    <tr>\n",
              "      <th>1</th>\n",
              "      <td>2</td>\n",
              "      <td>Mount Jefferson[10][11][12][13][b]</td>\n",
              "      <td>Cascade Range</td>\n",
              "      <td>3201 m</td>\n",
              "      <td>1767 m</td>\n",
              "      <td>77.5 km</td>\n",
              "      <td>44°40′27″N 121°47′59″W﻿ / ﻿44.6743°N 121.7996°W</td>\n",
              "    </tr>\n",
              "    <tr>\n",
              "      <th>2</th>\n",
              "      <td>3</td>\n",
              "      <td>South Sister[14][15][16][17]</td>\n",
              "      <td>Cascade Range</td>\n",
              "      <td>3158.5 m</td>\n",
              "      <td>1705 m</td>\n",
              "      <td>63.4 km</td>\n",
              "      <td>44°06′13″N 121°46′09″W﻿ / ﻿44.1035°N 121.7693°W</td>\n",
              "    </tr>\n",
              "    <tr>\n",
              "      <th>3</th>\n",
              "      <td>4</td>\n",
              "      <td>North Sister[18][19][20][21][c]</td>\n",
              "      <td>Cascade Range</td>\n",
              "      <td>3075 m</td>\n",
              "      <td>837 m</td>\n",
              "      <td>7 km</td>\n",
              "      <td>44°10′00″N 121°46′20″W﻿ / ﻿44.1666°N 121.7723°W</td>\n",
              "    </tr>\n",
              "    <tr>\n",
              "      <th>4</th>\n",
              "      <td>5</td>\n",
              "      <td>Middle Sister[22][23][24][25][d]</td>\n",
              "      <td>Cascade Range</td>\n",
              "      <td>3064 m</td>\n",
              "      <td>382 m</td>\n",
              "      <td>1.8 km</td>\n",
              "      <td>44°08′54″N 121°47′02″W﻿ / ﻿44.1483°N 121.7840°W</td>\n",
              "    </tr>\n",
              "    <tr>\n",
              "      <th>5</th>\n",
              "      <td>6</td>\n",
              "      <td>Sacajawea Peak[26][27][28][e][f]</td>\n",
              "      <td>Wallowa Mountains</td>\n",
              "      <td>3000 m</td>\n",
              "      <td>1949 m</td>\n",
              "      <td>202 km</td>\n",
              "      <td>45°14′42″N 117°17′34″W﻿ / ﻿45.2450°N 117.2929°W</td>\n",
              "    </tr>\n",
              "    <tr>\n",
              "      <th>6</th>\n",
              "      <td>7</td>\n",
              "      <td>Steens Mountain[29][30][31][g]</td>\n",
              "      <td>Steens Mountain</td>\n",
              "      <td>2968 m</td>\n",
              "      <td>1336 m</td>\n",
              "      <td>201 km</td>\n",
              "      <td>42°38′11″N 118°34′36″W﻿ / ﻿42.6364°N 118.5767°W</td>\n",
              "    </tr>\n",
              "    <tr>\n",
              "      <th>7</th>\n",
              "      <td>8</td>\n",
              "      <td>Aneroid Mountain[32][33][34][35]</td>\n",
              "      <td>Wallowa Mountains</td>\n",
              "      <td>2958.7 m</td>\n",
              "      <td>647 m</td>\n",
              "      <td>9.48 km</td>\n",
              "      <td>45°12′11″N 117°10′30″W﻿ / ﻿45.2030°N 117.1750°W</td>\n",
              "    </tr>\n",
              "    <tr>\n",
              "      <th>8</th>\n",
              "      <td>9</td>\n",
              "      <td>Twin Peaks[36][37][38][h]</td>\n",
              "      <td>Wallowa Mountains</td>\n",
              "      <td>2950 m</td>\n",
              "      <td>610 m</td>\n",
              "      <td>7.79 km</td>\n",
              "      <td>45°18′17″N 117°20′43″W﻿ / ﻿45.3046°N 117.3452°W</td>\n",
              "    </tr>\n",
              "    <tr>\n",
              "      <th>9</th>\n",
              "      <td>10</td>\n",
              "      <td>Red Mountain[39][40][41][42]</td>\n",
              "      <td>Wallowa Mountains</td>\n",
              "      <td>2913.8 m</td>\n",
              "      <td>610 m</td>\n",
              "      <td>11.84 km</td>\n",
              "      <td>45°03′52″N 117°14′46″W﻿ / ﻿45.0644°N 117.2460°W</td>\n",
              "    </tr>\n",
              "    <tr>\n",
              "      <th>10</th>\n",
              "      <td>11</td>\n",
              "      <td>Mount McLoughlin[43][44][45][46][i][j]</td>\n",
              "      <td>Cascade Range</td>\n",
              "      <td>2895 m</td>\n",
              "      <td>1364 m</td>\n",
              "      <td>111.8 km</td>\n",
              "      <td>42°26′40″N 122°18′56″W﻿ / ﻿42.4445°N 122.3156°W</td>\n",
              "    </tr>\n",
              "    <tr>\n",
              "      <th>11</th>\n",
              "      <td>12</td>\n",
              "      <td>Elkhorn Peak[47][48][49][k]</td>\n",
              "      <td>Wallowa Mountains</td>\n",
              "      <td>2816 m</td>\n",
              "      <td>567 m</td>\n",
              "      <td>5.32 km</td>\n",
              "      <td>45°13′20″N 117°23′48″W﻿ / ﻿45.2223°N 117.3968°W</td>\n",
              "    </tr>\n",
              "    <tr>\n",
              "      <th>12</th>\n",
              "      <td>13</td>\n",
              "      <td>Mount Thielsen[50][51][52][53]</td>\n",
              "      <td>Cascade Range</td>\n",
              "      <td>2799.4 m</td>\n",
              "      <td>1025 m</td>\n",
              "      <td>81.1 km</td>\n",
              "      <td>43°09′10″N 122°03′59″W﻿ / ﻿43.1528°N 122.0665°W</td>\n",
              "    </tr>\n",
              "    <tr>\n",
              "      <th>13</th>\n",
              "      <td>14</td>\n",
              "      <td>Broken Top[54][55][56][l]</td>\n",
              "      <td>Cascade Range</td>\n",
              "      <td>2798 m</td>\n",
              "      <td>669 m</td>\n",
              "      <td>5.52 km</td>\n",
              "      <td>44°04′59″N 121°41′58″W﻿ / ﻿44.0830°N 121.6994°W</td>\n",
              "    </tr>\n",
              "    <tr>\n",
              "      <th>14</th>\n",
              "      <td>15</td>\n",
              "      <td>Rock Creek Butte[57][58][59][m]</td>\n",
              "      <td>Elkhorn Mountains</td>\n",
              "      <td>2777 m</td>\n",
              "      <td>1364 m</td>\n",
              "      <td>69.9 km</td>\n",
              "      <td>44°49′00″N 118°06′14″W﻿ / ﻿44.8168°N 118.1039°W</td>\n",
              "    </tr>\n",
              "    <tr>\n",
              "      <th>15</th>\n",
              "      <td>16</td>\n",
              "      <td>Mount Bachelor[60][61][62][63]</td>\n",
              "      <td>Cascade Range</td>\n",
              "      <td>2764 m</td>\n",
              "      <td>818 m</td>\n",
              "      <td>11.02 km</td>\n",
              "      <td>43°58′46″N 121°41′19″W﻿ / ﻿43.9794°N 121.6885°W</td>\n",
              "    </tr>\n",
              "    <tr>\n",
              "      <th>16</th>\n",
              "      <td>17</td>\n",
              "      <td>Strawberry Mountain[64][65][66][67][n]</td>\n",
              "      <td>Strawberry Range</td>\n",
              "      <td>2756.1 m</td>\n",
              "      <td>1253 m</td>\n",
              "      <td>74.2 km</td>\n",
              "      <td>44°18′44″N 118°43′00″W﻿ / ﻿44.3123°N 118.7166°W</td>\n",
              "    </tr>\n",
              "    <tr>\n",
              "      <th>17</th>\n",
              "      <td>18</td>\n",
              "      <td>Mount Scott[68][69][70][71]</td>\n",
              "      <td>Cascade Range</td>\n",
              "      <td>2722.9 m</td>\n",
              "      <td>920 m</td>\n",
              "      <td>25.9 km</td>\n",
              "      <td>42°55′22″N 122°00′58″W﻿ / ﻿42.9229°N 122.0162°W</td>\n",
              "    </tr>\n",
              "    <tr>\n",
              "      <th>18</th>\n",
              "      <td>19</td>\n",
              "      <td>Diamond Peak[72][73][74][75]</td>\n",
              "      <td>Cascade Range</td>\n",
              "      <td>2666.4 m</td>\n",
              "      <td>952 m</td>\n",
              "      <td>41.4 km</td>\n",
              "      <td>43°31′15″N 122°08′59″W﻿ / ﻿43.5207°N 122.1496°W</td>\n",
              "    </tr>\n",
              "    <tr>\n",
              "      <th>19</th>\n",
              "      <td>20</td>\n",
              "      <td>Pueblo Mountain[76][77][78][79][o]</td>\n",
              "      <td>Pueblo Mountains</td>\n",
              "      <td>2633.3 m</td>\n",
              "      <td>927 m</td>\n",
              "      <td>45.5 km</td>\n",
              "      <td>42°05′58″N 118°39′02″W﻿ / ﻿42.0995°N 118.6506°W</td>\n",
              "    </tr>\n",
              "    <tr>\n",
              "      <th>20</th>\n",
              "      <td>21</td>\n",
              "      <td>Crane Mountain[80][81][82][83]</td>\n",
              "      <td>Warner Mountains</td>\n",
              "      <td>2575.8 m</td>\n",
              "      <td>718 m</td>\n",
              "      <td>71.4 km</td>\n",
              "      <td>42°03′46″N 120°14′27″W﻿ / ﻿42.0628°N 120.2408°W</td>\n",
              "    </tr>\n",
              "    <tr>\n",
              "      <th>21</th>\n",
              "      <td>22</td>\n",
              "      <td>Drake Peak[84][85][86][87][p]</td>\n",
              "      <td>Warner Mountains</td>\n",
              "      <td>2564 m</td>\n",
              "      <td>779 m</td>\n",
              "      <td>28.1 km</td>\n",
              "      <td>42°18′00″N 120°07′26″W﻿ / ﻿42.3001°N 120.1238°W</td>\n",
              "    </tr>\n",
              "    <tr>\n",
              "      <th>22</th>\n",
              "      <td>23</td>\n",
              "      <td>Mount Bailey[88][89][90][91][q]</td>\n",
              "      <td>Cascade Range</td>\n",
              "      <td>2553.3 m</td>\n",
              "      <td>908 m</td>\n",
              "      <td>12.49 km</td>\n",
              "      <td>43°09′18″N 122°13′12″W﻿ / ﻿43.1551°N 122.2200°W</td>\n",
              "    </tr>\n",
              "    <tr>\n",
              "      <th>23</th>\n",
              "      <td>24</td>\n",
              "      <td>Gearhart Mountain[92][93][94][95]</td>\n",
              "      <td>Gearhart Mountain</td>\n",
              "      <td>2550.6 m</td>\n",
              "      <td>1049 m</td>\n",
              "      <td>65.7 km</td>\n",
              "      <td>42°29′46″N 120°52′38″W﻿ / ﻿42.4960°N 120.8773°W</td>\n",
              "    </tr>\n",
              "    <tr>\n",
              "      <th>24</th>\n",
              "      <td>25</td>\n",
              "      <td>Aspen Butte[96][97][98][99]</td>\n",
              "      <td>Cascade Range</td>\n",
              "      <td>2503.83 m</td>\n",
              "      <td>947 m</td>\n",
              "      <td>23.7 km</td>\n",
              "      <td>42°18′56″N 122°05′15″W﻿ / ﻿42.3155°N 122.0876°W</td>\n",
              "    </tr>\n",
              "    <tr>\n",
              "      <th>25</th>\n",
              "      <td>26</td>\n",
              "      <td>Yamsay Mountain[100][101][102][103]</td>\n",
              "      <td>Cascade Volcanic Arc</td>\n",
              "      <td>2499.3 m</td>\n",
              "      <td>970 m</td>\n",
              "      <td>53.1 km</td>\n",
              "      <td>42°55′50″N 121°21′39″W﻿ / ﻿42.9306°N 121.3607°W</td>\n",
              "    </tr>\n",
              "    <tr>\n",
              "      <th>26</th>\n",
              "      <td>27</td>\n",
              "      <td>Vinegar Hill[104][105][106][107][r]</td>\n",
              "      <td>Greenhorn Mountains</td>\n",
              "      <td>2482 m</td>\n",
              "      <td>884 m</td>\n",
              "      <td>23.5 km</td>\n",
              "      <td>44°42′50″N 118°33′42″W﻿ / ﻿44.7138°N 118.5617°W</td>\n",
              "    </tr>\n",
              "    <tr>\n",
              "      <th>27</th>\n",
              "      <td>28</td>\n",
              "      <td>Pelican Butte[108][109][110][111]</td>\n",
              "      <td>Cascade Range</td>\n",
              "      <td>2449.8 m</td>\n",
              "      <td>669 m</td>\n",
              "      <td>15.98 km</td>\n",
              "      <td>42°30′48″N 122°08′43″W﻿ / ﻿42.5134°N 122.1453°W</td>\n",
              "    </tr>\n",
              "    <tr>\n",
              "      <th>28</th>\n",
              "      <td>29</td>\n",
              "      <td>Lookout Mountain[112][113][114][s]</td>\n",
              "      <td>Strawberry Range</td>\n",
              "      <td>2450 m</td>\n",
              "      <td>650 m</td>\n",
              "      <td>10.73 km</td>\n",
              "      <td>44°17′20″N 118°29′43″W﻿ / ﻿44.2889°N 118.4954°W</td>\n",
              "    </tr>\n",
              "    <tr>\n",
              "      <th>29</th>\n",
              "      <td>30</td>\n",
              "      <td>Warner Peak[115][116][117][118][t]</td>\n",
              "      <td>Hart Mountain</td>\n",
              "      <td>2445.8 m</td>\n",
              "      <td>648 m</td>\n",
              "      <td>35.6 km</td>\n",
              "      <td>42°27′35″N 119°44′29″W﻿ / ﻿42.4597°N 119.7414°W</td>\n",
              "    </tr>\n",
              "    <tr>\n",
              "      <th>30</th>\n",
              "      <td>31</td>\n",
              "      <td>Paulina Peak[119][120][121][122][u]</td>\n",
              "      <td>Paulina Mountains</td>\n",
              "      <td>2435 m</td>\n",
              "      <td>981 m</td>\n",
              "      <td>46.5 km</td>\n",
              "      <td>43°41′21″N 121°15′18″W﻿ / ﻿43.6892°N 121.2549°W</td>\n",
              "    </tr>\n",
              "  </tbody>\n",
              "</table>\n",
              "</div>\n",
              "      <button class=\"colab-df-convert\" onclick=\"convertToInteractive('df-6b453dd3-1346-4acb-92ca-8016e3243d1e')\"\n",
              "              title=\"Convert this dataframe to an interactive table.\"\n",
              "              style=\"display:none;\">\n",
              "        \n",
              "  <svg xmlns=\"http://www.w3.org/2000/svg\" height=\"24px\"viewBox=\"0 0 24 24\"\n",
              "       width=\"24px\">\n",
              "    <path d=\"M0 0h24v24H0V0z\" fill=\"none\"/>\n",
              "    <path d=\"M18.56 5.44l.94 2.06.94-2.06 2.06-.94-2.06-.94-.94-2.06-.94 2.06-2.06.94zm-11 1L8.5 8.5l.94-2.06 2.06-.94-2.06-.94L8.5 2.5l-.94 2.06-2.06.94zm10 10l.94 2.06.94-2.06 2.06-.94-2.06-.94-.94-2.06-.94 2.06-2.06.94z\"/><path d=\"M17.41 7.96l-1.37-1.37c-.4-.4-.92-.59-1.43-.59-.52 0-1.04.2-1.43.59L10.3 9.45l-7.72 7.72c-.78.78-.78 2.05 0 2.83L4 21.41c.39.39.9.59 1.41.59.51 0 1.02-.2 1.41-.59l7.78-7.78 2.81-2.81c.8-.78.8-2.07 0-2.86zM5.41 20L4 18.59l7.72-7.72 1.47 1.35L5.41 20z\"/>\n",
              "  </svg>\n",
              "      </button>\n",
              "      \n",
              "  <style>\n",
              "    .colab-df-container {\n",
              "      display:flex;\n",
              "      flex-wrap:wrap;\n",
              "      gap: 12px;\n",
              "    }\n",
              "\n",
              "    .colab-df-convert {\n",
              "      background-color: #E8F0FE;\n",
              "      border: none;\n",
              "      border-radius: 50%;\n",
              "      cursor: pointer;\n",
              "      display: none;\n",
              "      fill: #1967D2;\n",
              "      height: 32px;\n",
              "      padding: 0 0 0 0;\n",
              "      width: 32px;\n",
              "    }\n",
              "\n",
              "    .colab-df-convert:hover {\n",
              "      background-color: #E2EBFA;\n",
              "      box-shadow: 0px 1px 2px rgba(60, 64, 67, 0.3), 0px 1px 3px 1px rgba(60, 64, 67, 0.15);\n",
              "      fill: #174EA6;\n",
              "    }\n",
              "\n",
              "    [theme=dark] .colab-df-convert {\n",
              "      background-color: #3B4455;\n",
              "      fill: #D2E3FC;\n",
              "    }\n",
              "\n",
              "    [theme=dark] .colab-df-convert:hover {\n",
              "      background-color: #434B5C;\n",
              "      box-shadow: 0px 1px 3px 1px rgba(0, 0, 0, 0.15);\n",
              "      filter: drop-shadow(0px 1px 2px rgba(0, 0, 0, 0.3));\n",
              "      fill: #FFFFFF;\n",
              "    }\n",
              "  </style>\n",
              "\n",
              "      <script>\n",
              "        const buttonEl =\n",
              "          document.querySelector('#df-6b453dd3-1346-4acb-92ca-8016e3243d1e button.colab-df-convert');\n",
              "        buttonEl.style.display =\n",
              "          google.colab.kernel.accessAllowed ? 'block' : 'none';\n",
              "\n",
              "        async function convertToInteractive(key) {\n",
              "          const element = document.querySelector('#df-6b453dd3-1346-4acb-92ca-8016e3243d1e');\n",
              "          const dataTable =\n",
              "            await google.colab.kernel.invokeFunction('convertToInteractive',\n",
              "                                                     [key], {});\n",
              "          if (!dataTable) return;\n",
              "\n",
              "          const docLinkHtml = 'Like what you see? Visit the ' +\n",
              "            '<a target=\"_blank\" href=https://colab.research.google.com/notebooks/data_table.ipynb>data table notebook</a>'\n",
              "            + ' to learn more about interactive tables.';\n",
              "          element.innerHTML = '';\n",
              "          dataTable['output_type'] = 'display_data';\n",
              "          await google.colab.output.renderOutput(dataTable, element);\n",
              "          const docLink = document.createElement('div');\n",
              "          docLink.innerHTML = docLinkHtml;\n",
              "          element.appendChild(docLink);\n",
              "        }\n",
              "      </script>\n",
              "    </div>\n",
              "  </div>\n",
              "  "
            ],
            "text/plain": [
              "    Rank  ...                                         Location\n",
              "0      1  ...  45°22′25″N 121°41′45″W﻿ / ﻿45.3735°N 121.6959°W\n",
              "1      2  ...  44°40′27″N 121°47′59″W﻿ / ﻿44.6743°N 121.7996°W\n",
              "2      3  ...  44°06′13″N 121°46′09″W﻿ / ﻿44.1035°N 121.7693°W\n",
              "3      4  ...  44°10′00″N 121°46′20″W﻿ / ﻿44.1666°N 121.7723°W\n",
              "4      5  ...  44°08′54″N 121°47′02″W﻿ / ﻿44.1483°N 121.7840°W\n",
              "5      6  ...  45°14′42″N 117°17′34″W﻿ / ﻿45.2450°N 117.2929°W\n",
              "6      7  ...  42°38′11″N 118°34′36″W﻿ / ﻿42.6364°N 118.5767°W\n",
              "7      8  ...  45°12′11″N 117°10′30″W﻿ / ﻿45.2030°N 117.1750°W\n",
              "8      9  ...  45°18′17″N 117°20′43″W﻿ / ﻿45.3046°N 117.3452°W\n",
              "9     10  ...  45°03′52″N 117°14′46″W﻿ / ﻿45.0644°N 117.2460°W\n",
              "10    11  ...  42°26′40″N 122°18′56″W﻿ / ﻿42.4445°N 122.3156°W\n",
              "11    12  ...  45°13′20″N 117°23′48″W﻿ / ﻿45.2223°N 117.3968°W\n",
              "12    13  ...  43°09′10″N 122°03′59″W﻿ / ﻿43.1528°N 122.0665°W\n",
              "13    14  ...  44°04′59″N 121°41′58″W﻿ / ﻿44.0830°N 121.6994°W\n",
              "14    15  ...  44°49′00″N 118°06′14″W﻿ / ﻿44.8168°N 118.1039°W\n",
              "15    16  ...  43°58′46″N 121°41′19″W﻿ / ﻿43.9794°N 121.6885°W\n",
              "16    17  ...  44°18′44″N 118°43′00″W﻿ / ﻿44.3123°N 118.7166°W\n",
              "17    18  ...  42°55′22″N 122°00′58″W﻿ / ﻿42.9229°N 122.0162°W\n",
              "18    19  ...  43°31′15″N 122°08′59″W﻿ / ﻿43.5207°N 122.1496°W\n",
              "19    20  ...  42°05′58″N 118°39′02″W﻿ / ﻿42.0995°N 118.6506°W\n",
              "20    21  ...  42°03′46″N 120°14′27″W﻿ / ﻿42.0628°N 120.2408°W\n",
              "21    22  ...  42°18′00″N 120°07′26″W﻿ / ﻿42.3001°N 120.1238°W\n",
              "22    23  ...  43°09′18″N 122°13′12″W﻿ / ﻿43.1551°N 122.2200°W\n",
              "23    24  ...  42°29′46″N 120°52′38″W﻿ / ﻿42.4960°N 120.8773°W\n",
              "24    25  ...  42°18′56″N 122°05′15″W﻿ / ﻿42.3155°N 122.0876°W\n",
              "25    26  ...  42°55′50″N 121°21′39″W﻿ / ﻿42.9306°N 121.3607°W\n",
              "26    27  ...  44°42′50″N 118°33′42″W﻿ / ﻿44.7138°N 118.5617°W\n",
              "27    28  ...  42°30′48″N 122°08′43″W﻿ / ﻿42.5134°N 122.1453°W\n",
              "28    29  ...  44°17′20″N 118°29′43″W﻿ / ﻿44.2889°N 118.4954°W\n",
              "29    30  ...  42°27′35″N 119°44′29″W﻿ / ﻿42.4597°N 119.7414°W\n",
              "30    31  ...  43°41′21″N 121°15′18″W﻿ / ﻿43.6892°N 121.2549°W\n",
              "\n",
              "[31 rows x 7 columns]"
            ]
          },
          "metadata": {},
          "execution_count": 12
        }
      ]
    },
    {
      "cell_type": "code",
      "source": [
        "mountain_stats.dtypes"
      ],
      "metadata": {
        "colab": {
          "base_uri": "https://localhost:8080/",
          "height": 0
        },
        "id": "3zAyL2W6KqgP",
        "outputId": "fc757ba3-87ee-4fdd-e8bb-8164bfd04880"
      },
      "execution_count": 13,
      "outputs": [
        {
          "output_type": "execute_result",
          "data": {
            "text/plain": [
              "Rank               int64\n",
              "Mountain peak     object\n",
              "Mountain range    object\n",
              "Elevation         object\n",
              "Prominence        object\n",
              "Isolation         object\n",
              "Location          object\n",
              "dtype: object"
            ]
          },
          "metadata": {},
          "execution_count": 13
        }
      ]
    },
    {
      "cell_type": "markdown",
      "source": [
        "### Convert coordinates to `float`"
      ],
      "metadata": {
        "id": "bCHzyi8uKvPY"
      }
    },
    {
      "cell_type": "code",
      "source": [
        "# Have a look at the location object\n",
        "mountain_stats['Location'].iloc[0]"
      ],
      "metadata": {
        "colab": {
          "base_uri": "https://localhost:8080/",
          "height": 35
        },
        "id": "1gNC1QFmKv9f",
        "outputId": "9e35f1d1-2eca-49a2-a606-a6dbd8ac7e47"
      },
      "execution_count": 14,
      "outputs": [
        {
          "output_type": "execute_result",
          "data": {
            "application/vnd.google.colaboratory.intrinsic+json": {
              "type": "string"
            },
            "text/plain": [
              "'45°22′25″N 121°41′45″W\\ufeff / \\ufeff45.3735°N 121.6959°W'"
            ]
          },
          "metadata": {},
          "execution_count": 14
        }
      ]
    },
    {
      "cell_type": "code",
      "source": [
        "# The latitude is string position 27 to 34\n",
        "lat1 = mountain_stats['Location'].iloc[0][27:34]\n",
        "\n",
        "# The longitude is string position 37 to 45\n",
        "lon1 = mountain_stats['Location'].iloc[0][37:45]"
      ],
      "metadata": {
        "id": "ljRFqSFKKzBe"
      },
      "execution_count": 15,
      "outputs": []
    },
    {
      "cell_type": "code",
      "source": [
        "# Convert to float and multiple by -1\n",
        "float(mountain_stats['Location'].iloc[0][37:45]) * -1"
      ],
      "metadata": {
        "colab": {
          "base_uri": "https://localhost:8080/",
          "height": 0
        },
        "id": "NikqErW8K1K9",
        "outputId": "3ebeea23-7e18-4242-8e02-7a60bdbd35e3"
      },
      "execution_count": 16,
      "outputs": [
        {
          "output_type": "execute_result",
          "data": {
            "text/plain": [
              "-121.6959"
            ]
          },
          "metadata": {},
          "execution_count": 16
        }
      ]
    },
    {
      "cell_type": "code",
      "source": [
        "# To get these data from every row, we can write a quick for loop\n",
        "coords = []\n",
        "for i in range(len(mountain_stats)):\n",
        "    lat = float(mountain_stats['Location'].iloc[i][27:34])\n",
        "    lon = float(mountain_stats['Location'].iloc[i][37:45]) * -1\n",
        "    coords.append((lat, lon))\n",
        "coords"
      ],
      "metadata": {
        "colab": {
          "base_uri": "https://localhost:8080/",
          "height": 0
        },
        "id": "0fE9zR9aK3A_",
        "outputId": "fd819cff-74e2-496a-b57a-915d0c809c5f"
      },
      "execution_count": 17,
      "outputs": [
        {
          "output_type": "execute_result",
          "data": {
            "text/plain": [
              "[(45.3735, -121.6959),\n",
              " (44.6743, -121.7996),\n",
              " (44.1035, -121.7693),\n",
              " (44.1666, -121.7723),\n",
              " (44.1483, -121.784),\n",
              " (45.245, -117.2929),\n",
              " (42.6364, -118.5767),\n",
              " (45.203, -117.175),\n",
              " (45.3046, -117.3452),\n",
              " (45.0644, -117.246),\n",
              " (42.4445, -122.3156),\n",
              " (45.2223, -117.3968),\n",
              " (43.1528, -122.0665),\n",
              " (44.083, -121.6994),\n",
              " (44.8168, -118.1039),\n",
              " (43.9794, -121.6885),\n",
              " (44.3123, -118.7166),\n",
              " (42.9229, -122.0162),\n",
              " (43.5207, -122.1496),\n",
              " (42.0995, -118.6506),\n",
              " (42.0628, -120.2408),\n",
              " (42.3001, -120.1238),\n",
              " (43.1551, -122.22),\n",
              " (42.496, -120.8773),\n",
              " (42.3155, -122.0876),\n",
              " (42.9306, -121.3607),\n",
              " (44.7138, -118.5617),\n",
              " (42.5134, -122.1453),\n",
              " (44.2889, -118.4954),\n",
              " (42.4597, -119.7414),\n",
              " (43.6892, -121.2549)]"
            ]
          },
          "metadata": {},
          "execution_count": 17
        }
      ]
    },
    {
      "cell_type": "markdown",
      "source": [
        "### Plot on a map"
      ],
      "metadata": {
        "id": "DXuyzm4gK7Np"
      }
    },
    {
      "cell_type": "code",
      "source": [
        "map = folium.Map(location=[44, -121], zoom_start=7)\n",
        "for i in range(0, len(coords)):\n",
        "    folium.Marker(coords[i]).add_to(map)\n",
        "map"
      ],
      "metadata": {
        "colab": {
          "base_uri": "https://localhost:8080/",
          "height": 866
        },
        "id": "7JYIAjv0K_QE",
        "outputId": "032d8ed5-41e6-4f59-fc68-f6d0f0728d99"
      },
      "execution_count": 18,
      "outputs": [
        {
          "output_type": "execute_result",
          "data": {
            "text/html": [
              "<div style=\"width:100%;\"><div style=\"position:relative;width:100%;height:0;padding-bottom:60%;\"><span style=\"color:#565656\">Make this Notebook Trusted to load map: File -> Trust Notebook</span><iframe src=\"about:blank\" style=\"position:absolute;width:100%;height:100%;left:0;top:0;border:none !important;\" data-html=%3C%21DOCTYPE%20html%3E%0A%3Chead%3E%20%20%20%20%0A%20%20%20%20%3Cmeta%20http-equiv%3D%22content-type%22%20content%3D%22text/html%3B%20charset%3DUTF-8%22%20/%3E%0A%20%20%20%20%0A%20%20%20%20%20%20%20%20%3Cscript%3E%0A%20%20%20%20%20%20%20%20%20%20%20%20L_NO_TOUCH%20%3D%20false%3B%0A%20%20%20%20%20%20%20%20%20%20%20%20L_DISABLE_3D%20%3D%20false%3B%0A%20%20%20%20%20%20%20%20%3C/script%3E%0A%20%20%20%20%0A%20%20%20%20%3Cstyle%3Ehtml%2C%20body%20%7Bwidth%3A%20100%25%3Bheight%3A%20100%25%3Bmargin%3A%200%3Bpadding%3A%200%3B%7D%3C/style%3E%0A%20%20%20%20%3Cstyle%3E%23map%20%7Bposition%3Aabsolute%3Btop%3A0%3Bbottom%3A0%3Bright%3A0%3Bleft%3A0%3B%7D%3C/style%3E%0A%20%20%20%20%3Cscript%20src%3D%22https%3A//cdn.jsdelivr.net/npm/leaflet%401.6.0/dist/leaflet.js%22%3E%3C/script%3E%0A%20%20%20%20%3Cscript%20src%3D%22https%3A//code.jquery.com/jquery-1.12.4.min.js%22%3E%3C/script%3E%0A%20%20%20%20%3Cscript%20src%3D%22https%3A//maxcdn.bootstrapcdn.com/bootstrap/3.2.0/js/bootstrap.min.js%22%3E%3C/script%3E%0A%20%20%20%20%3Cscript%20src%3D%22https%3A//cdnjs.cloudflare.com/ajax/libs/Leaflet.awesome-markers/2.0.2/leaflet.awesome-markers.js%22%3E%3C/script%3E%0A%20%20%20%20%3Clink%20rel%3D%22stylesheet%22%20href%3D%22https%3A//cdn.jsdelivr.net/npm/leaflet%401.6.0/dist/leaflet.css%22/%3E%0A%20%20%20%20%3Clink%20rel%3D%22stylesheet%22%20href%3D%22https%3A//maxcdn.bootstrapcdn.com/bootstrap/3.2.0/css/bootstrap.min.css%22/%3E%0A%20%20%20%20%3Clink%20rel%3D%22stylesheet%22%20href%3D%22https%3A//maxcdn.bootstrapcdn.com/bootstrap/3.2.0/css/bootstrap-theme.min.css%22/%3E%0A%20%20%20%20%3Clink%20rel%3D%22stylesheet%22%20href%3D%22https%3A//maxcdn.bootstrapcdn.com/font-awesome/4.6.3/css/font-awesome.min.css%22/%3E%0A%20%20%20%20%3Clink%20rel%3D%22stylesheet%22%20href%3D%22https%3A//cdnjs.cloudflare.com/ajax/libs/Leaflet.awesome-markers/2.0.2/leaflet.awesome-markers.css%22/%3E%0A%20%20%20%20%3Clink%20rel%3D%22stylesheet%22%20href%3D%22https%3A//cdn.jsdelivr.net/gh/python-visualization/folium/folium/templates/leaflet.awesome.rotate.min.css%22/%3E%0A%20%20%20%20%0A%20%20%20%20%20%20%20%20%20%20%20%20%3Cmeta%20name%3D%22viewport%22%20content%3D%22width%3Ddevice-width%2C%0A%20%20%20%20%20%20%20%20%20%20%20%20%20%20%20%20initial-scale%3D1.0%2C%20maximum-scale%3D1.0%2C%20user-scalable%3Dno%22%20/%3E%0A%20%20%20%20%20%20%20%20%20%20%20%20%3Cstyle%3E%0A%20%20%20%20%20%20%20%20%20%20%20%20%20%20%20%20%23map_e958c3c6462b4d6686225dad5dcde39e%20%7B%0A%20%20%20%20%20%20%20%20%20%20%20%20%20%20%20%20%20%20%20%20position%3A%20relative%3B%0A%20%20%20%20%20%20%20%20%20%20%20%20%20%20%20%20%20%20%20%20width%3A%20100.0%25%3B%0A%20%20%20%20%20%20%20%20%20%20%20%20%20%20%20%20%20%20%20%20height%3A%20100.0%25%3B%0A%20%20%20%20%20%20%20%20%20%20%20%20%20%20%20%20%20%20%20%20left%3A%200.0%25%3B%0A%20%20%20%20%20%20%20%20%20%20%20%20%20%20%20%20%20%20%20%20top%3A%200.0%25%3B%0A%20%20%20%20%20%20%20%20%20%20%20%20%20%20%20%20%7D%0A%20%20%20%20%20%20%20%20%20%20%20%20%3C/style%3E%0A%20%20%20%20%20%20%20%20%0A%3C/head%3E%0A%3Cbody%3E%20%20%20%20%0A%20%20%20%20%0A%20%20%20%20%20%20%20%20%20%20%20%20%3Cdiv%20class%3D%22folium-map%22%20id%3D%22map_e958c3c6462b4d6686225dad5dcde39e%22%20%3E%3C/div%3E%0A%20%20%20%20%20%20%20%20%0A%3C/body%3E%0A%3Cscript%3E%20%20%20%20%0A%20%20%20%20%0A%20%20%20%20%20%20%20%20%20%20%20%20var%20map_e958c3c6462b4d6686225dad5dcde39e%20%3D%20L.map%28%0A%20%20%20%20%20%20%20%20%20%20%20%20%20%20%20%20%22map_e958c3c6462b4d6686225dad5dcde39e%22%2C%0A%20%20%20%20%20%20%20%20%20%20%20%20%20%20%20%20%7B%0A%20%20%20%20%20%20%20%20%20%20%20%20%20%20%20%20%20%20%20%20center%3A%20%5B44.0%2C%20-121.0%5D%2C%0A%20%20%20%20%20%20%20%20%20%20%20%20%20%20%20%20%20%20%20%20crs%3A%20L.CRS.EPSG3857%2C%0A%20%20%20%20%20%20%20%20%20%20%20%20%20%20%20%20%20%20%20%20zoom%3A%207%2C%0A%20%20%20%20%20%20%20%20%20%20%20%20%20%20%20%20%20%20%20%20zoomControl%3A%20true%2C%0A%20%20%20%20%20%20%20%20%20%20%20%20%20%20%20%20%20%20%20%20preferCanvas%3A%20false%2C%0A%20%20%20%20%20%20%20%20%20%20%20%20%20%20%20%20%7D%0A%20%20%20%20%20%20%20%20%20%20%20%20%29%3B%0A%0A%20%20%20%20%20%20%20%20%20%20%20%20%0A%0A%20%20%20%20%20%20%20%20%0A%20%20%20%20%0A%20%20%20%20%20%20%20%20%20%20%20%20var%20tile_layer_a62b348c41674ce18b0cb4859f7fe370%20%3D%20L.tileLayer%28%0A%20%20%20%20%20%20%20%20%20%20%20%20%20%20%20%20%22https%3A//%7Bs%7D.tile.openstreetmap.org/%7Bz%7D/%7Bx%7D/%7By%7D.png%22%2C%0A%20%20%20%20%20%20%20%20%20%20%20%20%20%20%20%20%7B%22attribution%22%3A%20%22Data%20by%20%5Cu0026copy%3B%20%5Cu003ca%20href%3D%5C%22http%3A//openstreetmap.org%5C%22%5Cu003eOpenStreetMap%5Cu003c/a%5Cu003e%2C%20under%20%5Cu003ca%20href%3D%5C%22http%3A//www.openstreetmap.org/copyright%5C%22%5Cu003eODbL%5Cu003c/a%5Cu003e.%22%2C%20%22detectRetina%22%3A%20false%2C%20%22maxNativeZoom%22%3A%2018%2C%20%22maxZoom%22%3A%2018%2C%20%22minZoom%22%3A%200%2C%20%22noWrap%22%3A%20false%2C%20%22opacity%22%3A%201%2C%20%22subdomains%22%3A%20%22abc%22%2C%20%22tms%22%3A%20false%7D%0A%20%20%20%20%20%20%20%20%20%20%20%20%29.addTo%28map_e958c3c6462b4d6686225dad5dcde39e%29%3B%0A%20%20%20%20%20%20%20%20%0A%20%20%20%20%0A%20%20%20%20%20%20%20%20%20%20%20%20var%20marker_d84525c3a105478da867e1ae13b7c564%20%3D%20L.marker%28%0A%20%20%20%20%20%20%20%20%20%20%20%20%20%20%20%20%5B45.3735%2C%20-121.6959%5D%2C%0A%20%20%20%20%20%20%20%20%20%20%20%20%20%20%20%20%7B%7D%0A%20%20%20%20%20%20%20%20%20%20%20%20%29.addTo%28map_e958c3c6462b4d6686225dad5dcde39e%29%3B%0A%20%20%20%20%20%20%20%20%0A%20%20%20%20%0A%20%20%20%20%20%20%20%20%20%20%20%20var%20marker_97eb90428be645b8bff3fbba0d70dbe2%20%3D%20L.marker%28%0A%20%20%20%20%20%20%20%20%20%20%20%20%20%20%20%20%5B44.6743%2C%20-121.7996%5D%2C%0A%20%20%20%20%20%20%20%20%20%20%20%20%20%20%20%20%7B%7D%0A%20%20%20%20%20%20%20%20%20%20%20%20%29.addTo%28map_e958c3c6462b4d6686225dad5dcde39e%29%3B%0A%20%20%20%20%20%20%20%20%0A%20%20%20%20%0A%20%20%20%20%20%20%20%20%20%20%20%20var%20marker_f9f8c19759934f528f245ca3abe5835f%20%3D%20L.marker%28%0A%20%20%20%20%20%20%20%20%20%20%20%20%20%20%20%20%5B44.1035%2C%20-121.7693%5D%2C%0A%20%20%20%20%20%20%20%20%20%20%20%20%20%20%20%20%7B%7D%0A%20%20%20%20%20%20%20%20%20%20%20%20%29.addTo%28map_e958c3c6462b4d6686225dad5dcde39e%29%3B%0A%20%20%20%20%20%20%20%20%0A%20%20%20%20%0A%20%20%20%20%20%20%20%20%20%20%20%20var%20marker_cbaa9f69ddc048ebb9f97dcc88376313%20%3D%20L.marker%28%0A%20%20%20%20%20%20%20%20%20%20%20%20%20%20%20%20%5B44.1666%2C%20-121.7723%5D%2C%0A%20%20%20%20%20%20%20%20%20%20%20%20%20%20%20%20%7B%7D%0A%20%20%20%20%20%20%20%20%20%20%20%20%29.addTo%28map_e958c3c6462b4d6686225dad5dcde39e%29%3B%0A%20%20%20%20%20%20%20%20%0A%20%20%20%20%0A%20%20%20%20%20%20%20%20%20%20%20%20var%20marker_5cb3ac4deb174fcbafdfc0134750dc5a%20%3D%20L.marker%28%0A%20%20%20%20%20%20%20%20%20%20%20%20%20%20%20%20%5B44.1483%2C%20-121.784%5D%2C%0A%20%20%20%20%20%20%20%20%20%20%20%20%20%20%20%20%7B%7D%0A%20%20%20%20%20%20%20%20%20%20%20%20%29.addTo%28map_e958c3c6462b4d6686225dad5dcde39e%29%3B%0A%20%20%20%20%20%20%20%20%0A%20%20%20%20%0A%20%20%20%20%20%20%20%20%20%20%20%20var%20marker_853289a310a642ef829f587fef504877%20%3D%20L.marker%28%0A%20%20%20%20%20%20%20%20%20%20%20%20%20%20%20%20%5B45.245%2C%20-117.2929%5D%2C%0A%20%20%20%20%20%20%20%20%20%20%20%20%20%20%20%20%7B%7D%0A%20%20%20%20%20%20%20%20%20%20%20%20%29.addTo%28map_e958c3c6462b4d6686225dad5dcde39e%29%3B%0A%20%20%20%20%20%20%20%20%0A%20%20%20%20%0A%20%20%20%20%20%20%20%20%20%20%20%20var%20marker_fa819ebea10c4db8a1ca69d7ab8be852%20%3D%20L.marker%28%0A%20%20%20%20%20%20%20%20%20%20%20%20%20%20%20%20%5B42.6364%2C%20-118.5767%5D%2C%0A%20%20%20%20%20%20%20%20%20%20%20%20%20%20%20%20%7B%7D%0A%20%20%20%20%20%20%20%20%20%20%20%20%29.addTo%28map_e958c3c6462b4d6686225dad5dcde39e%29%3B%0A%20%20%20%20%20%20%20%20%0A%20%20%20%20%0A%20%20%20%20%20%20%20%20%20%20%20%20var%20marker_c6ec85e99c27422184be836c04779c02%20%3D%20L.marker%28%0A%20%20%20%20%20%20%20%20%20%20%20%20%20%20%20%20%5B45.203%2C%20-117.175%5D%2C%0A%20%20%20%20%20%20%20%20%20%20%20%20%20%20%20%20%7B%7D%0A%20%20%20%20%20%20%20%20%20%20%20%20%29.addTo%28map_e958c3c6462b4d6686225dad5dcde39e%29%3B%0A%20%20%20%20%20%20%20%20%0A%20%20%20%20%0A%20%20%20%20%20%20%20%20%20%20%20%20var%20marker_e4b3dbed65b843a593d2b422df97592c%20%3D%20L.marker%28%0A%20%20%20%20%20%20%20%20%20%20%20%20%20%20%20%20%5B45.3046%2C%20-117.3452%5D%2C%0A%20%20%20%20%20%20%20%20%20%20%20%20%20%20%20%20%7B%7D%0A%20%20%20%20%20%20%20%20%20%20%20%20%29.addTo%28map_e958c3c6462b4d6686225dad5dcde39e%29%3B%0A%20%20%20%20%20%20%20%20%0A%20%20%20%20%0A%20%20%20%20%20%20%20%20%20%20%20%20var%20marker_a8779d40790d42eeab321cc39c06e0df%20%3D%20L.marker%28%0A%20%20%20%20%20%20%20%20%20%20%20%20%20%20%20%20%5B45.0644%2C%20-117.246%5D%2C%0A%20%20%20%20%20%20%20%20%20%20%20%20%20%20%20%20%7B%7D%0A%20%20%20%20%20%20%20%20%20%20%20%20%29.addTo%28map_e958c3c6462b4d6686225dad5dcde39e%29%3B%0A%20%20%20%20%20%20%20%20%0A%20%20%20%20%0A%20%20%20%20%20%20%20%20%20%20%20%20var%20marker_03454a79b5ed4ee998cd6104a3739ddd%20%3D%20L.marker%28%0A%20%20%20%20%20%20%20%20%20%20%20%20%20%20%20%20%5B42.4445%2C%20-122.3156%5D%2C%0A%20%20%20%20%20%20%20%20%20%20%20%20%20%20%20%20%7B%7D%0A%20%20%20%20%20%20%20%20%20%20%20%20%29.addTo%28map_e958c3c6462b4d6686225dad5dcde39e%29%3B%0A%20%20%20%20%20%20%20%20%0A%20%20%20%20%0A%20%20%20%20%20%20%20%20%20%20%20%20var%20marker_9e3a9c2b78f5450cac3f1aa726d7465d%20%3D%20L.marker%28%0A%20%20%20%20%20%20%20%20%20%20%20%20%20%20%20%20%5B45.2223%2C%20-117.3968%5D%2C%0A%20%20%20%20%20%20%20%20%20%20%20%20%20%20%20%20%7B%7D%0A%20%20%20%20%20%20%20%20%20%20%20%20%29.addTo%28map_e958c3c6462b4d6686225dad5dcde39e%29%3B%0A%20%20%20%20%20%20%20%20%0A%20%20%20%20%0A%20%20%20%20%20%20%20%20%20%20%20%20var%20marker_e6a0fe3e8d74477b8fd029ab16d3bdcf%20%3D%20L.marker%28%0A%20%20%20%20%20%20%20%20%20%20%20%20%20%20%20%20%5B43.1528%2C%20-122.0665%5D%2C%0A%20%20%20%20%20%20%20%20%20%20%20%20%20%20%20%20%7B%7D%0A%20%20%20%20%20%20%20%20%20%20%20%20%29.addTo%28map_e958c3c6462b4d6686225dad5dcde39e%29%3B%0A%20%20%20%20%20%20%20%20%0A%20%20%20%20%0A%20%20%20%20%20%20%20%20%20%20%20%20var%20marker_44db57bbb2494ef18fccf76d0c259c04%20%3D%20L.marker%28%0A%20%20%20%20%20%20%20%20%20%20%20%20%20%20%20%20%5B44.083%2C%20-121.6994%5D%2C%0A%20%20%20%20%20%20%20%20%20%20%20%20%20%20%20%20%7B%7D%0A%20%20%20%20%20%20%20%20%20%20%20%20%29.addTo%28map_e958c3c6462b4d6686225dad5dcde39e%29%3B%0A%20%20%20%20%20%20%20%20%0A%20%20%20%20%0A%20%20%20%20%20%20%20%20%20%20%20%20var%20marker_73e391471e4b49fcabbda242d3905511%20%3D%20L.marker%28%0A%20%20%20%20%20%20%20%20%20%20%20%20%20%20%20%20%5B44.8168%2C%20-118.1039%5D%2C%0A%20%20%20%20%20%20%20%20%20%20%20%20%20%20%20%20%7B%7D%0A%20%20%20%20%20%20%20%20%20%20%20%20%29.addTo%28map_e958c3c6462b4d6686225dad5dcde39e%29%3B%0A%20%20%20%20%20%20%20%20%0A%20%20%20%20%0A%20%20%20%20%20%20%20%20%20%20%20%20var%20marker_4cb4d4a429be41f3bc4bc3699779462c%20%3D%20L.marker%28%0A%20%20%20%20%20%20%20%20%20%20%20%20%20%20%20%20%5B43.9794%2C%20-121.6885%5D%2C%0A%20%20%20%20%20%20%20%20%20%20%20%20%20%20%20%20%7B%7D%0A%20%20%20%20%20%20%20%20%20%20%20%20%29.addTo%28map_e958c3c6462b4d6686225dad5dcde39e%29%3B%0A%20%20%20%20%20%20%20%20%0A%20%20%20%20%0A%20%20%20%20%20%20%20%20%20%20%20%20var%20marker_aaf4746a91384e6e9a473606c110eeab%20%3D%20L.marker%28%0A%20%20%20%20%20%20%20%20%20%20%20%20%20%20%20%20%5B44.3123%2C%20-118.7166%5D%2C%0A%20%20%20%20%20%20%20%20%20%20%20%20%20%20%20%20%7B%7D%0A%20%20%20%20%20%20%20%20%20%20%20%20%29.addTo%28map_e958c3c6462b4d6686225dad5dcde39e%29%3B%0A%20%20%20%20%20%20%20%20%0A%20%20%20%20%0A%20%20%20%20%20%20%20%20%20%20%20%20var%20marker_89dfeb0f43484c919b89ac810f2e41b0%20%3D%20L.marker%28%0A%20%20%20%20%20%20%20%20%20%20%20%20%20%20%20%20%5B42.9229%2C%20-122.0162%5D%2C%0A%20%20%20%20%20%20%20%20%20%20%20%20%20%20%20%20%7B%7D%0A%20%20%20%20%20%20%20%20%20%20%20%20%29.addTo%28map_e958c3c6462b4d6686225dad5dcde39e%29%3B%0A%20%20%20%20%20%20%20%20%0A%20%20%20%20%0A%20%20%20%20%20%20%20%20%20%20%20%20var%20marker_7824e9d98cc64e22958c352ec8fbe8ee%20%3D%20L.marker%28%0A%20%20%20%20%20%20%20%20%20%20%20%20%20%20%20%20%5B43.5207%2C%20-122.1496%5D%2C%0A%20%20%20%20%20%20%20%20%20%20%20%20%20%20%20%20%7B%7D%0A%20%20%20%20%20%20%20%20%20%20%20%20%29.addTo%28map_e958c3c6462b4d6686225dad5dcde39e%29%3B%0A%20%20%20%20%20%20%20%20%0A%20%20%20%20%0A%20%20%20%20%20%20%20%20%20%20%20%20var%20marker_faa4412f73294bc6873dfcfe9412563f%20%3D%20L.marker%28%0A%20%20%20%20%20%20%20%20%20%20%20%20%20%20%20%20%5B42.0995%2C%20-118.6506%5D%2C%0A%20%20%20%20%20%20%20%20%20%20%20%20%20%20%20%20%7B%7D%0A%20%20%20%20%20%20%20%20%20%20%20%20%29.addTo%28map_e958c3c6462b4d6686225dad5dcde39e%29%3B%0A%20%20%20%20%20%20%20%20%0A%20%20%20%20%0A%20%20%20%20%20%20%20%20%20%20%20%20var%20marker_b8c1282f58ce45c9a73f0c7fe0dc8778%20%3D%20L.marker%28%0A%20%20%20%20%20%20%20%20%20%20%20%20%20%20%20%20%5B42.0628%2C%20-120.2408%5D%2C%0A%20%20%20%20%20%20%20%20%20%20%20%20%20%20%20%20%7B%7D%0A%20%20%20%20%20%20%20%20%20%20%20%20%29.addTo%28map_e958c3c6462b4d6686225dad5dcde39e%29%3B%0A%20%20%20%20%20%20%20%20%0A%20%20%20%20%0A%20%20%20%20%20%20%20%20%20%20%20%20var%20marker_c7f0f9b663924d8cb93f8dc1232de308%20%3D%20L.marker%28%0A%20%20%20%20%20%20%20%20%20%20%20%20%20%20%20%20%5B42.3001%2C%20-120.1238%5D%2C%0A%20%20%20%20%20%20%20%20%20%20%20%20%20%20%20%20%7B%7D%0A%20%20%20%20%20%20%20%20%20%20%20%20%29.addTo%28map_e958c3c6462b4d6686225dad5dcde39e%29%3B%0A%20%20%20%20%20%20%20%20%0A%20%20%20%20%0A%20%20%20%20%20%20%20%20%20%20%20%20var%20marker_76f3b73c4d2b4db98a2a7bcefab82ead%20%3D%20L.marker%28%0A%20%20%20%20%20%20%20%20%20%20%20%20%20%20%20%20%5B43.1551%2C%20-122.22%5D%2C%0A%20%20%20%20%20%20%20%20%20%20%20%20%20%20%20%20%7B%7D%0A%20%20%20%20%20%20%20%20%20%20%20%20%29.addTo%28map_e958c3c6462b4d6686225dad5dcde39e%29%3B%0A%20%20%20%20%20%20%20%20%0A%20%20%20%20%0A%20%20%20%20%20%20%20%20%20%20%20%20var%20marker_10b60f3bf5e944c39140e8bbe5bb352d%20%3D%20L.marker%28%0A%20%20%20%20%20%20%20%20%20%20%20%20%20%20%20%20%5B42.496%2C%20-120.8773%5D%2C%0A%20%20%20%20%20%20%20%20%20%20%20%20%20%20%20%20%7B%7D%0A%20%20%20%20%20%20%20%20%20%20%20%20%29.addTo%28map_e958c3c6462b4d6686225dad5dcde39e%29%3B%0A%20%20%20%20%20%20%20%20%0A%20%20%20%20%0A%20%20%20%20%20%20%20%20%20%20%20%20var%20marker_a7bf20e636454c9d9ac542f5dae04612%20%3D%20L.marker%28%0A%20%20%20%20%20%20%20%20%20%20%20%20%20%20%20%20%5B42.3155%2C%20-122.0876%5D%2C%0A%20%20%20%20%20%20%20%20%20%20%20%20%20%20%20%20%7B%7D%0A%20%20%20%20%20%20%20%20%20%20%20%20%29.addTo%28map_e958c3c6462b4d6686225dad5dcde39e%29%3B%0A%20%20%20%20%20%20%20%20%0A%20%20%20%20%0A%20%20%20%20%20%20%20%20%20%20%20%20var%20marker_6698d5c48b2c421e9a5b1807b3108422%20%3D%20L.marker%28%0A%20%20%20%20%20%20%20%20%20%20%20%20%20%20%20%20%5B42.9306%2C%20-121.3607%5D%2C%0A%20%20%20%20%20%20%20%20%20%20%20%20%20%20%20%20%7B%7D%0A%20%20%20%20%20%20%20%20%20%20%20%20%29.addTo%28map_e958c3c6462b4d6686225dad5dcde39e%29%3B%0A%20%20%20%20%20%20%20%20%0A%20%20%20%20%0A%20%20%20%20%20%20%20%20%20%20%20%20var%20marker_5133dbe54a4f47e89998ac134ddfa4fb%20%3D%20L.marker%28%0A%20%20%20%20%20%20%20%20%20%20%20%20%20%20%20%20%5B44.7138%2C%20-118.5617%5D%2C%0A%20%20%20%20%20%20%20%20%20%20%20%20%20%20%20%20%7B%7D%0A%20%20%20%20%20%20%20%20%20%20%20%20%29.addTo%28map_e958c3c6462b4d6686225dad5dcde39e%29%3B%0A%20%20%20%20%20%20%20%20%0A%20%20%20%20%0A%20%20%20%20%20%20%20%20%20%20%20%20var%20marker_6e0b8d2d558d4a0989623d3dc27aab2f%20%3D%20L.marker%28%0A%20%20%20%20%20%20%20%20%20%20%20%20%20%20%20%20%5B42.5134%2C%20-122.1453%5D%2C%0A%20%20%20%20%20%20%20%20%20%20%20%20%20%20%20%20%7B%7D%0A%20%20%20%20%20%20%20%20%20%20%20%20%29.addTo%28map_e958c3c6462b4d6686225dad5dcde39e%29%3B%0A%20%20%20%20%20%20%20%20%0A%20%20%20%20%0A%20%20%20%20%20%20%20%20%20%20%20%20var%20marker_d7a02e8b8e98484f887f48aae63adba2%20%3D%20L.marker%28%0A%20%20%20%20%20%20%20%20%20%20%20%20%20%20%20%20%5B44.2889%2C%20-118.4954%5D%2C%0A%20%20%20%20%20%20%20%20%20%20%20%20%20%20%20%20%7B%7D%0A%20%20%20%20%20%20%20%20%20%20%20%20%29.addTo%28map_e958c3c6462b4d6686225dad5dcde39e%29%3B%0A%20%20%20%20%20%20%20%20%0A%20%20%20%20%0A%20%20%20%20%20%20%20%20%20%20%20%20var%20marker_49e375ed3be6465392818689c090f9a9%20%3D%20L.marker%28%0A%20%20%20%20%20%20%20%20%20%20%20%20%20%20%20%20%5B42.4597%2C%20-119.7414%5D%2C%0A%20%20%20%20%20%20%20%20%20%20%20%20%20%20%20%20%7B%7D%0A%20%20%20%20%20%20%20%20%20%20%20%20%29.addTo%28map_e958c3c6462b4d6686225dad5dcde39e%29%3B%0A%20%20%20%20%20%20%20%20%0A%20%20%20%20%0A%20%20%20%20%20%20%20%20%20%20%20%20var%20marker_108d2741e0da489888ff3586c3ef88a6%20%3D%20L.marker%28%0A%20%20%20%20%20%20%20%20%20%20%20%20%20%20%20%20%5B43.6892%2C%20-121.2549%5D%2C%0A%20%20%20%20%20%20%20%20%20%20%20%20%20%20%20%20%7B%7D%0A%20%20%20%20%20%20%20%20%20%20%20%20%29.addTo%28map_e958c3c6462b4d6686225dad5dcde39e%29%3B%0A%20%20%20%20%20%20%20%20%0A%3C/script%3E onload=\"this.contentDocument.open();this.contentDocument.write(    decodeURIComponent(this.getAttribute('data-html')));this.contentDocument.close();\" allowfullscreen webkitallowfullscreen mozallowfullscreen></iframe></div></div>"
            ],
            "text/plain": [
              "<folium.folium.Map at 0x7fd07e99d110>"
            ]
          },
          "metadata": {},
          "execution_count": 18
        }
      ]
    },
    {
      "cell_type": "markdown",
      "source": [
        "### Convert Elevation to `float`"
      ],
      "metadata": {
        "id": "GEF_S_dFLDwg"
      }
    },
    {
      "cell_type": "code",
      "source": [
        "# Get elevation value as a float\n",
        "float(mountain_stats['Elevation'].iloc[0][:-2])"
      ],
      "metadata": {
        "colab": {
          "base_uri": "https://localhost:8080/",
          "height": 0
        },
        "id": "EH-j43aQLVM5",
        "outputId": "a80cb1ed-6623-4a41-abbe-7d15631c389f"
      },
      "execution_count": 19,
      "outputs": [
        {
          "output_type": "execute_result",
          "data": {
            "text/plain": [
              "3428.8"
            ]
          },
          "metadata": {},
          "execution_count": 19
        }
      ]
    },
    {
      "cell_type": "code",
      "source": [
        "# To get these data from every row, we can write another quick for loop\n",
        "elevation = []\n",
        "for i in range(len(mountain_stats)):\n",
        "    elev = float(mountain_stats['Elevation'].iloc[i][:-2])\n",
        "    elevation.append(elev)\n",
        "elevation"
      ],
      "metadata": {
        "colab": {
          "base_uri": "https://localhost:8080/",
          "height": 0
        },
        "id": "lEl8FUzHLZqf",
        "outputId": "7edf93c3-a729-4823-b717-168c0f7af5e1"
      },
      "execution_count": 20,
      "outputs": [
        {
          "output_type": "execute_result",
          "data": {
            "text/plain": [
              "[3428.8,\n",
              " 3201.0,\n",
              " 3158.5,\n",
              " 3075.0,\n",
              " 3064.0,\n",
              " 3000.0,\n",
              " 2968.0,\n",
              " 2958.7,\n",
              " 2950.0,\n",
              " 2913.8,\n",
              " 2895.0,\n",
              " 2816.0,\n",
              " 2799.4,\n",
              " 2798.0,\n",
              " 2777.0,\n",
              " 2764.0,\n",
              " 2756.1,\n",
              " 2722.9,\n",
              " 2666.4,\n",
              " 2633.3,\n",
              " 2575.8,\n",
              " 2564.0,\n",
              " 2553.3,\n",
              " 2550.6,\n",
              " 2503.83,\n",
              " 2499.3,\n",
              " 2482.0,\n",
              " 2449.8,\n",
              " 2450.0,\n",
              " 2445.8,\n",
              " 2435.0]"
            ]
          },
          "metadata": {},
          "execution_count": 20
        }
      ]
    },
    {
      "cell_type": "code",
      "source": [
        "map = folium.Map(location=[44, -121], zoom_start=7)\n",
        "for i in range(0, len(coords)):\n",
        "    folium.Marker(coords[i], popup=elevation[i]).add_to(map)\n",
        "map"
      ],
      "metadata": {
        "colab": {
          "base_uri": "https://localhost:8080/",
          "height": 866
        },
        "id": "k4TmITK7LcI6",
        "outputId": "73a0b810-6194-449a-963c-c4465f27f10f"
      },
      "execution_count": 21,
      "outputs": [
        {
          "output_type": "execute_result",
          "data": {
            "text/html": [
              "<div style=\"width:100%;\"><div style=\"position:relative;width:100%;height:0;padding-bottom:60%;\"><span style=\"color:#565656\">Make this Notebook Trusted to load map: File -> Trust Notebook</span><iframe src=\"about:blank\" style=\"position:absolute;width:100%;height:100%;left:0;top:0;border:none !important;\" data-html=%3C%21DOCTYPE%20html%3E%0A%3Chead%3E%20%20%20%20%0A%20%20%20%20%3Cmeta%20http-equiv%3D%22content-type%22%20content%3D%22text/html%3B%20charset%3DUTF-8%22%20/%3E%0A%20%20%20%20%0A%20%20%20%20%20%20%20%20%3Cscript%3E%0A%20%20%20%20%20%20%20%20%20%20%20%20L_NO_TOUCH%20%3D%20false%3B%0A%20%20%20%20%20%20%20%20%20%20%20%20L_DISABLE_3D%20%3D%20false%3B%0A%20%20%20%20%20%20%20%20%3C/script%3E%0A%20%20%20%20%0A%20%20%20%20%3Cstyle%3Ehtml%2C%20body%20%7Bwidth%3A%20100%25%3Bheight%3A%20100%25%3Bmargin%3A%200%3Bpadding%3A%200%3B%7D%3C/style%3E%0A%20%20%20%20%3Cstyle%3E%23map%20%7Bposition%3Aabsolute%3Btop%3A0%3Bbottom%3A0%3Bright%3A0%3Bleft%3A0%3B%7D%3C/style%3E%0A%20%20%20%20%3Cscript%20src%3D%22https%3A//cdn.jsdelivr.net/npm/leaflet%401.6.0/dist/leaflet.js%22%3E%3C/script%3E%0A%20%20%20%20%3Cscript%20src%3D%22https%3A//code.jquery.com/jquery-1.12.4.min.js%22%3E%3C/script%3E%0A%20%20%20%20%3Cscript%20src%3D%22https%3A//maxcdn.bootstrapcdn.com/bootstrap/3.2.0/js/bootstrap.min.js%22%3E%3C/script%3E%0A%20%20%20%20%3Cscript%20src%3D%22https%3A//cdnjs.cloudflare.com/ajax/libs/Leaflet.awesome-markers/2.0.2/leaflet.awesome-markers.js%22%3E%3C/script%3E%0A%20%20%20%20%3Clink%20rel%3D%22stylesheet%22%20href%3D%22https%3A//cdn.jsdelivr.net/npm/leaflet%401.6.0/dist/leaflet.css%22/%3E%0A%20%20%20%20%3Clink%20rel%3D%22stylesheet%22%20href%3D%22https%3A//maxcdn.bootstrapcdn.com/bootstrap/3.2.0/css/bootstrap.min.css%22/%3E%0A%20%20%20%20%3Clink%20rel%3D%22stylesheet%22%20href%3D%22https%3A//maxcdn.bootstrapcdn.com/bootstrap/3.2.0/css/bootstrap-theme.min.css%22/%3E%0A%20%20%20%20%3Clink%20rel%3D%22stylesheet%22%20href%3D%22https%3A//maxcdn.bootstrapcdn.com/font-awesome/4.6.3/css/font-awesome.min.css%22/%3E%0A%20%20%20%20%3Clink%20rel%3D%22stylesheet%22%20href%3D%22https%3A//cdnjs.cloudflare.com/ajax/libs/Leaflet.awesome-markers/2.0.2/leaflet.awesome-markers.css%22/%3E%0A%20%20%20%20%3Clink%20rel%3D%22stylesheet%22%20href%3D%22https%3A//cdn.jsdelivr.net/gh/python-visualization/folium/folium/templates/leaflet.awesome.rotate.min.css%22/%3E%0A%20%20%20%20%0A%20%20%20%20%20%20%20%20%20%20%20%20%3Cmeta%20name%3D%22viewport%22%20content%3D%22width%3Ddevice-width%2C%0A%20%20%20%20%20%20%20%20%20%20%20%20%20%20%20%20initial-scale%3D1.0%2C%20maximum-scale%3D1.0%2C%20user-scalable%3Dno%22%20/%3E%0A%20%20%20%20%20%20%20%20%20%20%20%20%3Cstyle%3E%0A%20%20%20%20%20%20%20%20%20%20%20%20%20%20%20%20%23map_66ced63b3ac846b8b06923b64de087b6%20%7B%0A%20%20%20%20%20%20%20%20%20%20%20%20%20%20%20%20%20%20%20%20position%3A%20relative%3B%0A%20%20%20%20%20%20%20%20%20%20%20%20%20%20%20%20%20%20%20%20width%3A%20100.0%25%3B%0A%20%20%20%20%20%20%20%20%20%20%20%20%20%20%20%20%20%20%20%20height%3A%20100.0%25%3B%0A%20%20%20%20%20%20%20%20%20%20%20%20%20%20%20%20%20%20%20%20left%3A%200.0%25%3B%0A%20%20%20%20%20%20%20%20%20%20%20%20%20%20%20%20%20%20%20%20top%3A%200.0%25%3B%0A%20%20%20%20%20%20%20%20%20%20%20%20%20%20%20%20%7D%0A%20%20%20%20%20%20%20%20%20%20%20%20%3C/style%3E%0A%20%20%20%20%20%20%20%20%0A%3C/head%3E%0A%3Cbody%3E%20%20%20%20%0A%20%20%20%20%0A%20%20%20%20%20%20%20%20%20%20%20%20%3Cdiv%20class%3D%22folium-map%22%20id%3D%22map_66ced63b3ac846b8b06923b64de087b6%22%20%3E%3C/div%3E%0A%20%20%20%20%20%20%20%20%0A%3C/body%3E%0A%3Cscript%3E%20%20%20%20%0A%20%20%20%20%0A%20%20%20%20%20%20%20%20%20%20%20%20var%20map_66ced63b3ac846b8b06923b64de087b6%20%3D%20L.map%28%0A%20%20%20%20%20%20%20%20%20%20%20%20%20%20%20%20%22map_66ced63b3ac846b8b06923b64de087b6%22%2C%0A%20%20%20%20%20%20%20%20%20%20%20%20%20%20%20%20%7B%0A%20%20%20%20%20%20%20%20%20%20%20%20%20%20%20%20%20%20%20%20center%3A%20%5B44.0%2C%20-121.0%5D%2C%0A%20%20%20%20%20%20%20%20%20%20%20%20%20%20%20%20%20%20%20%20crs%3A%20L.CRS.EPSG3857%2C%0A%20%20%20%20%20%20%20%20%20%20%20%20%20%20%20%20%20%20%20%20zoom%3A%207%2C%0A%20%20%20%20%20%20%20%20%20%20%20%20%20%20%20%20%20%20%20%20zoomControl%3A%20true%2C%0A%20%20%20%20%20%20%20%20%20%20%20%20%20%20%20%20%20%20%20%20preferCanvas%3A%20false%2C%0A%20%20%20%20%20%20%20%20%20%20%20%20%20%20%20%20%7D%0A%20%20%20%20%20%20%20%20%20%20%20%20%29%3B%0A%0A%20%20%20%20%20%20%20%20%20%20%20%20%0A%0A%20%20%20%20%20%20%20%20%0A%20%20%20%20%0A%20%20%20%20%20%20%20%20%20%20%20%20var%20tile_layer_3bf431fae9e84ef08277fce504154abf%20%3D%20L.tileLayer%28%0A%20%20%20%20%20%20%20%20%20%20%20%20%20%20%20%20%22https%3A//%7Bs%7D.tile.openstreetmap.org/%7Bz%7D/%7Bx%7D/%7By%7D.png%22%2C%0A%20%20%20%20%20%20%20%20%20%20%20%20%20%20%20%20%7B%22attribution%22%3A%20%22Data%20by%20%5Cu0026copy%3B%20%5Cu003ca%20href%3D%5C%22http%3A//openstreetmap.org%5C%22%5Cu003eOpenStreetMap%5Cu003c/a%5Cu003e%2C%20under%20%5Cu003ca%20href%3D%5C%22http%3A//www.openstreetmap.org/copyright%5C%22%5Cu003eODbL%5Cu003c/a%5Cu003e.%22%2C%20%22detectRetina%22%3A%20false%2C%20%22maxNativeZoom%22%3A%2018%2C%20%22maxZoom%22%3A%2018%2C%20%22minZoom%22%3A%200%2C%20%22noWrap%22%3A%20false%2C%20%22opacity%22%3A%201%2C%20%22subdomains%22%3A%20%22abc%22%2C%20%22tms%22%3A%20false%7D%0A%20%20%20%20%20%20%20%20%20%20%20%20%29.addTo%28map_66ced63b3ac846b8b06923b64de087b6%29%3B%0A%20%20%20%20%20%20%20%20%0A%20%20%20%20%0A%20%20%20%20%20%20%20%20%20%20%20%20var%20marker_6557c20ed689434c881941fd9ec5a450%20%3D%20L.marker%28%0A%20%20%20%20%20%20%20%20%20%20%20%20%20%20%20%20%5B45.3735%2C%20-121.6959%5D%2C%0A%20%20%20%20%20%20%20%20%20%20%20%20%20%20%20%20%7B%7D%0A%20%20%20%20%20%20%20%20%20%20%20%20%29.addTo%28map_66ced63b3ac846b8b06923b64de087b6%29%3B%0A%20%20%20%20%20%20%20%20%0A%20%20%20%20%0A%20%20%20%20%20%20%20%20var%20popup_a3998128419f44dd913a94a8ab607297%20%3D%20L.popup%28%7B%22maxWidth%22%3A%20%22100%25%22%7D%29%3B%0A%0A%20%20%20%20%20%20%20%20%0A%20%20%20%20%20%20%20%20%20%20%20%20var%20html_9637929207824d70b27be3c97595f008%20%3D%20%24%28%60%3Cdiv%20id%3D%22html_9637929207824d70b27be3c97595f008%22%20style%3D%22width%3A%20100.0%25%3B%20height%3A%20100.0%25%3B%22%3E3428.8%3C/div%3E%60%29%5B0%5D%3B%0A%20%20%20%20%20%20%20%20%20%20%20%20popup_a3998128419f44dd913a94a8ab607297.setContent%28html_9637929207824d70b27be3c97595f008%29%3B%0A%20%20%20%20%20%20%20%20%0A%0A%20%20%20%20%20%20%20%20marker_6557c20ed689434c881941fd9ec5a450.bindPopup%28popup_a3998128419f44dd913a94a8ab607297%29%0A%20%20%20%20%20%20%20%20%3B%0A%0A%20%20%20%20%20%20%20%20%0A%20%20%20%20%0A%20%20%20%20%0A%20%20%20%20%20%20%20%20%20%20%20%20var%20marker_c49de08a1b234b3086f6bbf1c680e35d%20%3D%20L.marker%28%0A%20%20%20%20%20%20%20%20%20%20%20%20%20%20%20%20%5B44.6743%2C%20-121.7996%5D%2C%0A%20%20%20%20%20%20%20%20%20%20%20%20%20%20%20%20%7B%7D%0A%20%20%20%20%20%20%20%20%20%20%20%20%29.addTo%28map_66ced63b3ac846b8b06923b64de087b6%29%3B%0A%20%20%20%20%20%20%20%20%0A%20%20%20%20%0A%20%20%20%20%20%20%20%20var%20popup_f6c8350292454c0795e93f2e942aa0f8%20%3D%20L.popup%28%7B%22maxWidth%22%3A%20%22100%25%22%7D%29%3B%0A%0A%20%20%20%20%20%20%20%20%0A%20%20%20%20%20%20%20%20%20%20%20%20var%20html_c248f32a83ce492293ad7ca82bbf7623%20%3D%20%24%28%60%3Cdiv%20id%3D%22html_c248f32a83ce492293ad7ca82bbf7623%22%20style%3D%22width%3A%20100.0%25%3B%20height%3A%20100.0%25%3B%22%3E3201.0%3C/div%3E%60%29%5B0%5D%3B%0A%20%20%20%20%20%20%20%20%20%20%20%20popup_f6c8350292454c0795e93f2e942aa0f8.setContent%28html_c248f32a83ce492293ad7ca82bbf7623%29%3B%0A%20%20%20%20%20%20%20%20%0A%0A%20%20%20%20%20%20%20%20marker_c49de08a1b234b3086f6bbf1c680e35d.bindPopup%28popup_f6c8350292454c0795e93f2e942aa0f8%29%0A%20%20%20%20%20%20%20%20%3B%0A%0A%20%20%20%20%20%20%20%20%0A%20%20%20%20%0A%20%20%20%20%0A%20%20%20%20%20%20%20%20%20%20%20%20var%20marker_33298881a3dc4c929543cbafc248c010%20%3D%20L.marker%28%0A%20%20%20%20%20%20%20%20%20%20%20%20%20%20%20%20%5B44.1035%2C%20-121.7693%5D%2C%0A%20%20%20%20%20%20%20%20%20%20%20%20%20%20%20%20%7B%7D%0A%20%20%20%20%20%20%20%20%20%20%20%20%29.addTo%28map_66ced63b3ac846b8b06923b64de087b6%29%3B%0A%20%20%20%20%20%20%20%20%0A%20%20%20%20%0A%20%20%20%20%20%20%20%20var%20popup_f333d3ae2d9744a99f9e0ec65b17c6e0%20%3D%20L.popup%28%7B%22maxWidth%22%3A%20%22100%25%22%7D%29%3B%0A%0A%20%20%20%20%20%20%20%20%0A%20%20%20%20%20%20%20%20%20%20%20%20var%20html_7af8e00dd67f4922b79201355c81abd4%20%3D%20%24%28%60%3Cdiv%20id%3D%22html_7af8e00dd67f4922b79201355c81abd4%22%20style%3D%22width%3A%20100.0%25%3B%20height%3A%20100.0%25%3B%22%3E3158.5%3C/div%3E%60%29%5B0%5D%3B%0A%20%20%20%20%20%20%20%20%20%20%20%20popup_f333d3ae2d9744a99f9e0ec65b17c6e0.setContent%28html_7af8e00dd67f4922b79201355c81abd4%29%3B%0A%20%20%20%20%20%20%20%20%0A%0A%20%20%20%20%20%20%20%20marker_33298881a3dc4c929543cbafc248c010.bindPopup%28popup_f333d3ae2d9744a99f9e0ec65b17c6e0%29%0A%20%20%20%20%20%20%20%20%3B%0A%0A%20%20%20%20%20%20%20%20%0A%20%20%20%20%0A%20%20%20%20%0A%20%20%20%20%20%20%20%20%20%20%20%20var%20marker_c20303a69bea4a1787ecdd7e37229032%20%3D%20L.marker%28%0A%20%20%20%20%20%20%20%20%20%20%20%20%20%20%20%20%5B44.1666%2C%20-121.7723%5D%2C%0A%20%20%20%20%20%20%20%20%20%20%20%20%20%20%20%20%7B%7D%0A%20%20%20%20%20%20%20%20%20%20%20%20%29.addTo%28map_66ced63b3ac846b8b06923b64de087b6%29%3B%0A%20%20%20%20%20%20%20%20%0A%20%20%20%20%0A%20%20%20%20%20%20%20%20var%20popup_79c509236b54491da60818d0f053bc91%20%3D%20L.popup%28%7B%22maxWidth%22%3A%20%22100%25%22%7D%29%3B%0A%0A%20%20%20%20%20%20%20%20%0A%20%20%20%20%20%20%20%20%20%20%20%20var%20html_3a187f70527f459e97a1d9a22b2cdb03%20%3D%20%24%28%60%3Cdiv%20id%3D%22html_3a187f70527f459e97a1d9a22b2cdb03%22%20style%3D%22width%3A%20100.0%25%3B%20height%3A%20100.0%25%3B%22%3E3075.0%3C/div%3E%60%29%5B0%5D%3B%0A%20%20%20%20%20%20%20%20%20%20%20%20popup_79c509236b54491da60818d0f053bc91.setContent%28html_3a187f70527f459e97a1d9a22b2cdb03%29%3B%0A%20%20%20%20%20%20%20%20%0A%0A%20%20%20%20%20%20%20%20marker_c20303a69bea4a1787ecdd7e37229032.bindPopup%28popup_79c509236b54491da60818d0f053bc91%29%0A%20%20%20%20%20%20%20%20%3B%0A%0A%20%20%20%20%20%20%20%20%0A%20%20%20%20%0A%20%20%20%20%0A%20%20%20%20%20%20%20%20%20%20%20%20var%20marker_68207726516043ce9bbb096bfbbf71cf%20%3D%20L.marker%28%0A%20%20%20%20%20%20%20%20%20%20%20%20%20%20%20%20%5B44.1483%2C%20-121.784%5D%2C%0A%20%20%20%20%20%20%20%20%20%20%20%20%20%20%20%20%7B%7D%0A%20%20%20%20%20%20%20%20%20%20%20%20%29.addTo%28map_66ced63b3ac846b8b06923b64de087b6%29%3B%0A%20%20%20%20%20%20%20%20%0A%20%20%20%20%0A%20%20%20%20%20%20%20%20var%20popup_0f75ad3d60d5440fbb45c78dfe380389%20%3D%20L.popup%28%7B%22maxWidth%22%3A%20%22100%25%22%7D%29%3B%0A%0A%20%20%20%20%20%20%20%20%0A%20%20%20%20%20%20%20%20%20%20%20%20var%20html_bce322f20d074b14beb36d2aaf3958d0%20%3D%20%24%28%60%3Cdiv%20id%3D%22html_bce322f20d074b14beb36d2aaf3958d0%22%20style%3D%22width%3A%20100.0%25%3B%20height%3A%20100.0%25%3B%22%3E3064.0%3C/div%3E%60%29%5B0%5D%3B%0A%20%20%20%20%20%20%20%20%20%20%20%20popup_0f75ad3d60d5440fbb45c78dfe380389.setContent%28html_bce322f20d074b14beb36d2aaf3958d0%29%3B%0A%20%20%20%20%20%20%20%20%0A%0A%20%20%20%20%20%20%20%20marker_68207726516043ce9bbb096bfbbf71cf.bindPopup%28popup_0f75ad3d60d5440fbb45c78dfe380389%29%0A%20%20%20%20%20%20%20%20%3B%0A%0A%20%20%20%20%20%20%20%20%0A%20%20%20%20%0A%20%20%20%20%0A%20%20%20%20%20%20%20%20%20%20%20%20var%20marker_5772e58e28564052b6557b412f85b49d%20%3D%20L.marker%28%0A%20%20%20%20%20%20%20%20%20%20%20%20%20%20%20%20%5B45.245%2C%20-117.2929%5D%2C%0A%20%20%20%20%20%20%20%20%20%20%20%20%20%20%20%20%7B%7D%0A%20%20%20%20%20%20%20%20%20%20%20%20%29.addTo%28map_66ced63b3ac846b8b06923b64de087b6%29%3B%0A%20%20%20%20%20%20%20%20%0A%20%20%20%20%0A%20%20%20%20%20%20%20%20var%20popup_c4d1b110ec594bc1b7223d78e21582e1%20%3D%20L.popup%28%7B%22maxWidth%22%3A%20%22100%25%22%7D%29%3B%0A%0A%20%20%20%20%20%20%20%20%0A%20%20%20%20%20%20%20%20%20%20%20%20var%20html_4e25b45d57aa4f47ad21852e63ef04bf%20%3D%20%24%28%60%3Cdiv%20id%3D%22html_4e25b45d57aa4f47ad21852e63ef04bf%22%20style%3D%22width%3A%20100.0%25%3B%20height%3A%20100.0%25%3B%22%3E3000.0%3C/div%3E%60%29%5B0%5D%3B%0A%20%20%20%20%20%20%20%20%20%20%20%20popup_c4d1b110ec594bc1b7223d78e21582e1.setContent%28html_4e25b45d57aa4f47ad21852e63ef04bf%29%3B%0A%20%20%20%20%20%20%20%20%0A%0A%20%20%20%20%20%20%20%20marker_5772e58e28564052b6557b412f85b49d.bindPopup%28popup_c4d1b110ec594bc1b7223d78e21582e1%29%0A%20%20%20%20%20%20%20%20%3B%0A%0A%20%20%20%20%20%20%20%20%0A%20%20%20%20%0A%20%20%20%20%0A%20%20%20%20%20%20%20%20%20%20%20%20var%20marker_5c748a8ee78745a9b76812cf8297cd2b%20%3D%20L.marker%28%0A%20%20%20%20%20%20%20%20%20%20%20%20%20%20%20%20%5B42.6364%2C%20-118.5767%5D%2C%0A%20%20%20%20%20%20%20%20%20%20%20%20%20%20%20%20%7B%7D%0A%20%20%20%20%20%20%20%20%20%20%20%20%29.addTo%28map_66ced63b3ac846b8b06923b64de087b6%29%3B%0A%20%20%20%20%20%20%20%20%0A%20%20%20%20%0A%20%20%20%20%20%20%20%20var%20popup_7175f8300c1f4686b89ea44c7e063307%20%3D%20L.popup%28%7B%22maxWidth%22%3A%20%22100%25%22%7D%29%3B%0A%0A%20%20%20%20%20%20%20%20%0A%20%20%20%20%20%20%20%20%20%20%20%20var%20html_e925ae7c22c64933a7200ec90cceeb02%20%3D%20%24%28%60%3Cdiv%20id%3D%22html_e925ae7c22c64933a7200ec90cceeb02%22%20style%3D%22width%3A%20100.0%25%3B%20height%3A%20100.0%25%3B%22%3E2968.0%3C/div%3E%60%29%5B0%5D%3B%0A%20%20%20%20%20%20%20%20%20%20%20%20popup_7175f8300c1f4686b89ea44c7e063307.setContent%28html_e925ae7c22c64933a7200ec90cceeb02%29%3B%0A%20%20%20%20%20%20%20%20%0A%0A%20%20%20%20%20%20%20%20marker_5c748a8ee78745a9b76812cf8297cd2b.bindPopup%28popup_7175f8300c1f4686b89ea44c7e063307%29%0A%20%20%20%20%20%20%20%20%3B%0A%0A%20%20%20%20%20%20%20%20%0A%20%20%20%20%0A%20%20%20%20%0A%20%20%20%20%20%20%20%20%20%20%20%20var%20marker_34948ea822fe4a1e97e963802689a2f5%20%3D%20L.marker%28%0A%20%20%20%20%20%20%20%20%20%20%20%20%20%20%20%20%5B45.203%2C%20-117.175%5D%2C%0A%20%20%20%20%20%20%20%20%20%20%20%20%20%20%20%20%7B%7D%0A%20%20%20%20%20%20%20%20%20%20%20%20%29.addTo%28map_66ced63b3ac846b8b06923b64de087b6%29%3B%0A%20%20%20%20%20%20%20%20%0A%20%20%20%20%0A%20%20%20%20%20%20%20%20var%20popup_a3a672bfa36145f3b1a3cf3d1b63d700%20%3D%20L.popup%28%7B%22maxWidth%22%3A%20%22100%25%22%7D%29%3B%0A%0A%20%20%20%20%20%20%20%20%0A%20%20%20%20%20%20%20%20%20%20%20%20var%20html_b51745432773403481166b583d0f1146%20%3D%20%24%28%60%3Cdiv%20id%3D%22html_b51745432773403481166b583d0f1146%22%20style%3D%22width%3A%20100.0%25%3B%20height%3A%20100.0%25%3B%22%3E2958.7%3C/div%3E%60%29%5B0%5D%3B%0A%20%20%20%20%20%20%20%20%20%20%20%20popup_a3a672bfa36145f3b1a3cf3d1b63d700.setContent%28html_b51745432773403481166b583d0f1146%29%3B%0A%20%20%20%20%20%20%20%20%0A%0A%20%20%20%20%20%20%20%20marker_34948ea822fe4a1e97e963802689a2f5.bindPopup%28popup_a3a672bfa36145f3b1a3cf3d1b63d700%29%0A%20%20%20%20%20%20%20%20%3B%0A%0A%20%20%20%20%20%20%20%20%0A%20%20%20%20%0A%20%20%20%20%0A%20%20%20%20%20%20%20%20%20%20%20%20var%20marker_f86ed5de4a2f4355afe7ffb42e6c4209%20%3D%20L.marker%28%0A%20%20%20%20%20%20%20%20%20%20%20%20%20%20%20%20%5B45.3046%2C%20-117.3452%5D%2C%0A%20%20%20%20%20%20%20%20%20%20%20%20%20%20%20%20%7B%7D%0A%20%20%20%20%20%20%20%20%20%20%20%20%29.addTo%28map_66ced63b3ac846b8b06923b64de087b6%29%3B%0A%20%20%20%20%20%20%20%20%0A%20%20%20%20%0A%20%20%20%20%20%20%20%20var%20popup_e679c4d45c1945ffb21b5895383ef4cf%20%3D%20L.popup%28%7B%22maxWidth%22%3A%20%22100%25%22%7D%29%3B%0A%0A%20%20%20%20%20%20%20%20%0A%20%20%20%20%20%20%20%20%20%20%20%20var%20html_dc18777377d1461ca59a8f37c1cdc90d%20%3D%20%24%28%60%3Cdiv%20id%3D%22html_dc18777377d1461ca59a8f37c1cdc90d%22%20style%3D%22width%3A%20100.0%25%3B%20height%3A%20100.0%25%3B%22%3E2950.0%3C/div%3E%60%29%5B0%5D%3B%0A%20%20%20%20%20%20%20%20%20%20%20%20popup_e679c4d45c1945ffb21b5895383ef4cf.setContent%28html_dc18777377d1461ca59a8f37c1cdc90d%29%3B%0A%20%20%20%20%20%20%20%20%0A%0A%20%20%20%20%20%20%20%20marker_f86ed5de4a2f4355afe7ffb42e6c4209.bindPopup%28popup_e679c4d45c1945ffb21b5895383ef4cf%29%0A%20%20%20%20%20%20%20%20%3B%0A%0A%20%20%20%20%20%20%20%20%0A%20%20%20%20%0A%20%20%20%20%0A%20%20%20%20%20%20%20%20%20%20%20%20var%20marker_bed5f9a1fde342209531f9abfc1e2381%20%3D%20L.marker%28%0A%20%20%20%20%20%20%20%20%20%20%20%20%20%20%20%20%5B45.0644%2C%20-117.246%5D%2C%0A%20%20%20%20%20%20%20%20%20%20%20%20%20%20%20%20%7B%7D%0A%20%20%20%20%20%20%20%20%20%20%20%20%29.addTo%28map_66ced63b3ac846b8b06923b64de087b6%29%3B%0A%20%20%20%20%20%20%20%20%0A%20%20%20%20%0A%20%20%20%20%20%20%20%20var%20popup_78298ea0168b4011a6822e5fdcefac3c%20%3D%20L.popup%28%7B%22maxWidth%22%3A%20%22100%25%22%7D%29%3B%0A%0A%20%20%20%20%20%20%20%20%0A%20%20%20%20%20%20%20%20%20%20%20%20var%20html_bc02f738647448cba347596f36a833cd%20%3D%20%24%28%60%3Cdiv%20id%3D%22html_bc02f738647448cba347596f36a833cd%22%20style%3D%22width%3A%20100.0%25%3B%20height%3A%20100.0%25%3B%22%3E2913.8%3C/div%3E%60%29%5B0%5D%3B%0A%20%20%20%20%20%20%20%20%20%20%20%20popup_78298ea0168b4011a6822e5fdcefac3c.setContent%28html_bc02f738647448cba347596f36a833cd%29%3B%0A%20%20%20%20%20%20%20%20%0A%0A%20%20%20%20%20%20%20%20marker_bed5f9a1fde342209531f9abfc1e2381.bindPopup%28popup_78298ea0168b4011a6822e5fdcefac3c%29%0A%20%20%20%20%20%20%20%20%3B%0A%0A%20%20%20%20%20%20%20%20%0A%20%20%20%20%0A%20%20%20%20%0A%20%20%20%20%20%20%20%20%20%20%20%20var%20marker_b89f83be939e487bb3780a5f182a9ddc%20%3D%20L.marker%28%0A%20%20%20%20%20%20%20%20%20%20%20%20%20%20%20%20%5B42.4445%2C%20-122.3156%5D%2C%0A%20%20%20%20%20%20%20%20%20%20%20%20%20%20%20%20%7B%7D%0A%20%20%20%20%20%20%20%20%20%20%20%20%29.addTo%28map_66ced63b3ac846b8b06923b64de087b6%29%3B%0A%20%20%20%20%20%20%20%20%0A%20%20%20%20%0A%20%20%20%20%20%20%20%20var%20popup_1e6848885da544e0a6683c9db181588b%20%3D%20L.popup%28%7B%22maxWidth%22%3A%20%22100%25%22%7D%29%3B%0A%0A%20%20%20%20%20%20%20%20%0A%20%20%20%20%20%20%20%20%20%20%20%20var%20html_6f9c5e50fed94da18f9ea2de338d00cb%20%3D%20%24%28%60%3Cdiv%20id%3D%22html_6f9c5e50fed94da18f9ea2de338d00cb%22%20style%3D%22width%3A%20100.0%25%3B%20height%3A%20100.0%25%3B%22%3E2895.0%3C/div%3E%60%29%5B0%5D%3B%0A%20%20%20%20%20%20%20%20%20%20%20%20popup_1e6848885da544e0a6683c9db181588b.setContent%28html_6f9c5e50fed94da18f9ea2de338d00cb%29%3B%0A%20%20%20%20%20%20%20%20%0A%0A%20%20%20%20%20%20%20%20marker_b89f83be939e487bb3780a5f182a9ddc.bindPopup%28popup_1e6848885da544e0a6683c9db181588b%29%0A%20%20%20%20%20%20%20%20%3B%0A%0A%20%20%20%20%20%20%20%20%0A%20%20%20%20%0A%20%20%20%20%0A%20%20%20%20%20%20%20%20%20%20%20%20var%20marker_1ae0c17bd16c45b6af9cf3e0e4c00ab5%20%3D%20L.marker%28%0A%20%20%20%20%20%20%20%20%20%20%20%20%20%20%20%20%5B45.2223%2C%20-117.3968%5D%2C%0A%20%20%20%20%20%20%20%20%20%20%20%20%20%20%20%20%7B%7D%0A%20%20%20%20%20%20%20%20%20%20%20%20%29.addTo%28map_66ced63b3ac846b8b06923b64de087b6%29%3B%0A%20%20%20%20%20%20%20%20%0A%20%20%20%20%0A%20%20%20%20%20%20%20%20var%20popup_3d351d5ff5d241f5ac35dbca438c264b%20%3D%20L.popup%28%7B%22maxWidth%22%3A%20%22100%25%22%7D%29%3B%0A%0A%20%20%20%20%20%20%20%20%0A%20%20%20%20%20%20%20%20%20%20%20%20var%20html_6ce26709aa804279b13049aa37005c78%20%3D%20%24%28%60%3Cdiv%20id%3D%22html_6ce26709aa804279b13049aa37005c78%22%20style%3D%22width%3A%20100.0%25%3B%20height%3A%20100.0%25%3B%22%3E2816.0%3C/div%3E%60%29%5B0%5D%3B%0A%20%20%20%20%20%20%20%20%20%20%20%20popup_3d351d5ff5d241f5ac35dbca438c264b.setContent%28html_6ce26709aa804279b13049aa37005c78%29%3B%0A%20%20%20%20%20%20%20%20%0A%0A%20%20%20%20%20%20%20%20marker_1ae0c17bd16c45b6af9cf3e0e4c00ab5.bindPopup%28popup_3d351d5ff5d241f5ac35dbca438c264b%29%0A%20%20%20%20%20%20%20%20%3B%0A%0A%20%20%20%20%20%20%20%20%0A%20%20%20%20%0A%20%20%20%20%0A%20%20%20%20%20%20%20%20%20%20%20%20var%20marker_26a4e8542f9d4c8682f2813dc9ffa6d5%20%3D%20L.marker%28%0A%20%20%20%20%20%20%20%20%20%20%20%20%20%20%20%20%5B43.1528%2C%20-122.0665%5D%2C%0A%20%20%20%20%20%20%20%20%20%20%20%20%20%20%20%20%7B%7D%0A%20%20%20%20%20%20%20%20%20%20%20%20%29.addTo%28map_66ced63b3ac846b8b06923b64de087b6%29%3B%0A%20%20%20%20%20%20%20%20%0A%20%20%20%20%0A%20%20%20%20%20%20%20%20var%20popup_1d0213d3acea4b069d4dbc7b4d4b3b21%20%3D%20L.popup%28%7B%22maxWidth%22%3A%20%22100%25%22%7D%29%3B%0A%0A%20%20%20%20%20%20%20%20%0A%20%20%20%20%20%20%20%20%20%20%20%20var%20html_77f4c24235a047788621c39e6cfc4ffe%20%3D%20%24%28%60%3Cdiv%20id%3D%22html_77f4c24235a047788621c39e6cfc4ffe%22%20style%3D%22width%3A%20100.0%25%3B%20height%3A%20100.0%25%3B%22%3E2799.4%3C/div%3E%60%29%5B0%5D%3B%0A%20%20%20%20%20%20%20%20%20%20%20%20popup_1d0213d3acea4b069d4dbc7b4d4b3b21.setContent%28html_77f4c24235a047788621c39e6cfc4ffe%29%3B%0A%20%20%20%20%20%20%20%20%0A%0A%20%20%20%20%20%20%20%20marker_26a4e8542f9d4c8682f2813dc9ffa6d5.bindPopup%28popup_1d0213d3acea4b069d4dbc7b4d4b3b21%29%0A%20%20%20%20%20%20%20%20%3B%0A%0A%20%20%20%20%20%20%20%20%0A%20%20%20%20%0A%20%20%20%20%0A%20%20%20%20%20%20%20%20%20%20%20%20var%20marker_02e62b4bb4e44388b07a209cbcc0d495%20%3D%20L.marker%28%0A%20%20%20%20%20%20%20%20%20%20%20%20%20%20%20%20%5B44.083%2C%20-121.6994%5D%2C%0A%20%20%20%20%20%20%20%20%20%20%20%20%20%20%20%20%7B%7D%0A%20%20%20%20%20%20%20%20%20%20%20%20%29.addTo%28map_66ced63b3ac846b8b06923b64de087b6%29%3B%0A%20%20%20%20%20%20%20%20%0A%20%20%20%20%0A%20%20%20%20%20%20%20%20var%20popup_5c3b965296a54ca98d1334b9aceae813%20%3D%20L.popup%28%7B%22maxWidth%22%3A%20%22100%25%22%7D%29%3B%0A%0A%20%20%20%20%20%20%20%20%0A%20%20%20%20%20%20%20%20%20%20%20%20var%20html_82f7735dc64249bab602681ff9f1b691%20%3D%20%24%28%60%3Cdiv%20id%3D%22html_82f7735dc64249bab602681ff9f1b691%22%20style%3D%22width%3A%20100.0%25%3B%20height%3A%20100.0%25%3B%22%3E2798.0%3C/div%3E%60%29%5B0%5D%3B%0A%20%20%20%20%20%20%20%20%20%20%20%20popup_5c3b965296a54ca98d1334b9aceae813.setContent%28html_82f7735dc64249bab602681ff9f1b691%29%3B%0A%20%20%20%20%20%20%20%20%0A%0A%20%20%20%20%20%20%20%20marker_02e62b4bb4e44388b07a209cbcc0d495.bindPopup%28popup_5c3b965296a54ca98d1334b9aceae813%29%0A%20%20%20%20%20%20%20%20%3B%0A%0A%20%20%20%20%20%20%20%20%0A%20%20%20%20%0A%20%20%20%20%0A%20%20%20%20%20%20%20%20%20%20%20%20var%20marker_a89dc1238eb341b091ef986be61a3409%20%3D%20L.marker%28%0A%20%20%20%20%20%20%20%20%20%20%20%20%20%20%20%20%5B44.8168%2C%20-118.1039%5D%2C%0A%20%20%20%20%20%20%20%20%20%20%20%20%20%20%20%20%7B%7D%0A%20%20%20%20%20%20%20%20%20%20%20%20%29.addTo%28map_66ced63b3ac846b8b06923b64de087b6%29%3B%0A%20%20%20%20%20%20%20%20%0A%20%20%20%20%0A%20%20%20%20%20%20%20%20var%20popup_017428f1b19b4bd0bd03cf9c1a48b473%20%3D%20L.popup%28%7B%22maxWidth%22%3A%20%22100%25%22%7D%29%3B%0A%0A%20%20%20%20%20%20%20%20%0A%20%20%20%20%20%20%20%20%20%20%20%20var%20html_a85f10a485cd40e38e6e3a0d6bd9841e%20%3D%20%24%28%60%3Cdiv%20id%3D%22html_a85f10a485cd40e38e6e3a0d6bd9841e%22%20style%3D%22width%3A%20100.0%25%3B%20height%3A%20100.0%25%3B%22%3E2777.0%3C/div%3E%60%29%5B0%5D%3B%0A%20%20%20%20%20%20%20%20%20%20%20%20popup_017428f1b19b4bd0bd03cf9c1a48b473.setContent%28html_a85f10a485cd40e38e6e3a0d6bd9841e%29%3B%0A%20%20%20%20%20%20%20%20%0A%0A%20%20%20%20%20%20%20%20marker_a89dc1238eb341b091ef986be61a3409.bindPopup%28popup_017428f1b19b4bd0bd03cf9c1a48b473%29%0A%20%20%20%20%20%20%20%20%3B%0A%0A%20%20%20%20%20%20%20%20%0A%20%20%20%20%0A%20%20%20%20%0A%20%20%20%20%20%20%20%20%20%20%20%20var%20marker_ebc2991ccdad4572a75ff8269f8fe252%20%3D%20L.marker%28%0A%20%20%20%20%20%20%20%20%20%20%20%20%20%20%20%20%5B43.9794%2C%20-121.6885%5D%2C%0A%20%20%20%20%20%20%20%20%20%20%20%20%20%20%20%20%7B%7D%0A%20%20%20%20%20%20%20%20%20%20%20%20%29.addTo%28map_66ced63b3ac846b8b06923b64de087b6%29%3B%0A%20%20%20%20%20%20%20%20%0A%20%20%20%20%0A%20%20%20%20%20%20%20%20var%20popup_42d1ecf98b4c41ad991eda16bb8d37f5%20%3D%20L.popup%28%7B%22maxWidth%22%3A%20%22100%25%22%7D%29%3B%0A%0A%20%20%20%20%20%20%20%20%0A%20%20%20%20%20%20%20%20%20%20%20%20var%20html_5ad095978a48495dad3c30a0758d1af8%20%3D%20%24%28%60%3Cdiv%20id%3D%22html_5ad095978a48495dad3c30a0758d1af8%22%20style%3D%22width%3A%20100.0%25%3B%20height%3A%20100.0%25%3B%22%3E2764.0%3C/div%3E%60%29%5B0%5D%3B%0A%20%20%20%20%20%20%20%20%20%20%20%20popup_42d1ecf98b4c41ad991eda16bb8d37f5.setContent%28html_5ad095978a48495dad3c30a0758d1af8%29%3B%0A%20%20%20%20%20%20%20%20%0A%0A%20%20%20%20%20%20%20%20marker_ebc2991ccdad4572a75ff8269f8fe252.bindPopup%28popup_42d1ecf98b4c41ad991eda16bb8d37f5%29%0A%20%20%20%20%20%20%20%20%3B%0A%0A%20%20%20%20%20%20%20%20%0A%20%20%20%20%0A%20%20%20%20%0A%20%20%20%20%20%20%20%20%20%20%20%20var%20marker_8579b07020234ae086e1e7187d8672c6%20%3D%20L.marker%28%0A%20%20%20%20%20%20%20%20%20%20%20%20%20%20%20%20%5B44.3123%2C%20-118.7166%5D%2C%0A%20%20%20%20%20%20%20%20%20%20%20%20%20%20%20%20%7B%7D%0A%20%20%20%20%20%20%20%20%20%20%20%20%29.addTo%28map_66ced63b3ac846b8b06923b64de087b6%29%3B%0A%20%20%20%20%20%20%20%20%0A%20%20%20%20%0A%20%20%20%20%20%20%20%20var%20popup_463e12b14aff470b9e32c2276ee667cc%20%3D%20L.popup%28%7B%22maxWidth%22%3A%20%22100%25%22%7D%29%3B%0A%0A%20%20%20%20%20%20%20%20%0A%20%20%20%20%20%20%20%20%20%20%20%20var%20html_a10ad36a007440d98af229666999734f%20%3D%20%24%28%60%3Cdiv%20id%3D%22html_a10ad36a007440d98af229666999734f%22%20style%3D%22width%3A%20100.0%25%3B%20height%3A%20100.0%25%3B%22%3E2756.1%3C/div%3E%60%29%5B0%5D%3B%0A%20%20%20%20%20%20%20%20%20%20%20%20popup_463e12b14aff470b9e32c2276ee667cc.setContent%28html_a10ad36a007440d98af229666999734f%29%3B%0A%20%20%20%20%20%20%20%20%0A%0A%20%20%20%20%20%20%20%20marker_8579b07020234ae086e1e7187d8672c6.bindPopup%28popup_463e12b14aff470b9e32c2276ee667cc%29%0A%20%20%20%20%20%20%20%20%3B%0A%0A%20%20%20%20%20%20%20%20%0A%20%20%20%20%0A%20%20%20%20%0A%20%20%20%20%20%20%20%20%20%20%20%20var%20marker_85149750395a4d7ea0378b0310517911%20%3D%20L.marker%28%0A%20%20%20%20%20%20%20%20%20%20%20%20%20%20%20%20%5B42.9229%2C%20-122.0162%5D%2C%0A%20%20%20%20%20%20%20%20%20%20%20%20%20%20%20%20%7B%7D%0A%20%20%20%20%20%20%20%20%20%20%20%20%29.addTo%28map_66ced63b3ac846b8b06923b64de087b6%29%3B%0A%20%20%20%20%20%20%20%20%0A%20%20%20%20%0A%20%20%20%20%20%20%20%20var%20popup_9536c5cc1eef449b97a654373debe2c6%20%3D%20L.popup%28%7B%22maxWidth%22%3A%20%22100%25%22%7D%29%3B%0A%0A%20%20%20%20%20%20%20%20%0A%20%20%20%20%20%20%20%20%20%20%20%20var%20html_19a603c21d3a4c628e0707982dad3ab3%20%3D%20%24%28%60%3Cdiv%20id%3D%22html_19a603c21d3a4c628e0707982dad3ab3%22%20style%3D%22width%3A%20100.0%25%3B%20height%3A%20100.0%25%3B%22%3E2722.9%3C/div%3E%60%29%5B0%5D%3B%0A%20%20%20%20%20%20%20%20%20%20%20%20popup_9536c5cc1eef449b97a654373debe2c6.setContent%28html_19a603c21d3a4c628e0707982dad3ab3%29%3B%0A%20%20%20%20%20%20%20%20%0A%0A%20%20%20%20%20%20%20%20marker_85149750395a4d7ea0378b0310517911.bindPopup%28popup_9536c5cc1eef449b97a654373debe2c6%29%0A%20%20%20%20%20%20%20%20%3B%0A%0A%20%20%20%20%20%20%20%20%0A%20%20%20%20%0A%20%20%20%20%0A%20%20%20%20%20%20%20%20%20%20%20%20var%20marker_30ea90c27152483d8a4b6958aaad2935%20%3D%20L.marker%28%0A%20%20%20%20%20%20%20%20%20%20%20%20%20%20%20%20%5B43.5207%2C%20-122.1496%5D%2C%0A%20%20%20%20%20%20%20%20%20%20%20%20%20%20%20%20%7B%7D%0A%20%20%20%20%20%20%20%20%20%20%20%20%29.addTo%28map_66ced63b3ac846b8b06923b64de087b6%29%3B%0A%20%20%20%20%20%20%20%20%0A%20%20%20%20%0A%20%20%20%20%20%20%20%20var%20popup_03a4ed207bdb4ad18dd151d0a4039839%20%3D%20L.popup%28%7B%22maxWidth%22%3A%20%22100%25%22%7D%29%3B%0A%0A%20%20%20%20%20%20%20%20%0A%20%20%20%20%20%20%20%20%20%20%20%20var%20html_87bbe389568a436fa6971e330c671c4a%20%3D%20%24%28%60%3Cdiv%20id%3D%22html_87bbe389568a436fa6971e330c671c4a%22%20style%3D%22width%3A%20100.0%25%3B%20height%3A%20100.0%25%3B%22%3E2666.4%3C/div%3E%60%29%5B0%5D%3B%0A%20%20%20%20%20%20%20%20%20%20%20%20popup_03a4ed207bdb4ad18dd151d0a4039839.setContent%28html_87bbe389568a436fa6971e330c671c4a%29%3B%0A%20%20%20%20%20%20%20%20%0A%0A%20%20%20%20%20%20%20%20marker_30ea90c27152483d8a4b6958aaad2935.bindPopup%28popup_03a4ed207bdb4ad18dd151d0a4039839%29%0A%20%20%20%20%20%20%20%20%3B%0A%0A%20%20%20%20%20%20%20%20%0A%20%20%20%20%0A%20%20%20%20%0A%20%20%20%20%20%20%20%20%20%20%20%20var%20marker_2c54c65a52404c1e831947abdce2f338%20%3D%20L.marker%28%0A%20%20%20%20%20%20%20%20%20%20%20%20%20%20%20%20%5B42.0995%2C%20-118.6506%5D%2C%0A%20%20%20%20%20%20%20%20%20%20%20%20%20%20%20%20%7B%7D%0A%20%20%20%20%20%20%20%20%20%20%20%20%29.addTo%28map_66ced63b3ac846b8b06923b64de087b6%29%3B%0A%20%20%20%20%20%20%20%20%0A%20%20%20%20%0A%20%20%20%20%20%20%20%20var%20popup_cb7afc433a214af28ba762a5d46b16e9%20%3D%20L.popup%28%7B%22maxWidth%22%3A%20%22100%25%22%7D%29%3B%0A%0A%20%20%20%20%20%20%20%20%0A%20%20%20%20%20%20%20%20%20%20%20%20var%20html_384ba3df8fd04e319a73b1863203fd2d%20%3D%20%24%28%60%3Cdiv%20id%3D%22html_384ba3df8fd04e319a73b1863203fd2d%22%20style%3D%22width%3A%20100.0%25%3B%20height%3A%20100.0%25%3B%22%3E2633.3%3C/div%3E%60%29%5B0%5D%3B%0A%20%20%20%20%20%20%20%20%20%20%20%20popup_cb7afc433a214af28ba762a5d46b16e9.setContent%28html_384ba3df8fd04e319a73b1863203fd2d%29%3B%0A%20%20%20%20%20%20%20%20%0A%0A%20%20%20%20%20%20%20%20marker_2c54c65a52404c1e831947abdce2f338.bindPopup%28popup_cb7afc433a214af28ba762a5d46b16e9%29%0A%20%20%20%20%20%20%20%20%3B%0A%0A%20%20%20%20%20%20%20%20%0A%20%20%20%20%0A%20%20%20%20%0A%20%20%20%20%20%20%20%20%20%20%20%20var%20marker_c5bc227d75e04bd8a363bbc3f461c509%20%3D%20L.marker%28%0A%20%20%20%20%20%20%20%20%20%20%20%20%20%20%20%20%5B42.0628%2C%20-120.2408%5D%2C%0A%20%20%20%20%20%20%20%20%20%20%20%20%20%20%20%20%7B%7D%0A%20%20%20%20%20%20%20%20%20%20%20%20%29.addTo%28map_66ced63b3ac846b8b06923b64de087b6%29%3B%0A%20%20%20%20%20%20%20%20%0A%20%20%20%20%0A%20%20%20%20%20%20%20%20var%20popup_3ba38a4ab1bf40cd8498fe1de8b9b247%20%3D%20L.popup%28%7B%22maxWidth%22%3A%20%22100%25%22%7D%29%3B%0A%0A%20%20%20%20%20%20%20%20%0A%20%20%20%20%20%20%20%20%20%20%20%20var%20html_35014190fd0f45a29fe98f20e4790a26%20%3D%20%24%28%60%3Cdiv%20id%3D%22html_35014190fd0f45a29fe98f20e4790a26%22%20style%3D%22width%3A%20100.0%25%3B%20height%3A%20100.0%25%3B%22%3E2575.8%3C/div%3E%60%29%5B0%5D%3B%0A%20%20%20%20%20%20%20%20%20%20%20%20popup_3ba38a4ab1bf40cd8498fe1de8b9b247.setContent%28html_35014190fd0f45a29fe98f20e4790a26%29%3B%0A%20%20%20%20%20%20%20%20%0A%0A%20%20%20%20%20%20%20%20marker_c5bc227d75e04bd8a363bbc3f461c509.bindPopup%28popup_3ba38a4ab1bf40cd8498fe1de8b9b247%29%0A%20%20%20%20%20%20%20%20%3B%0A%0A%20%20%20%20%20%20%20%20%0A%20%20%20%20%0A%20%20%20%20%0A%20%20%20%20%20%20%20%20%20%20%20%20var%20marker_ac6da1755e5344309241e710698cebe3%20%3D%20L.marker%28%0A%20%20%20%20%20%20%20%20%20%20%20%20%20%20%20%20%5B42.3001%2C%20-120.1238%5D%2C%0A%20%20%20%20%20%20%20%20%20%20%20%20%20%20%20%20%7B%7D%0A%20%20%20%20%20%20%20%20%20%20%20%20%29.addTo%28map_66ced63b3ac846b8b06923b64de087b6%29%3B%0A%20%20%20%20%20%20%20%20%0A%20%20%20%20%0A%20%20%20%20%20%20%20%20var%20popup_8ecb53d49b794cb6884b611fd7815d0e%20%3D%20L.popup%28%7B%22maxWidth%22%3A%20%22100%25%22%7D%29%3B%0A%0A%20%20%20%20%20%20%20%20%0A%20%20%20%20%20%20%20%20%20%20%20%20var%20html_74b05b7458394849b4cbb6eb6699f24f%20%3D%20%24%28%60%3Cdiv%20id%3D%22html_74b05b7458394849b4cbb6eb6699f24f%22%20style%3D%22width%3A%20100.0%25%3B%20height%3A%20100.0%25%3B%22%3E2564.0%3C/div%3E%60%29%5B0%5D%3B%0A%20%20%20%20%20%20%20%20%20%20%20%20popup_8ecb53d49b794cb6884b611fd7815d0e.setContent%28html_74b05b7458394849b4cbb6eb6699f24f%29%3B%0A%20%20%20%20%20%20%20%20%0A%0A%20%20%20%20%20%20%20%20marker_ac6da1755e5344309241e710698cebe3.bindPopup%28popup_8ecb53d49b794cb6884b611fd7815d0e%29%0A%20%20%20%20%20%20%20%20%3B%0A%0A%20%20%20%20%20%20%20%20%0A%20%20%20%20%0A%20%20%20%20%0A%20%20%20%20%20%20%20%20%20%20%20%20var%20marker_c3c101bd838240e4b9a90ff408c854ad%20%3D%20L.marker%28%0A%20%20%20%20%20%20%20%20%20%20%20%20%20%20%20%20%5B43.1551%2C%20-122.22%5D%2C%0A%20%20%20%20%20%20%20%20%20%20%20%20%20%20%20%20%7B%7D%0A%20%20%20%20%20%20%20%20%20%20%20%20%29.addTo%28map_66ced63b3ac846b8b06923b64de087b6%29%3B%0A%20%20%20%20%20%20%20%20%0A%20%20%20%20%0A%20%20%20%20%20%20%20%20var%20popup_a5697446670d447f989ddd89536eb41b%20%3D%20L.popup%28%7B%22maxWidth%22%3A%20%22100%25%22%7D%29%3B%0A%0A%20%20%20%20%20%20%20%20%0A%20%20%20%20%20%20%20%20%20%20%20%20var%20html_eb049907a6714c02a2fd268ccf1f8603%20%3D%20%24%28%60%3Cdiv%20id%3D%22html_eb049907a6714c02a2fd268ccf1f8603%22%20style%3D%22width%3A%20100.0%25%3B%20height%3A%20100.0%25%3B%22%3E2553.3%3C/div%3E%60%29%5B0%5D%3B%0A%20%20%20%20%20%20%20%20%20%20%20%20popup_a5697446670d447f989ddd89536eb41b.setContent%28html_eb049907a6714c02a2fd268ccf1f8603%29%3B%0A%20%20%20%20%20%20%20%20%0A%0A%20%20%20%20%20%20%20%20marker_c3c101bd838240e4b9a90ff408c854ad.bindPopup%28popup_a5697446670d447f989ddd89536eb41b%29%0A%20%20%20%20%20%20%20%20%3B%0A%0A%20%20%20%20%20%20%20%20%0A%20%20%20%20%0A%20%20%20%20%0A%20%20%20%20%20%20%20%20%20%20%20%20var%20marker_b19983af150c4c6fb1a0238ac40e1c30%20%3D%20L.marker%28%0A%20%20%20%20%20%20%20%20%20%20%20%20%20%20%20%20%5B42.496%2C%20-120.8773%5D%2C%0A%20%20%20%20%20%20%20%20%20%20%20%20%20%20%20%20%7B%7D%0A%20%20%20%20%20%20%20%20%20%20%20%20%29.addTo%28map_66ced63b3ac846b8b06923b64de087b6%29%3B%0A%20%20%20%20%20%20%20%20%0A%20%20%20%20%0A%20%20%20%20%20%20%20%20var%20popup_48fe9c1682234aa4b838fa86a49c6180%20%3D%20L.popup%28%7B%22maxWidth%22%3A%20%22100%25%22%7D%29%3B%0A%0A%20%20%20%20%20%20%20%20%0A%20%20%20%20%20%20%20%20%20%20%20%20var%20html_8b3cca526ade4e72bca434356338847d%20%3D%20%24%28%60%3Cdiv%20id%3D%22html_8b3cca526ade4e72bca434356338847d%22%20style%3D%22width%3A%20100.0%25%3B%20height%3A%20100.0%25%3B%22%3E2550.6%3C/div%3E%60%29%5B0%5D%3B%0A%20%20%20%20%20%20%20%20%20%20%20%20popup_48fe9c1682234aa4b838fa86a49c6180.setContent%28html_8b3cca526ade4e72bca434356338847d%29%3B%0A%20%20%20%20%20%20%20%20%0A%0A%20%20%20%20%20%20%20%20marker_b19983af150c4c6fb1a0238ac40e1c30.bindPopup%28popup_48fe9c1682234aa4b838fa86a49c6180%29%0A%20%20%20%20%20%20%20%20%3B%0A%0A%20%20%20%20%20%20%20%20%0A%20%20%20%20%0A%20%20%20%20%0A%20%20%20%20%20%20%20%20%20%20%20%20var%20marker_61a3fe96c0b44c4c9b8cd38a0d7cd6b5%20%3D%20L.marker%28%0A%20%20%20%20%20%20%20%20%20%20%20%20%20%20%20%20%5B42.3155%2C%20-122.0876%5D%2C%0A%20%20%20%20%20%20%20%20%20%20%20%20%20%20%20%20%7B%7D%0A%20%20%20%20%20%20%20%20%20%20%20%20%29.addTo%28map_66ced63b3ac846b8b06923b64de087b6%29%3B%0A%20%20%20%20%20%20%20%20%0A%20%20%20%20%0A%20%20%20%20%20%20%20%20var%20popup_50c9b1357a0c43ddb29697a03d58a1e1%20%3D%20L.popup%28%7B%22maxWidth%22%3A%20%22100%25%22%7D%29%3B%0A%0A%20%20%20%20%20%20%20%20%0A%20%20%20%20%20%20%20%20%20%20%20%20var%20html_a826a470b9354b439c9e851436dbe001%20%3D%20%24%28%60%3Cdiv%20id%3D%22html_a826a470b9354b439c9e851436dbe001%22%20style%3D%22width%3A%20100.0%25%3B%20height%3A%20100.0%25%3B%22%3E2503.83%3C/div%3E%60%29%5B0%5D%3B%0A%20%20%20%20%20%20%20%20%20%20%20%20popup_50c9b1357a0c43ddb29697a03d58a1e1.setContent%28html_a826a470b9354b439c9e851436dbe001%29%3B%0A%20%20%20%20%20%20%20%20%0A%0A%20%20%20%20%20%20%20%20marker_61a3fe96c0b44c4c9b8cd38a0d7cd6b5.bindPopup%28popup_50c9b1357a0c43ddb29697a03d58a1e1%29%0A%20%20%20%20%20%20%20%20%3B%0A%0A%20%20%20%20%20%20%20%20%0A%20%20%20%20%0A%20%20%20%20%0A%20%20%20%20%20%20%20%20%20%20%20%20var%20marker_dce36d736446487d8de4c07780eececf%20%3D%20L.marker%28%0A%20%20%20%20%20%20%20%20%20%20%20%20%20%20%20%20%5B42.9306%2C%20-121.3607%5D%2C%0A%20%20%20%20%20%20%20%20%20%20%20%20%20%20%20%20%7B%7D%0A%20%20%20%20%20%20%20%20%20%20%20%20%29.addTo%28map_66ced63b3ac846b8b06923b64de087b6%29%3B%0A%20%20%20%20%20%20%20%20%0A%20%20%20%20%0A%20%20%20%20%20%20%20%20var%20popup_f54e5f90740441a69e21b8380103c5a7%20%3D%20L.popup%28%7B%22maxWidth%22%3A%20%22100%25%22%7D%29%3B%0A%0A%20%20%20%20%20%20%20%20%0A%20%20%20%20%20%20%20%20%20%20%20%20var%20html_861d72909b8e481b9ac732d454b6ed02%20%3D%20%24%28%60%3Cdiv%20id%3D%22html_861d72909b8e481b9ac732d454b6ed02%22%20style%3D%22width%3A%20100.0%25%3B%20height%3A%20100.0%25%3B%22%3E2499.3%3C/div%3E%60%29%5B0%5D%3B%0A%20%20%20%20%20%20%20%20%20%20%20%20popup_f54e5f90740441a69e21b8380103c5a7.setContent%28html_861d72909b8e481b9ac732d454b6ed02%29%3B%0A%20%20%20%20%20%20%20%20%0A%0A%20%20%20%20%20%20%20%20marker_dce36d736446487d8de4c07780eececf.bindPopup%28popup_f54e5f90740441a69e21b8380103c5a7%29%0A%20%20%20%20%20%20%20%20%3B%0A%0A%20%20%20%20%20%20%20%20%0A%20%20%20%20%0A%20%20%20%20%0A%20%20%20%20%20%20%20%20%20%20%20%20var%20marker_061824f14cc240f691232645863c6949%20%3D%20L.marker%28%0A%20%20%20%20%20%20%20%20%20%20%20%20%20%20%20%20%5B44.7138%2C%20-118.5617%5D%2C%0A%20%20%20%20%20%20%20%20%20%20%20%20%20%20%20%20%7B%7D%0A%20%20%20%20%20%20%20%20%20%20%20%20%29.addTo%28map_66ced63b3ac846b8b06923b64de087b6%29%3B%0A%20%20%20%20%20%20%20%20%0A%20%20%20%20%0A%20%20%20%20%20%20%20%20var%20popup_f73cc2b1a62c46d0bde85a21d90e8fc1%20%3D%20L.popup%28%7B%22maxWidth%22%3A%20%22100%25%22%7D%29%3B%0A%0A%20%20%20%20%20%20%20%20%0A%20%20%20%20%20%20%20%20%20%20%20%20var%20html_f2229f1a52664c69bf924dc834d7f085%20%3D%20%24%28%60%3Cdiv%20id%3D%22html_f2229f1a52664c69bf924dc834d7f085%22%20style%3D%22width%3A%20100.0%25%3B%20height%3A%20100.0%25%3B%22%3E2482.0%3C/div%3E%60%29%5B0%5D%3B%0A%20%20%20%20%20%20%20%20%20%20%20%20popup_f73cc2b1a62c46d0bde85a21d90e8fc1.setContent%28html_f2229f1a52664c69bf924dc834d7f085%29%3B%0A%20%20%20%20%20%20%20%20%0A%0A%20%20%20%20%20%20%20%20marker_061824f14cc240f691232645863c6949.bindPopup%28popup_f73cc2b1a62c46d0bde85a21d90e8fc1%29%0A%20%20%20%20%20%20%20%20%3B%0A%0A%20%20%20%20%20%20%20%20%0A%20%20%20%20%0A%20%20%20%20%0A%20%20%20%20%20%20%20%20%20%20%20%20var%20marker_5b75ab208284419abd0e6be8f8c7372b%20%3D%20L.marker%28%0A%20%20%20%20%20%20%20%20%20%20%20%20%20%20%20%20%5B42.5134%2C%20-122.1453%5D%2C%0A%20%20%20%20%20%20%20%20%20%20%20%20%20%20%20%20%7B%7D%0A%20%20%20%20%20%20%20%20%20%20%20%20%29.addTo%28map_66ced63b3ac846b8b06923b64de087b6%29%3B%0A%20%20%20%20%20%20%20%20%0A%20%20%20%20%0A%20%20%20%20%20%20%20%20var%20popup_e1cacc72dbf04f6294614b268bab0db3%20%3D%20L.popup%28%7B%22maxWidth%22%3A%20%22100%25%22%7D%29%3B%0A%0A%20%20%20%20%20%20%20%20%0A%20%20%20%20%20%20%20%20%20%20%20%20var%20html_90eafa21dfde49f686c6fa9379706527%20%3D%20%24%28%60%3Cdiv%20id%3D%22html_90eafa21dfde49f686c6fa9379706527%22%20style%3D%22width%3A%20100.0%25%3B%20height%3A%20100.0%25%3B%22%3E2449.8%3C/div%3E%60%29%5B0%5D%3B%0A%20%20%20%20%20%20%20%20%20%20%20%20popup_e1cacc72dbf04f6294614b268bab0db3.setContent%28html_90eafa21dfde49f686c6fa9379706527%29%3B%0A%20%20%20%20%20%20%20%20%0A%0A%20%20%20%20%20%20%20%20marker_5b75ab208284419abd0e6be8f8c7372b.bindPopup%28popup_e1cacc72dbf04f6294614b268bab0db3%29%0A%20%20%20%20%20%20%20%20%3B%0A%0A%20%20%20%20%20%20%20%20%0A%20%20%20%20%0A%20%20%20%20%0A%20%20%20%20%20%20%20%20%20%20%20%20var%20marker_72da88119e67439a8785a5b467e83131%20%3D%20L.marker%28%0A%20%20%20%20%20%20%20%20%20%20%20%20%20%20%20%20%5B44.2889%2C%20-118.4954%5D%2C%0A%20%20%20%20%20%20%20%20%20%20%20%20%20%20%20%20%7B%7D%0A%20%20%20%20%20%20%20%20%20%20%20%20%29.addTo%28map_66ced63b3ac846b8b06923b64de087b6%29%3B%0A%20%20%20%20%20%20%20%20%0A%20%20%20%20%0A%20%20%20%20%20%20%20%20var%20popup_22c963f378c245159ec38280282fdd58%20%3D%20L.popup%28%7B%22maxWidth%22%3A%20%22100%25%22%7D%29%3B%0A%0A%20%20%20%20%20%20%20%20%0A%20%20%20%20%20%20%20%20%20%20%20%20var%20html_59154918b3b3413e980d901bc354e217%20%3D%20%24%28%60%3Cdiv%20id%3D%22html_59154918b3b3413e980d901bc354e217%22%20style%3D%22width%3A%20100.0%25%3B%20height%3A%20100.0%25%3B%22%3E2450.0%3C/div%3E%60%29%5B0%5D%3B%0A%20%20%20%20%20%20%20%20%20%20%20%20popup_22c963f378c245159ec38280282fdd58.setContent%28html_59154918b3b3413e980d901bc354e217%29%3B%0A%20%20%20%20%20%20%20%20%0A%0A%20%20%20%20%20%20%20%20marker_72da88119e67439a8785a5b467e83131.bindPopup%28popup_22c963f378c245159ec38280282fdd58%29%0A%20%20%20%20%20%20%20%20%3B%0A%0A%20%20%20%20%20%20%20%20%0A%20%20%20%20%0A%20%20%20%20%0A%20%20%20%20%20%20%20%20%20%20%20%20var%20marker_87ce8497b76e4fc0b08f6383e7ac7e1e%20%3D%20L.marker%28%0A%20%20%20%20%20%20%20%20%20%20%20%20%20%20%20%20%5B42.4597%2C%20-119.7414%5D%2C%0A%20%20%20%20%20%20%20%20%20%20%20%20%20%20%20%20%7B%7D%0A%20%20%20%20%20%20%20%20%20%20%20%20%29.addTo%28map_66ced63b3ac846b8b06923b64de087b6%29%3B%0A%20%20%20%20%20%20%20%20%0A%20%20%20%20%0A%20%20%20%20%20%20%20%20var%20popup_3eb7f3b2783c49d9830794c45ac431de%20%3D%20L.popup%28%7B%22maxWidth%22%3A%20%22100%25%22%7D%29%3B%0A%0A%20%20%20%20%20%20%20%20%0A%20%20%20%20%20%20%20%20%20%20%20%20var%20html_a7dad95a0cb044aea56e31ac0caf76e9%20%3D%20%24%28%60%3Cdiv%20id%3D%22html_a7dad95a0cb044aea56e31ac0caf76e9%22%20style%3D%22width%3A%20100.0%25%3B%20height%3A%20100.0%25%3B%22%3E2445.8%3C/div%3E%60%29%5B0%5D%3B%0A%20%20%20%20%20%20%20%20%20%20%20%20popup_3eb7f3b2783c49d9830794c45ac431de.setContent%28html_a7dad95a0cb044aea56e31ac0caf76e9%29%3B%0A%20%20%20%20%20%20%20%20%0A%0A%20%20%20%20%20%20%20%20marker_87ce8497b76e4fc0b08f6383e7ac7e1e.bindPopup%28popup_3eb7f3b2783c49d9830794c45ac431de%29%0A%20%20%20%20%20%20%20%20%3B%0A%0A%20%20%20%20%20%20%20%20%0A%20%20%20%20%0A%20%20%20%20%0A%20%20%20%20%20%20%20%20%20%20%20%20var%20marker_96374592843c4fa3b85a6755827b3f4d%20%3D%20L.marker%28%0A%20%20%20%20%20%20%20%20%20%20%20%20%20%20%20%20%5B43.6892%2C%20-121.2549%5D%2C%0A%20%20%20%20%20%20%20%20%20%20%20%20%20%20%20%20%7B%7D%0A%20%20%20%20%20%20%20%20%20%20%20%20%29.addTo%28map_66ced63b3ac846b8b06923b64de087b6%29%3B%0A%20%20%20%20%20%20%20%20%0A%20%20%20%20%0A%20%20%20%20%20%20%20%20var%20popup_677e67eab54441c4966fa1c278ea0abd%20%3D%20L.popup%28%7B%22maxWidth%22%3A%20%22100%25%22%7D%29%3B%0A%0A%20%20%20%20%20%20%20%20%0A%20%20%20%20%20%20%20%20%20%20%20%20var%20html_b14ddddf15f54c009b94eafad008d29c%20%3D%20%24%28%60%3Cdiv%20id%3D%22html_b14ddddf15f54c009b94eafad008d29c%22%20style%3D%22width%3A%20100.0%25%3B%20height%3A%20100.0%25%3B%22%3E2435.0%3C/div%3E%60%29%5B0%5D%3B%0A%20%20%20%20%20%20%20%20%20%20%20%20popup_677e67eab54441c4966fa1c278ea0abd.setContent%28html_b14ddddf15f54c009b94eafad008d29c%29%3B%0A%20%20%20%20%20%20%20%20%0A%0A%20%20%20%20%20%20%20%20marker_96374592843c4fa3b85a6755827b3f4d.bindPopup%28popup_677e67eab54441c4966fa1c278ea0abd%29%0A%20%20%20%20%20%20%20%20%3B%0A%0A%20%20%20%20%20%20%20%20%0A%20%20%20%20%0A%3C/script%3E onload=\"this.contentDocument.open();this.contentDocument.write(    decodeURIComponent(this.getAttribute('data-html')));this.contentDocument.close();\" allowfullscreen webkitallowfullscreen mozallowfullscreen></iframe></div></div>"
            ],
            "text/plain": [
              "<folium.folium.Map at 0x7fd07e9fcb90>"
            ]
          },
          "metadata": {},
          "execution_count": 21
        }
      ]
    },
    {
      "cell_type": "markdown",
      "source": [
        "### Convert Isolation to `float`"
      ],
      "metadata": {
        "id": "88GUsptkLiEt"
      }
    },
    {
      "cell_type": "code",
      "source": [
        "# Get isolation value as a float\n",
        "float(mountain_stats['Isolation'].iloc[0][:-2])"
      ],
      "metadata": {
        "colab": {
          "base_uri": "https://localhost:8080/",
          "height": 0
        },
        "id": "GpajZ1vfLic6",
        "outputId": "2c16aa22-b9a9-45ce-cb54-8ce6cf760dff"
      },
      "execution_count": 22,
      "outputs": [
        {
          "output_type": "execute_result",
          "data": {
            "text/plain": [
              "92.2"
            ]
          },
          "metadata": {},
          "execution_count": 22
        }
      ]
    },
    {
      "cell_type": "code",
      "source": [
        "# To get these data from every row, we can write another quick for loop\n",
        "isolation = []\n",
        "for i in range(len(mountain_stats)):\n",
        "    iso = float(mountain_stats['Isolation'].iloc[i][:-2])\n",
        "    isolation.append(iso)\n",
        "isolation"
      ],
      "metadata": {
        "colab": {
          "base_uri": "https://localhost:8080/",
          "height": 0
        },
        "id": "a4OAlzXgLlWG",
        "outputId": "382b6de2-de09-4735-94b9-921383dd3ce0"
      },
      "execution_count": 23,
      "outputs": [
        {
          "output_type": "execute_result",
          "data": {
            "text/plain": [
              "[92.2,\n",
              " 77.5,\n",
              " 63.4,\n",
              " 7.0,\n",
              " 1.8,\n",
              " 202.0,\n",
              " 201.0,\n",
              " 9.48,\n",
              " 7.79,\n",
              " 11.84,\n",
              " 111.8,\n",
              " 5.32,\n",
              " 81.1,\n",
              " 5.52,\n",
              " 69.9,\n",
              " 11.02,\n",
              " 74.2,\n",
              " 25.9,\n",
              " 41.4,\n",
              " 45.5,\n",
              " 71.4,\n",
              " 28.1,\n",
              " 12.49,\n",
              " 65.7,\n",
              " 23.7,\n",
              " 53.1,\n",
              " 23.5,\n",
              " 15.98,\n",
              " 10.73,\n",
              " 35.6,\n",
              " 46.5]"
            ]
          },
          "metadata": {},
          "execution_count": 23
        }
      ]
    },
    {
      "cell_type": "markdown",
      "source": [
        "### Map"
      ],
      "metadata": {
        "id": "bhfpEEC2Lnqw"
      }
    },
    {
      "cell_type": "code",
      "source": [
        "map = folium.Map(location=[44, -121], zoom_start=7)\n",
        "for i in range(0, len(coords)):\n",
        "    folium.Marker(coords[i], popup=isolation[i]).add_to(map)\n",
        "map"
      ],
      "metadata": {
        "colab": {
          "base_uri": "https://localhost:8080/",
          "height": 866
        },
        "id": "sfo_XBHDLorZ",
        "outputId": "d726bba9-4901-4de6-a20d-12b7c77a0769"
      },
      "execution_count": 24,
      "outputs": [
        {
          "output_type": "execute_result",
          "data": {
            "text/html": [
              "<div style=\"width:100%;\"><div style=\"position:relative;width:100%;height:0;padding-bottom:60%;\"><span style=\"color:#565656\">Make this Notebook Trusted to load map: File -> Trust Notebook</span><iframe src=\"about:blank\" style=\"position:absolute;width:100%;height:100%;left:0;top:0;border:none !important;\" data-html=%3C%21DOCTYPE%20html%3E%0A%3Chead%3E%20%20%20%20%0A%20%20%20%20%3Cmeta%20http-equiv%3D%22content-type%22%20content%3D%22text/html%3B%20charset%3DUTF-8%22%20/%3E%0A%20%20%20%20%0A%20%20%20%20%20%20%20%20%3Cscript%3E%0A%20%20%20%20%20%20%20%20%20%20%20%20L_NO_TOUCH%20%3D%20false%3B%0A%20%20%20%20%20%20%20%20%20%20%20%20L_DISABLE_3D%20%3D%20false%3B%0A%20%20%20%20%20%20%20%20%3C/script%3E%0A%20%20%20%20%0A%20%20%20%20%3Cstyle%3Ehtml%2C%20body%20%7Bwidth%3A%20100%25%3Bheight%3A%20100%25%3Bmargin%3A%200%3Bpadding%3A%200%3B%7D%3C/style%3E%0A%20%20%20%20%3Cstyle%3E%23map%20%7Bposition%3Aabsolute%3Btop%3A0%3Bbottom%3A0%3Bright%3A0%3Bleft%3A0%3B%7D%3C/style%3E%0A%20%20%20%20%3Cscript%20src%3D%22https%3A//cdn.jsdelivr.net/npm/leaflet%401.6.0/dist/leaflet.js%22%3E%3C/script%3E%0A%20%20%20%20%3Cscript%20src%3D%22https%3A//code.jquery.com/jquery-1.12.4.min.js%22%3E%3C/script%3E%0A%20%20%20%20%3Cscript%20src%3D%22https%3A//maxcdn.bootstrapcdn.com/bootstrap/3.2.0/js/bootstrap.min.js%22%3E%3C/script%3E%0A%20%20%20%20%3Cscript%20src%3D%22https%3A//cdnjs.cloudflare.com/ajax/libs/Leaflet.awesome-markers/2.0.2/leaflet.awesome-markers.js%22%3E%3C/script%3E%0A%20%20%20%20%3Clink%20rel%3D%22stylesheet%22%20href%3D%22https%3A//cdn.jsdelivr.net/npm/leaflet%401.6.0/dist/leaflet.css%22/%3E%0A%20%20%20%20%3Clink%20rel%3D%22stylesheet%22%20href%3D%22https%3A//maxcdn.bootstrapcdn.com/bootstrap/3.2.0/css/bootstrap.min.css%22/%3E%0A%20%20%20%20%3Clink%20rel%3D%22stylesheet%22%20href%3D%22https%3A//maxcdn.bootstrapcdn.com/bootstrap/3.2.0/css/bootstrap-theme.min.css%22/%3E%0A%20%20%20%20%3Clink%20rel%3D%22stylesheet%22%20href%3D%22https%3A//maxcdn.bootstrapcdn.com/font-awesome/4.6.3/css/font-awesome.min.css%22/%3E%0A%20%20%20%20%3Clink%20rel%3D%22stylesheet%22%20href%3D%22https%3A//cdnjs.cloudflare.com/ajax/libs/Leaflet.awesome-markers/2.0.2/leaflet.awesome-markers.css%22/%3E%0A%20%20%20%20%3Clink%20rel%3D%22stylesheet%22%20href%3D%22https%3A//cdn.jsdelivr.net/gh/python-visualization/folium/folium/templates/leaflet.awesome.rotate.min.css%22/%3E%0A%20%20%20%20%0A%20%20%20%20%20%20%20%20%20%20%20%20%3Cmeta%20name%3D%22viewport%22%20content%3D%22width%3Ddevice-width%2C%0A%20%20%20%20%20%20%20%20%20%20%20%20%20%20%20%20initial-scale%3D1.0%2C%20maximum-scale%3D1.0%2C%20user-scalable%3Dno%22%20/%3E%0A%20%20%20%20%20%20%20%20%20%20%20%20%3Cstyle%3E%0A%20%20%20%20%20%20%20%20%20%20%20%20%20%20%20%20%23map_352b833e217d4568a7d6a8304d7a90cc%20%7B%0A%20%20%20%20%20%20%20%20%20%20%20%20%20%20%20%20%20%20%20%20position%3A%20relative%3B%0A%20%20%20%20%20%20%20%20%20%20%20%20%20%20%20%20%20%20%20%20width%3A%20100.0%25%3B%0A%20%20%20%20%20%20%20%20%20%20%20%20%20%20%20%20%20%20%20%20height%3A%20100.0%25%3B%0A%20%20%20%20%20%20%20%20%20%20%20%20%20%20%20%20%20%20%20%20left%3A%200.0%25%3B%0A%20%20%20%20%20%20%20%20%20%20%20%20%20%20%20%20%20%20%20%20top%3A%200.0%25%3B%0A%20%20%20%20%20%20%20%20%20%20%20%20%20%20%20%20%7D%0A%20%20%20%20%20%20%20%20%20%20%20%20%3C/style%3E%0A%20%20%20%20%20%20%20%20%0A%3C/head%3E%0A%3Cbody%3E%20%20%20%20%0A%20%20%20%20%0A%20%20%20%20%20%20%20%20%20%20%20%20%3Cdiv%20class%3D%22folium-map%22%20id%3D%22map_352b833e217d4568a7d6a8304d7a90cc%22%20%3E%3C/div%3E%0A%20%20%20%20%20%20%20%20%0A%3C/body%3E%0A%3Cscript%3E%20%20%20%20%0A%20%20%20%20%0A%20%20%20%20%20%20%20%20%20%20%20%20var%20map_352b833e217d4568a7d6a8304d7a90cc%20%3D%20L.map%28%0A%20%20%20%20%20%20%20%20%20%20%20%20%20%20%20%20%22map_352b833e217d4568a7d6a8304d7a90cc%22%2C%0A%20%20%20%20%20%20%20%20%20%20%20%20%20%20%20%20%7B%0A%20%20%20%20%20%20%20%20%20%20%20%20%20%20%20%20%20%20%20%20center%3A%20%5B44.0%2C%20-121.0%5D%2C%0A%20%20%20%20%20%20%20%20%20%20%20%20%20%20%20%20%20%20%20%20crs%3A%20L.CRS.EPSG3857%2C%0A%20%20%20%20%20%20%20%20%20%20%20%20%20%20%20%20%20%20%20%20zoom%3A%207%2C%0A%20%20%20%20%20%20%20%20%20%20%20%20%20%20%20%20%20%20%20%20zoomControl%3A%20true%2C%0A%20%20%20%20%20%20%20%20%20%20%20%20%20%20%20%20%20%20%20%20preferCanvas%3A%20false%2C%0A%20%20%20%20%20%20%20%20%20%20%20%20%20%20%20%20%7D%0A%20%20%20%20%20%20%20%20%20%20%20%20%29%3B%0A%0A%20%20%20%20%20%20%20%20%20%20%20%20%0A%0A%20%20%20%20%20%20%20%20%0A%20%20%20%20%0A%20%20%20%20%20%20%20%20%20%20%20%20var%20tile_layer_6fac7d337c2541e3b601cfc0979f9aed%20%3D%20L.tileLayer%28%0A%20%20%20%20%20%20%20%20%20%20%20%20%20%20%20%20%22https%3A//%7Bs%7D.tile.openstreetmap.org/%7Bz%7D/%7Bx%7D/%7By%7D.png%22%2C%0A%20%20%20%20%20%20%20%20%20%20%20%20%20%20%20%20%7B%22attribution%22%3A%20%22Data%20by%20%5Cu0026copy%3B%20%5Cu003ca%20href%3D%5C%22http%3A//openstreetmap.org%5C%22%5Cu003eOpenStreetMap%5Cu003c/a%5Cu003e%2C%20under%20%5Cu003ca%20href%3D%5C%22http%3A//www.openstreetmap.org/copyright%5C%22%5Cu003eODbL%5Cu003c/a%5Cu003e.%22%2C%20%22detectRetina%22%3A%20false%2C%20%22maxNativeZoom%22%3A%2018%2C%20%22maxZoom%22%3A%2018%2C%20%22minZoom%22%3A%200%2C%20%22noWrap%22%3A%20false%2C%20%22opacity%22%3A%201%2C%20%22subdomains%22%3A%20%22abc%22%2C%20%22tms%22%3A%20false%7D%0A%20%20%20%20%20%20%20%20%20%20%20%20%29.addTo%28map_352b833e217d4568a7d6a8304d7a90cc%29%3B%0A%20%20%20%20%20%20%20%20%0A%20%20%20%20%0A%20%20%20%20%20%20%20%20%20%20%20%20var%20marker_83b7d78f92274fe7a19f0b0ed480dd5c%20%3D%20L.marker%28%0A%20%20%20%20%20%20%20%20%20%20%20%20%20%20%20%20%5B45.3735%2C%20-121.6959%5D%2C%0A%20%20%20%20%20%20%20%20%20%20%20%20%20%20%20%20%7B%7D%0A%20%20%20%20%20%20%20%20%20%20%20%20%29.addTo%28map_352b833e217d4568a7d6a8304d7a90cc%29%3B%0A%20%20%20%20%20%20%20%20%0A%20%20%20%20%0A%20%20%20%20%20%20%20%20var%20popup_d8549ba14dc24711a00cfc0c5b6a03fb%20%3D%20L.popup%28%7B%22maxWidth%22%3A%20%22100%25%22%7D%29%3B%0A%0A%20%20%20%20%20%20%20%20%0A%20%20%20%20%20%20%20%20%20%20%20%20var%20html_e0659e6a52594c24a4842a5253b65ee7%20%3D%20%24%28%60%3Cdiv%20id%3D%22html_e0659e6a52594c24a4842a5253b65ee7%22%20style%3D%22width%3A%20100.0%25%3B%20height%3A%20100.0%25%3B%22%3E92.2%3C/div%3E%60%29%5B0%5D%3B%0A%20%20%20%20%20%20%20%20%20%20%20%20popup_d8549ba14dc24711a00cfc0c5b6a03fb.setContent%28html_e0659e6a52594c24a4842a5253b65ee7%29%3B%0A%20%20%20%20%20%20%20%20%0A%0A%20%20%20%20%20%20%20%20marker_83b7d78f92274fe7a19f0b0ed480dd5c.bindPopup%28popup_d8549ba14dc24711a00cfc0c5b6a03fb%29%0A%20%20%20%20%20%20%20%20%3B%0A%0A%20%20%20%20%20%20%20%20%0A%20%20%20%20%0A%20%20%20%20%0A%20%20%20%20%20%20%20%20%20%20%20%20var%20marker_b28d2874d7864d428e8d62309e8fc544%20%3D%20L.marker%28%0A%20%20%20%20%20%20%20%20%20%20%20%20%20%20%20%20%5B44.6743%2C%20-121.7996%5D%2C%0A%20%20%20%20%20%20%20%20%20%20%20%20%20%20%20%20%7B%7D%0A%20%20%20%20%20%20%20%20%20%20%20%20%29.addTo%28map_352b833e217d4568a7d6a8304d7a90cc%29%3B%0A%20%20%20%20%20%20%20%20%0A%20%20%20%20%0A%20%20%20%20%20%20%20%20var%20popup_d814ff760ed94b4b8de882ddca579693%20%3D%20L.popup%28%7B%22maxWidth%22%3A%20%22100%25%22%7D%29%3B%0A%0A%20%20%20%20%20%20%20%20%0A%20%20%20%20%20%20%20%20%20%20%20%20var%20html_c8369c57d67e4a23b649d8d17aa5a1e9%20%3D%20%24%28%60%3Cdiv%20id%3D%22html_c8369c57d67e4a23b649d8d17aa5a1e9%22%20style%3D%22width%3A%20100.0%25%3B%20height%3A%20100.0%25%3B%22%3E77.5%3C/div%3E%60%29%5B0%5D%3B%0A%20%20%20%20%20%20%20%20%20%20%20%20popup_d814ff760ed94b4b8de882ddca579693.setContent%28html_c8369c57d67e4a23b649d8d17aa5a1e9%29%3B%0A%20%20%20%20%20%20%20%20%0A%0A%20%20%20%20%20%20%20%20marker_b28d2874d7864d428e8d62309e8fc544.bindPopup%28popup_d814ff760ed94b4b8de882ddca579693%29%0A%20%20%20%20%20%20%20%20%3B%0A%0A%20%20%20%20%20%20%20%20%0A%20%20%20%20%0A%20%20%20%20%0A%20%20%20%20%20%20%20%20%20%20%20%20var%20marker_27cab468e70d449ab03c230ae646045d%20%3D%20L.marker%28%0A%20%20%20%20%20%20%20%20%20%20%20%20%20%20%20%20%5B44.1035%2C%20-121.7693%5D%2C%0A%20%20%20%20%20%20%20%20%20%20%20%20%20%20%20%20%7B%7D%0A%20%20%20%20%20%20%20%20%20%20%20%20%29.addTo%28map_352b833e217d4568a7d6a8304d7a90cc%29%3B%0A%20%20%20%20%20%20%20%20%0A%20%20%20%20%0A%20%20%20%20%20%20%20%20var%20popup_c80a70995ed64da3a2ab136dfc9387e4%20%3D%20L.popup%28%7B%22maxWidth%22%3A%20%22100%25%22%7D%29%3B%0A%0A%20%20%20%20%20%20%20%20%0A%20%20%20%20%20%20%20%20%20%20%20%20var%20html_0d433dcc705549008d89549ba048adf1%20%3D%20%24%28%60%3Cdiv%20id%3D%22html_0d433dcc705549008d89549ba048adf1%22%20style%3D%22width%3A%20100.0%25%3B%20height%3A%20100.0%25%3B%22%3E63.4%3C/div%3E%60%29%5B0%5D%3B%0A%20%20%20%20%20%20%20%20%20%20%20%20popup_c80a70995ed64da3a2ab136dfc9387e4.setContent%28html_0d433dcc705549008d89549ba048adf1%29%3B%0A%20%20%20%20%20%20%20%20%0A%0A%20%20%20%20%20%20%20%20marker_27cab468e70d449ab03c230ae646045d.bindPopup%28popup_c80a70995ed64da3a2ab136dfc9387e4%29%0A%20%20%20%20%20%20%20%20%3B%0A%0A%20%20%20%20%20%20%20%20%0A%20%20%20%20%0A%20%20%20%20%0A%20%20%20%20%20%20%20%20%20%20%20%20var%20marker_fca14b1bd6bb42f5ad150fd22b5883f4%20%3D%20L.marker%28%0A%20%20%20%20%20%20%20%20%20%20%20%20%20%20%20%20%5B44.1666%2C%20-121.7723%5D%2C%0A%20%20%20%20%20%20%20%20%20%20%20%20%20%20%20%20%7B%7D%0A%20%20%20%20%20%20%20%20%20%20%20%20%29.addTo%28map_352b833e217d4568a7d6a8304d7a90cc%29%3B%0A%20%20%20%20%20%20%20%20%0A%20%20%20%20%0A%20%20%20%20%20%20%20%20var%20popup_6b4bce5ad1844e0a9fe6d4d1dc9e196d%20%3D%20L.popup%28%7B%22maxWidth%22%3A%20%22100%25%22%7D%29%3B%0A%0A%20%20%20%20%20%20%20%20%0A%20%20%20%20%20%20%20%20%20%20%20%20var%20html_b54628963a7044918a6695538eb4ad99%20%3D%20%24%28%60%3Cdiv%20id%3D%22html_b54628963a7044918a6695538eb4ad99%22%20style%3D%22width%3A%20100.0%25%3B%20height%3A%20100.0%25%3B%22%3E7.0%3C/div%3E%60%29%5B0%5D%3B%0A%20%20%20%20%20%20%20%20%20%20%20%20popup_6b4bce5ad1844e0a9fe6d4d1dc9e196d.setContent%28html_b54628963a7044918a6695538eb4ad99%29%3B%0A%20%20%20%20%20%20%20%20%0A%0A%20%20%20%20%20%20%20%20marker_fca14b1bd6bb42f5ad150fd22b5883f4.bindPopup%28popup_6b4bce5ad1844e0a9fe6d4d1dc9e196d%29%0A%20%20%20%20%20%20%20%20%3B%0A%0A%20%20%20%20%20%20%20%20%0A%20%20%20%20%0A%20%20%20%20%0A%20%20%20%20%20%20%20%20%20%20%20%20var%20marker_13b21e5143024eaeae5ed32551d00fc6%20%3D%20L.marker%28%0A%20%20%20%20%20%20%20%20%20%20%20%20%20%20%20%20%5B44.1483%2C%20-121.784%5D%2C%0A%20%20%20%20%20%20%20%20%20%20%20%20%20%20%20%20%7B%7D%0A%20%20%20%20%20%20%20%20%20%20%20%20%29.addTo%28map_352b833e217d4568a7d6a8304d7a90cc%29%3B%0A%20%20%20%20%20%20%20%20%0A%20%20%20%20%0A%20%20%20%20%20%20%20%20var%20popup_f0624e3d40e446b4996dab7e5393b8c8%20%3D%20L.popup%28%7B%22maxWidth%22%3A%20%22100%25%22%7D%29%3B%0A%0A%20%20%20%20%20%20%20%20%0A%20%20%20%20%20%20%20%20%20%20%20%20var%20html_94bab2e06f3e4195b532a20ad2aacf07%20%3D%20%24%28%60%3Cdiv%20id%3D%22html_94bab2e06f3e4195b532a20ad2aacf07%22%20style%3D%22width%3A%20100.0%25%3B%20height%3A%20100.0%25%3B%22%3E1.8%3C/div%3E%60%29%5B0%5D%3B%0A%20%20%20%20%20%20%20%20%20%20%20%20popup_f0624e3d40e446b4996dab7e5393b8c8.setContent%28html_94bab2e06f3e4195b532a20ad2aacf07%29%3B%0A%20%20%20%20%20%20%20%20%0A%0A%20%20%20%20%20%20%20%20marker_13b21e5143024eaeae5ed32551d00fc6.bindPopup%28popup_f0624e3d40e446b4996dab7e5393b8c8%29%0A%20%20%20%20%20%20%20%20%3B%0A%0A%20%20%20%20%20%20%20%20%0A%20%20%20%20%0A%20%20%20%20%0A%20%20%20%20%20%20%20%20%20%20%20%20var%20marker_61786a5fe850470494af3e21c6615577%20%3D%20L.marker%28%0A%20%20%20%20%20%20%20%20%20%20%20%20%20%20%20%20%5B45.245%2C%20-117.2929%5D%2C%0A%20%20%20%20%20%20%20%20%20%20%20%20%20%20%20%20%7B%7D%0A%20%20%20%20%20%20%20%20%20%20%20%20%29.addTo%28map_352b833e217d4568a7d6a8304d7a90cc%29%3B%0A%20%20%20%20%20%20%20%20%0A%20%20%20%20%0A%20%20%20%20%20%20%20%20var%20popup_c78ca860800c4db7a90da4b48ce4f73e%20%3D%20L.popup%28%7B%22maxWidth%22%3A%20%22100%25%22%7D%29%3B%0A%0A%20%20%20%20%20%20%20%20%0A%20%20%20%20%20%20%20%20%20%20%20%20var%20html_e0885beaa3cb47cc9aa509f27f5e8982%20%3D%20%24%28%60%3Cdiv%20id%3D%22html_e0885beaa3cb47cc9aa509f27f5e8982%22%20style%3D%22width%3A%20100.0%25%3B%20height%3A%20100.0%25%3B%22%3E202.0%3C/div%3E%60%29%5B0%5D%3B%0A%20%20%20%20%20%20%20%20%20%20%20%20popup_c78ca860800c4db7a90da4b48ce4f73e.setContent%28html_e0885beaa3cb47cc9aa509f27f5e8982%29%3B%0A%20%20%20%20%20%20%20%20%0A%0A%20%20%20%20%20%20%20%20marker_61786a5fe850470494af3e21c6615577.bindPopup%28popup_c78ca860800c4db7a90da4b48ce4f73e%29%0A%20%20%20%20%20%20%20%20%3B%0A%0A%20%20%20%20%20%20%20%20%0A%20%20%20%20%0A%20%20%20%20%0A%20%20%20%20%20%20%20%20%20%20%20%20var%20marker_f4b141bd5c834793ae50dd35f81436e4%20%3D%20L.marker%28%0A%20%20%20%20%20%20%20%20%20%20%20%20%20%20%20%20%5B42.6364%2C%20-118.5767%5D%2C%0A%20%20%20%20%20%20%20%20%20%20%20%20%20%20%20%20%7B%7D%0A%20%20%20%20%20%20%20%20%20%20%20%20%29.addTo%28map_352b833e217d4568a7d6a8304d7a90cc%29%3B%0A%20%20%20%20%20%20%20%20%0A%20%20%20%20%0A%20%20%20%20%20%20%20%20var%20popup_e42e0116f40847048d279f84b72e2268%20%3D%20L.popup%28%7B%22maxWidth%22%3A%20%22100%25%22%7D%29%3B%0A%0A%20%20%20%20%20%20%20%20%0A%20%20%20%20%20%20%20%20%20%20%20%20var%20html_884b6b70ad7c4bd78d108b49d83f5aa1%20%3D%20%24%28%60%3Cdiv%20id%3D%22html_884b6b70ad7c4bd78d108b49d83f5aa1%22%20style%3D%22width%3A%20100.0%25%3B%20height%3A%20100.0%25%3B%22%3E201.0%3C/div%3E%60%29%5B0%5D%3B%0A%20%20%20%20%20%20%20%20%20%20%20%20popup_e42e0116f40847048d279f84b72e2268.setContent%28html_884b6b70ad7c4bd78d108b49d83f5aa1%29%3B%0A%20%20%20%20%20%20%20%20%0A%0A%20%20%20%20%20%20%20%20marker_f4b141bd5c834793ae50dd35f81436e4.bindPopup%28popup_e42e0116f40847048d279f84b72e2268%29%0A%20%20%20%20%20%20%20%20%3B%0A%0A%20%20%20%20%20%20%20%20%0A%20%20%20%20%0A%20%20%20%20%0A%20%20%20%20%20%20%20%20%20%20%20%20var%20marker_bf79c50019474f1ebc965e7caa99b049%20%3D%20L.marker%28%0A%20%20%20%20%20%20%20%20%20%20%20%20%20%20%20%20%5B45.203%2C%20-117.175%5D%2C%0A%20%20%20%20%20%20%20%20%20%20%20%20%20%20%20%20%7B%7D%0A%20%20%20%20%20%20%20%20%20%20%20%20%29.addTo%28map_352b833e217d4568a7d6a8304d7a90cc%29%3B%0A%20%20%20%20%20%20%20%20%0A%20%20%20%20%0A%20%20%20%20%20%20%20%20var%20popup_f141a37596724346953c0e6254158ed8%20%3D%20L.popup%28%7B%22maxWidth%22%3A%20%22100%25%22%7D%29%3B%0A%0A%20%20%20%20%20%20%20%20%0A%20%20%20%20%20%20%20%20%20%20%20%20var%20html_1fc9c4da85354f71931c9d50f59973de%20%3D%20%24%28%60%3Cdiv%20id%3D%22html_1fc9c4da85354f71931c9d50f59973de%22%20style%3D%22width%3A%20100.0%25%3B%20height%3A%20100.0%25%3B%22%3E9.48%3C/div%3E%60%29%5B0%5D%3B%0A%20%20%20%20%20%20%20%20%20%20%20%20popup_f141a37596724346953c0e6254158ed8.setContent%28html_1fc9c4da85354f71931c9d50f59973de%29%3B%0A%20%20%20%20%20%20%20%20%0A%0A%20%20%20%20%20%20%20%20marker_bf79c50019474f1ebc965e7caa99b049.bindPopup%28popup_f141a37596724346953c0e6254158ed8%29%0A%20%20%20%20%20%20%20%20%3B%0A%0A%20%20%20%20%20%20%20%20%0A%20%20%20%20%0A%20%20%20%20%0A%20%20%20%20%20%20%20%20%20%20%20%20var%20marker_b581ec4e16244d3c99626ea98dfad411%20%3D%20L.marker%28%0A%20%20%20%20%20%20%20%20%20%20%20%20%20%20%20%20%5B45.3046%2C%20-117.3452%5D%2C%0A%20%20%20%20%20%20%20%20%20%20%20%20%20%20%20%20%7B%7D%0A%20%20%20%20%20%20%20%20%20%20%20%20%29.addTo%28map_352b833e217d4568a7d6a8304d7a90cc%29%3B%0A%20%20%20%20%20%20%20%20%0A%20%20%20%20%0A%20%20%20%20%20%20%20%20var%20popup_61e8433036ec4fcba1cdc56aafea05aa%20%3D%20L.popup%28%7B%22maxWidth%22%3A%20%22100%25%22%7D%29%3B%0A%0A%20%20%20%20%20%20%20%20%0A%20%20%20%20%20%20%20%20%20%20%20%20var%20html_8e65af207c5445d5be803297b3b72e1f%20%3D%20%24%28%60%3Cdiv%20id%3D%22html_8e65af207c5445d5be803297b3b72e1f%22%20style%3D%22width%3A%20100.0%25%3B%20height%3A%20100.0%25%3B%22%3E7.79%3C/div%3E%60%29%5B0%5D%3B%0A%20%20%20%20%20%20%20%20%20%20%20%20popup_61e8433036ec4fcba1cdc56aafea05aa.setContent%28html_8e65af207c5445d5be803297b3b72e1f%29%3B%0A%20%20%20%20%20%20%20%20%0A%0A%20%20%20%20%20%20%20%20marker_b581ec4e16244d3c99626ea98dfad411.bindPopup%28popup_61e8433036ec4fcba1cdc56aafea05aa%29%0A%20%20%20%20%20%20%20%20%3B%0A%0A%20%20%20%20%20%20%20%20%0A%20%20%20%20%0A%20%20%20%20%0A%20%20%20%20%20%20%20%20%20%20%20%20var%20marker_cb4f8adab1334775997e6e571f9513fe%20%3D%20L.marker%28%0A%20%20%20%20%20%20%20%20%20%20%20%20%20%20%20%20%5B45.0644%2C%20-117.246%5D%2C%0A%20%20%20%20%20%20%20%20%20%20%20%20%20%20%20%20%7B%7D%0A%20%20%20%20%20%20%20%20%20%20%20%20%29.addTo%28map_352b833e217d4568a7d6a8304d7a90cc%29%3B%0A%20%20%20%20%20%20%20%20%0A%20%20%20%20%0A%20%20%20%20%20%20%20%20var%20popup_bdebefd603934c859daf88b3340e0383%20%3D%20L.popup%28%7B%22maxWidth%22%3A%20%22100%25%22%7D%29%3B%0A%0A%20%20%20%20%20%20%20%20%0A%20%20%20%20%20%20%20%20%20%20%20%20var%20html_4a23b36225644f4f8468d60b094eb49e%20%3D%20%24%28%60%3Cdiv%20id%3D%22html_4a23b36225644f4f8468d60b094eb49e%22%20style%3D%22width%3A%20100.0%25%3B%20height%3A%20100.0%25%3B%22%3E11.84%3C/div%3E%60%29%5B0%5D%3B%0A%20%20%20%20%20%20%20%20%20%20%20%20popup_bdebefd603934c859daf88b3340e0383.setContent%28html_4a23b36225644f4f8468d60b094eb49e%29%3B%0A%20%20%20%20%20%20%20%20%0A%0A%20%20%20%20%20%20%20%20marker_cb4f8adab1334775997e6e571f9513fe.bindPopup%28popup_bdebefd603934c859daf88b3340e0383%29%0A%20%20%20%20%20%20%20%20%3B%0A%0A%20%20%20%20%20%20%20%20%0A%20%20%20%20%0A%20%20%20%20%0A%20%20%20%20%20%20%20%20%20%20%20%20var%20marker_640b8da5ff564bb9a71ce14f794493dc%20%3D%20L.marker%28%0A%20%20%20%20%20%20%20%20%20%20%20%20%20%20%20%20%5B42.4445%2C%20-122.3156%5D%2C%0A%20%20%20%20%20%20%20%20%20%20%20%20%20%20%20%20%7B%7D%0A%20%20%20%20%20%20%20%20%20%20%20%20%29.addTo%28map_352b833e217d4568a7d6a8304d7a90cc%29%3B%0A%20%20%20%20%20%20%20%20%0A%20%20%20%20%0A%20%20%20%20%20%20%20%20var%20popup_c146a513d1634060abd02f7b8d3f78ed%20%3D%20L.popup%28%7B%22maxWidth%22%3A%20%22100%25%22%7D%29%3B%0A%0A%20%20%20%20%20%20%20%20%0A%20%20%20%20%20%20%20%20%20%20%20%20var%20html_641dcd3b146744d782e95e65e7bf27b1%20%3D%20%24%28%60%3Cdiv%20id%3D%22html_641dcd3b146744d782e95e65e7bf27b1%22%20style%3D%22width%3A%20100.0%25%3B%20height%3A%20100.0%25%3B%22%3E111.8%3C/div%3E%60%29%5B0%5D%3B%0A%20%20%20%20%20%20%20%20%20%20%20%20popup_c146a513d1634060abd02f7b8d3f78ed.setContent%28html_641dcd3b146744d782e95e65e7bf27b1%29%3B%0A%20%20%20%20%20%20%20%20%0A%0A%20%20%20%20%20%20%20%20marker_640b8da5ff564bb9a71ce14f794493dc.bindPopup%28popup_c146a513d1634060abd02f7b8d3f78ed%29%0A%20%20%20%20%20%20%20%20%3B%0A%0A%20%20%20%20%20%20%20%20%0A%20%20%20%20%0A%20%20%20%20%0A%20%20%20%20%20%20%20%20%20%20%20%20var%20marker_832b20e58d5347cd9d9a42c04d1d8917%20%3D%20L.marker%28%0A%20%20%20%20%20%20%20%20%20%20%20%20%20%20%20%20%5B45.2223%2C%20-117.3968%5D%2C%0A%20%20%20%20%20%20%20%20%20%20%20%20%20%20%20%20%7B%7D%0A%20%20%20%20%20%20%20%20%20%20%20%20%29.addTo%28map_352b833e217d4568a7d6a8304d7a90cc%29%3B%0A%20%20%20%20%20%20%20%20%0A%20%20%20%20%0A%20%20%20%20%20%20%20%20var%20popup_0f4360f66f494e2581b48b34c9010433%20%3D%20L.popup%28%7B%22maxWidth%22%3A%20%22100%25%22%7D%29%3B%0A%0A%20%20%20%20%20%20%20%20%0A%20%20%20%20%20%20%20%20%20%20%20%20var%20html_0e8d844f9ab84e63aeac3bc1f32503a6%20%3D%20%24%28%60%3Cdiv%20id%3D%22html_0e8d844f9ab84e63aeac3bc1f32503a6%22%20style%3D%22width%3A%20100.0%25%3B%20height%3A%20100.0%25%3B%22%3E5.32%3C/div%3E%60%29%5B0%5D%3B%0A%20%20%20%20%20%20%20%20%20%20%20%20popup_0f4360f66f494e2581b48b34c9010433.setContent%28html_0e8d844f9ab84e63aeac3bc1f32503a6%29%3B%0A%20%20%20%20%20%20%20%20%0A%0A%20%20%20%20%20%20%20%20marker_832b20e58d5347cd9d9a42c04d1d8917.bindPopup%28popup_0f4360f66f494e2581b48b34c9010433%29%0A%20%20%20%20%20%20%20%20%3B%0A%0A%20%20%20%20%20%20%20%20%0A%20%20%20%20%0A%20%20%20%20%0A%20%20%20%20%20%20%20%20%20%20%20%20var%20marker_0bed3c57d2aa42dfa9b0675b436ed180%20%3D%20L.marker%28%0A%20%20%20%20%20%20%20%20%20%20%20%20%20%20%20%20%5B43.1528%2C%20-122.0665%5D%2C%0A%20%20%20%20%20%20%20%20%20%20%20%20%20%20%20%20%7B%7D%0A%20%20%20%20%20%20%20%20%20%20%20%20%29.addTo%28map_352b833e217d4568a7d6a8304d7a90cc%29%3B%0A%20%20%20%20%20%20%20%20%0A%20%20%20%20%0A%20%20%20%20%20%20%20%20var%20popup_143c0a8af27f480cbdc057ab8873c3d1%20%3D%20L.popup%28%7B%22maxWidth%22%3A%20%22100%25%22%7D%29%3B%0A%0A%20%20%20%20%20%20%20%20%0A%20%20%20%20%20%20%20%20%20%20%20%20var%20html_7561ad310f3d4ce68f847a72678e8981%20%3D%20%24%28%60%3Cdiv%20id%3D%22html_7561ad310f3d4ce68f847a72678e8981%22%20style%3D%22width%3A%20100.0%25%3B%20height%3A%20100.0%25%3B%22%3E81.1%3C/div%3E%60%29%5B0%5D%3B%0A%20%20%20%20%20%20%20%20%20%20%20%20popup_143c0a8af27f480cbdc057ab8873c3d1.setContent%28html_7561ad310f3d4ce68f847a72678e8981%29%3B%0A%20%20%20%20%20%20%20%20%0A%0A%20%20%20%20%20%20%20%20marker_0bed3c57d2aa42dfa9b0675b436ed180.bindPopup%28popup_143c0a8af27f480cbdc057ab8873c3d1%29%0A%20%20%20%20%20%20%20%20%3B%0A%0A%20%20%20%20%20%20%20%20%0A%20%20%20%20%0A%20%20%20%20%0A%20%20%20%20%20%20%20%20%20%20%20%20var%20marker_8b16796c588f4a56b1f10005ffab7a99%20%3D%20L.marker%28%0A%20%20%20%20%20%20%20%20%20%20%20%20%20%20%20%20%5B44.083%2C%20-121.6994%5D%2C%0A%20%20%20%20%20%20%20%20%20%20%20%20%20%20%20%20%7B%7D%0A%20%20%20%20%20%20%20%20%20%20%20%20%29.addTo%28map_352b833e217d4568a7d6a8304d7a90cc%29%3B%0A%20%20%20%20%20%20%20%20%0A%20%20%20%20%0A%20%20%20%20%20%20%20%20var%20popup_359de4da0d684c7f8aced429248c9156%20%3D%20L.popup%28%7B%22maxWidth%22%3A%20%22100%25%22%7D%29%3B%0A%0A%20%20%20%20%20%20%20%20%0A%20%20%20%20%20%20%20%20%20%20%20%20var%20html_4f38c01e290b4d778ff4689363aa7c9f%20%3D%20%24%28%60%3Cdiv%20id%3D%22html_4f38c01e290b4d778ff4689363aa7c9f%22%20style%3D%22width%3A%20100.0%25%3B%20height%3A%20100.0%25%3B%22%3E5.52%3C/div%3E%60%29%5B0%5D%3B%0A%20%20%20%20%20%20%20%20%20%20%20%20popup_359de4da0d684c7f8aced429248c9156.setContent%28html_4f38c01e290b4d778ff4689363aa7c9f%29%3B%0A%20%20%20%20%20%20%20%20%0A%0A%20%20%20%20%20%20%20%20marker_8b16796c588f4a56b1f10005ffab7a99.bindPopup%28popup_359de4da0d684c7f8aced429248c9156%29%0A%20%20%20%20%20%20%20%20%3B%0A%0A%20%20%20%20%20%20%20%20%0A%20%20%20%20%0A%20%20%20%20%0A%20%20%20%20%20%20%20%20%20%20%20%20var%20marker_1a80dce3ed8b47c3970879cd87e81760%20%3D%20L.marker%28%0A%20%20%20%20%20%20%20%20%20%20%20%20%20%20%20%20%5B44.8168%2C%20-118.1039%5D%2C%0A%20%20%20%20%20%20%20%20%20%20%20%20%20%20%20%20%7B%7D%0A%20%20%20%20%20%20%20%20%20%20%20%20%29.addTo%28map_352b833e217d4568a7d6a8304d7a90cc%29%3B%0A%20%20%20%20%20%20%20%20%0A%20%20%20%20%0A%20%20%20%20%20%20%20%20var%20popup_f99e797f1c914997b581233ef83c9b84%20%3D%20L.popup%28%7B%22maxWidth%22%3A%20%22100%25%22%7D%29%3B%0A%0A%20%20%20%20%20%20%20%20%0A%20%20%20%20%20%20%20%20%20%20%20%20var%20html_f8df21886bc04e25bb3ed033fb2a7986%20%3D%20%24%28%60%3Cdiv%20id%3D%22html_f8df21886bc04e25bb3ed033fb2a7986%22%20style%3D%22width%3A%20100.0%25%3B%20height%3A%20100.0%25%3B%22%3E69.9%3C/div%3E%60%29%5B0%5D%3B%0A%20%20%20%20%20%20%20%20%20%20%20%20popup_f99e797f1c914997b581233ef83c9b84.setContent%28html_f8df21886bc04e25bb3ed033fb2a7986%29%3B%0A%20%20%20%20%20%20%20%20%0A%0A%20%20%20%20%20%20%20%20marker_1a80dce3ed8b47c3970879cd87e81760.bindPopup%28popup_f99e797f1c914997b581233ef83c9b84%29%0A%20%20%20%20%20%20%20%20%3B%0A%0A%20%20%20%20%20%20%20%20%0A%20%20%20%20%0A%20%20%20%20%0A%20%20%20%20%20%20%20%20%20%20%20%20var%20marker_f735930947f744e2a234879592d4986d%20%3D%20L.marker%28%0A%20%20%20%20%20%20%20%20%20%20%20%20%20%20%20%20%5B43.9794%2C%20-121.6885%5D%2C%0A%20%20%20%20%20%20%20%20%20%20%20%20%20%20%20%20%7B%7D%0A%20%20%20%20%20%20%20%20%20%20%20%20%29.addTo%28map_352b833e217d4568a7d6a8304d7a90cc%29%3B%0A%20%20%20%20%20%20%20%20%0A%20%20%20%20%0A%20%20%20%20%20%20%20%20var%20popup_e4370cc46cab44f4971c9b0e9de4d883%20%3D%20L.popup%28%7B%22maxWidth%22%3A%20%22100%25%22%7D%29%3B%0A%0A%20%20%20%20%20%20%20%20%0A%20%20%20%20%20%20%20%20%20%20%20%20var%20html_553205773c9c46868dc2036bdcc8cc71%20%3D%20%24%28%60%3Cdiv%20id%3D%22html_553205773c9c46868dc2036bdcc8cc71%22%20style%3D%22width%3A%20100.0%25%3B%20height%3A%20100.0%25%3B%22%3E11.02%3C/div%3E%60%29%5B0%5D%3B%0A%20%20%20%20%20%20%20%20%20%20%20%20popup_e4370cc46cab44f4971c9b0e9de4d883.setContent%28html_553205773c9c46868dc2036bdcc8cc71%29%3B%0A%20%20%20%20%20%20%20%20%0A%0A%20%20%20%20%20%20%20%20marker_f735930947f744e2a234879592d4986d.bindPopup%28popup_e4370cc46cab44f4971c9b0e9de4d883%29%0A%20%20%20%20%20%20%20%20%3B%0A%0A%20%20%20%20%20%20%20%20%0A%20%20%20%20%0A%20%20%20%20%0A%20%20%20%20%20%20%20%20%20%20%20%20var%20marker_3455b52dad5f430b9a007d75e910e165%20%3D%20L.marker%28%0A%20%20%20%20%20%20%20%20%20%20%20%20%20%20%20%20%5B44.3123%2C%20-118.7166%5D%2C%0A%20%20%20%20%20%20%20%20%20%20%20%20%20%20%20%20%7B%7D%0A%20%20%20%20%20%20%20%20%20%20%20%20%29.addTo%28map_352b833e217d4568a7d6a8304d7a90cc%29%3B%0A%20%20%20%20%20%20%20%20%0A%20%20%20%20%0A%20%20%20%20%20%20%20%20var%20popup_b69356049e774e4db416291bd6f0730e%20%3D%20L.popup%28%7B%22maxWidth%22%3A%20%22100%25%22%7D%29%3B%0A%0A%20%20%20%20%20%20%20%20%0A%20%20%20%20%20%20%20%20%20%20%20%20var%20html_e4cf450ad72f47538241b24126d78fcb%20%3D%20%24%28%60%3Cdiv%20id%3D%22html_e4cf450ad72f47538241b24126d78fcb%22%20style%3D%22width%3A%20100.0%25%3B%20height%3A%20100.0%25%3B%22%3E74.2%3C/div%3E%60%29%5B0%5D%3B%0A%20%20%20%20%20%20%20%20%20%20%20%20popup_b69356049e774e4db416291bd6f0730e.setContent%28html_e4cf450ad72f47538241b24126d78fcb%29%3B%0A%20%20%20%20%20%20%20%20%0A%0A%20%20%20%20%20%20%20%20marker_3455b52dad5f430b9a007d75e910e165.bindPopup%28popup_b69356049e774e4db416291bd6f0730e%29%0A%20%20%20%20%20%20%20%20%3B%0A%0A%20%20%20%20%20%20%20%20%0A%20%20%20%20%0A%20%20%20%20%0A%20%20%20%20%20%20%20%20%20%20%20%20var%20marker_e25323533d6e4c06a2882d3fffb6eb32%20%3D%20L.marker%28%0A%20%20%20%20%20%20%20%20%20%20%20%20%20%20%20%20%5B42.9229%2C%20-122.0162%5D%2C%0A%20%20%20%20%20%20%20%20%20%20%20%20%20%20%20%20%7B%7D%0A%20%20%20%20%20%20%20%20%20%20%20%20%29.addTo%28map_352b833e217d4568a7d6a8304d7a90cc%29%3B%0A%20%20%20%20%20%20%20%20%0A%20%20%20%20%0A%20%20%20%20%20%20%20%20var%20popup_293e5685c0cb450798bdf519d1736f07%20%3D%20L.popup%28%7B%22maxWidth%22%3A%20%22100%25%22%7D%29%3B%0A%0A%20%20%20%20%20%20%20%20%0A%20%20%20%20%20%20%20%20%20%20%20%20var%20html_d0ca2820f9e74908b61fb07e212b89ec%20%3D%20%24%28%60%3Cdiv%20id%3D%22html_d0ca2820f9e74908b61fb07e212b89ec%22%20style%3D%22width%3A%20100.0%25%3B%20height%3A%20100.0%25%3B%22%3E25.9%3C/div%3E%60%29%5B0%5D%3B%0A%20%20%20%20%20%20%20%20%20%20%20%20popup_293e5685c0cb450798bdf519d1736f07.setContent%28html_d0ca2820f9e74908b61fb07e212b89ec%29%3B%0A%20%20%20%20%20%20%20%20%0A%0A%20%20%20%20%20%20%20%20marker_e25323533d6e4c06a2882d3fffb6eb32.bindPopup%28popup_293e5685c0cb450798bdf519d1736f07%29%0A%20%20%20%20%20%20%20%20%3B%0A%0A%20%20%20%20%20%20%20%20%0A%20%20%20%20%0A%20%20%20%20%0A%20%20%20%20%20%20%20%20%20%20%20%20var%20marker_6aa4953e35cf4fb28d11e5553941d704%20%3D%20L.marker%28%0A%20%20%20%20%20%20%20%20%20%20%20%20%20%20%20%20%5B43.5207%2C%20-122.1496%5D%2C%0A%20%20%20%20%20%20%20%20%20%20%20%20%20%20%20%20%7B%7D%0A%20%20%20%20%20%20%20%20%20%20%20%20%29.addTo%28map_352b833e217d4568a7d6a8304d7a90cc%29%3B%0A%20%20%20%20%20%20%20%20%0A%20%20%20%20%0A%20%20%20%20%20%20%20%20var%20popup_c9fe42351c0a423fbfb459c970ad0492%20%3D%20L.popup%28%7B%22maxWidth%22%3A%20%22100%25%22%7D%29%3B%0A%0A%20%20%20%20%20%20%20%20%0A%20%20%20%20%20%20%20%20%20%20%20%20var%20html_0fc37044df94408da26f2a2d491fbe67%20%3D%20%24%28%60%3Cdiv%20id%3D%22html_0fc37044df94408da26f2a2d491fbe67%22%20style%3D%22width%3A%20100.0%25%3B%20height%3A%20100.0%25%3B%22%3E41.4%3C/div%3E%60%29%5B0%5D%3B%0A%20%20%20%20%20%20%20%20%20%20%20%20popup_c9fe42351c0a423fbfb459c970ad0492.setContent%28html_0fc37044df94408da26f2a2d491fbe67%29%3B%0A%20%20%20%20%20%20%20%20%0A%0A%20%20%20%20%20%20%20%20marker_6aa4953e35cf4fb28d11e5553941d704.bindPopup%28popup_c9fe42351c0a423fbfb459c970ad0492%29%0A%20%20%20%20%20%20%20%20%3B%0A%0A%20%20%20%20%20%20%20%20%0A%20%20%20%20%0A%20%20%20%20%0A%20%20%20%20%20%20%20%20%20%20%20%20var%20marker_984e953a2fa1410dab1cf1481195e85a%20%3D%20L.marker%28%0A%20%20%20%20%20%20%20%20%20%20%20%20%20%20%20%20%5B42.0995%2C%20-118.6506%5D%2C%0A%20%20%20%20%20%20%20%20%20%20%20%20%20%20%20%20%7B%7D%0A%20%20%20%20%20%20%20%20%20%20%20%20%29.addTo%28map_352b833e217d4568a7d6a8304d7a90cc%29%3B%0A%20%20%20%20%20%20%20%20%0A%20%20%20%20%0A%20%20%20%20%20%20%20%20var%20popup_559a5c9150484046a0083edad2005f09%20%3D%20L.popup%28%7B%22maxWidth%22%3A%20%22100%25%22%7D%29%3B%0A%0A%20%20%20%20%20%20%20%20%0A%20%20%20%20%20%20%20%20%20%20%20%20var%20html_d61beaf034164998b5250789309b8090%20%3D%20%24%28%60%3Cdiv%20id%3D%22html_d61beaf034164998b5250789309b8090%22%20style%3D%22width%3A%20100.0%25%3B%20height%3A%20100.0%25%3B%22%3E45.5%3C/div%3E%60%29%5B0%5D%3B%0A%20%20%20%20%20%20%20%20%20%20%20%20popup_559a5c9150484046a0083edad2005f09.setContent%28html_d61beaf034164998b5250789309b8090%29%3B%0A%20%20%20%20%20%20%20%20%0A%0A%20%20%20%20%20%20%20%20marker_984e953a2fa1410dab1cf1481195e85a.bindPopup%28popup_559a5c9150484046a0083edad2005f09%29%0A%20%20%20%20%20%20%20%20%3B%0A%0A%20%20%20%20%20%20%20%20%0A%20%20%20%20%0A%20%20%20%20%0A%20%20%20%20%20%20%20%20%20%20%20%20var%20marker_f57dd02700e346ecac3dcddca93534b8%20%3D%20L.marker%28%0A%20%20%20%20%20%20%20%20%20%20%20%20%20%20%20%20%5B42.0628%2C%20-120.2408%5D%2C%0A%20%20%20%20%20%20%20%20%20%20%20%20%20%20%20%20%7B%7D%0A%20%20%20%20%20%20%20%20%20%20%20%20%29.addTo%28map_352b833e217d4568a7d6a8304d7a90cc%29%3B%0A%20%20%20%20%20%20%20%20%0A%20%20%20%20%0A%20%20%20%20%20%20%20%20var%20popup_4f4e02f1ad9b4ccdb5746599fe9571a8%20%3D%20L.popup%28%7B%22maxWidth%22%3A%20%22100%25%22%7D%29%3B%0A%0A%20%20%20%20%20%20%20%20%0A%20%20%20%20%20%20%20%20%20%20%20%20var%20html_fc3811ddc3a8418682ae0197cf6685df%20%3D%20%24%28%60%3Cdiv%20id%3D%22html_fc3811ddc3a8418682ae0197cf6685df%22%20style%3D%22width%3A%20100.0%25%3B%20height%3A%20100.0%25%3B%22%3E71.4%3C/div%3E%60%29%5B0%5D%3B%0A%20%20%20%20%20%20%20%20%20%20%20%20popup_4f4e02f1ad9b4ccdb5746599fe9571a8.setContent%28html_fc3811ddc3a8418682ae0197cf6685df%29%3B%0A%20%20%20%20%20%20%20%20%0A%0A%20%20%20%20%20%20%20%20marker_f57dd02700e346ecac3dcddca93534b8.bindPopup%28popup_4f4e02f1ad9b4ccdb5746599fe9571a8%29%0A%20%20%20%20%20%20%20%20%3B%0A%0A%20%20%20%20%20%20%20%20%0A%20%20%20%20%0A%20%20%20%20%0A%20%20%20%20%20%20%20%20%20%20%20%20var%20marker_e5434aab168a42d0ad1e26b5912657e2%20%3D%20L.marker%28%0A%20%20%20%20%20%20%20%20%20%20%20%20%20%20%20%20%5B42.3001%2C%20-120.1238%5D%2C%0A%20%20%20%20%20%20%20%20%20%20%20%20%20%20%20%20%7B%7D%0A%20%20%20%20%20%20%20%20%20%20%20%20%29.addTo%28map_352b833e217d4568a7d6a8304d7a90cc%29%3B%0A%20%20%20%20%20%20%20%20%0A%20%20%20%20%0A%20%20%20%20%20%20%20%20var%20popup_044265aa74fd4351add02baf949da9c4%20%3D%20L.popup%28%7B%22maxWidth%22%3A%20%22100%25%22%7D%29%3B%0A%0A%20%20%20%20%20%20%20%20%0A%20%20%20%20%20%20%20%20%20%20%20%20var%20html_fae63b4dfc6d4ae0a1ff069e6be38e2b%20%3D%20%24%28%60%3Cdiv%20id%3D%22html_fae63b4dfc6d4ae0a1ff069e6be38e2b%22%20style%3D%22width%3A%20100.0%25%3B%20height%3A%20100.0%25%3B%22%3E28.1%3C/div%3E%60%29%5B0%5D%3B%0A%20%20%20%20%20%20%20%20%20%20%20%20popup_044265aa74fd4351add02baf949da9c4.setContent%28html_fae63b4dfc6d4ae0a1ff069e6be38e2b%29%3B%0A%20%20%20%20%20%20%20%20%0A%0A%20%20%20%20%20%20%20%20marker_e5434aab168a42d0ad1e26b5912657e2.bindPopup%28popup_044265aa74fd4351add02baf949da9c4%29%0A%20%20%20%20%20%20%20%20%3B%0A%0A%20%20%20%20%20%20%20%20%0A%20%20%20%20%0A%20%20%20%20%0A%20%20%20%20%20%20%20%20%20%20%20%20var%20marker_34fe1fcce46d425fb5460a50bc639618%20%3D%20L.marker%28%0A%20%20%20%20%20%20%20%20%20%20%20%20%20%20%20%20%5B43.1551%2C%20-122.22%5D%2C%0A%20%20%20%20%20%20%20%20%20%20%20%20%20%20%20%20%7B%7D%0A%20%20%20%20%20%20%20%20%20%20%20%20%29.addTo%28map_352b833e217d4568a7d6a8304d7a90cc%29%3B%0A%20%20%20%20%20%20%20%20%0A%20%20%20%20%0A%20%20%20%20%20%20%20%20var%20popup_0c3f229aa473482da6cab1efa313663d%20%3D%20L.popup%28%7B%22maxWidth%22%3A%20%22100%25%22%7D%29%3B%0A%0A%20%20%20%20%20%20%20%20%0A%20%20%20%20%20%20%20%20%20%20%20%20var%20html_fcb70e867c364876a0aaeb57784d51db%20%3D%20%24%28%60%3Cdiv%20id%3D%22html_fcb70e867c364876a0aaeb57784d51db%22%20style%3D%22width%3A%20100.0%25%3B%20height%3A%20100.0%25%3B%22%3E12.49%3C/div%3E%60%29%5B0%5D%3B%0A%20%20%20%20%20%20%20%20%20%20%20%20popup_0c3f229aa473482da6cab1efa313663d.setContent%28html_fcb70e867c364876a0aaeb57784d51db%29%3B%0A%20%20%20%20%20%20%20%20%0A%0A%20%20%20%20%20%20%20%20marker_34fe1fcce46d425fb5460a50bc639618.bindPopup%28popup_0c3f229aa473482da6cab1efa313663d%29%0A%20%20%20%20%20%20%20%20%3B%0A%0A%20%20%20%20%20%20%20%20%0A%20%20%20%20%0A%20%20%20%20%0A%20%20%20%20%20%20%20%20%20%20%20%20var%20marker_cc1b832694bb4c1790412d3b0fc459ef%20%3D%20L.marker%28%0A%20%20%20%20%20%20%20%20%20%20%20%20%20%20%20%20%5B42.496%2C%20-120.8773%5D%2C%0A%20%20%20%20%20%20%20%20%20%20%20%20%20%20%20%20%7B%7D%0A%20%20%20%20%20%20%20%20%20%20%20%20%29.addTo%28map_352b833e217d4568a7d6a8304d7a90cc%29%3B%0A%20%20%20%20%20%20%20%20%0A%20%20%20%20%0A%20%20%20%20%20%20%20%20var%20popup_6ea8ab613b2d479c8b5e69ef4c3cd696%20%3D%20L.popup%28%7B%22maxWidth%22%3A%20%22100%25%22%7D%29%3B%0A%0A%20%20%20%20%20%20%20%20%0A%20%20%20%20%20%20%20%20%20%20%20%20var%20html_1a698b45a4d741ceac9c92fa263d26f7%20%3D%20%24%28%60%3Cdiv%20id%3D%22html_1a698b45a4d741ceac9c92fa263d26f7%22%20style%3D%22width%3A%20100.0%25%3B%20height%3A%20100.0%25%3B%22%3E65.7%3C/div%3E%60%29%5B0%5D%3B%0A%20%20%20%20%20%20%20%20%20%20%20%20popup_6ea8ab613b2d479c8b5e69ef4c3cd696.setContent%28html_1a698b45a4d741ceac9c92fa263d26f7%29%3B%0A%20%20%20%20%20%20%20%20%0A%0A%20%20%20%20%20%20%20%20marker_cc1b832694bb4c1790412d3b0fc459ef.bindPopup%28popup_6ea8ab613b2d479c8b5e69ef4c3cd696%29%0A%20%20%20%20%20%20%20%20%3B%0A%0A%20%20%20%20%20%20%20%20%0A%20%20%20%20%0A%20%20%20%20%0A%20%20%20%20%20%20%20%20%20%20%20%20var%20marker_d68f787ebc7a43ccaa7572732ededaa7%20%3D%20L.marker%28%0A%20%20%20%20%20%20%20%20%20%20%20%20%20%20%20%20%5B42.3155%2C%20-122.0876%5D%2C%0A%20%20%20%20%20%20%20%20%20%20%20%20%20%20%20%20%7B%7D%0A%20%20%20%20%20%20%20%20%20%20%20%20%29.addTo%28map_352b833e217d4568a7d6a8304d7a90cc%29%3B%0A%20%20%20%20%20%20%20%20%0A%20%20%20%20%0A%20%20%20%20%20%20%20%20var%20popup_1666b1557b1b4a2098bddc1a466444e7%20%3D%20L.popup%28%7B%22maxWidth%22%3A%20%22100%25%22%7D%29%3B%0A%0A%20%20%20%20%20%20%20%20%0A%20%20%20%20%20%20%20%20%20%20%20%20var%20html_9437ca326daa4df9881a598b0bc2fc36%20%3D%20%24%28%60%3Cdiv%20id%3D%22html_9437ca326daa4df9881a598b0bc2fc36%22%20style%3D%22width%3A%20100.0%25%3B%20height%3A%20100.0%25%3B%22%3E23.7%3C/div%3E%60%29%5B0%5D%3B%0A%20%20%20%20%20%20%20%20%20%20%20%20popup_1666b1557b1b4a2098bddc1a466444e7.setContent%28html_9437ca326daa4df9881a598b0bc2fc36%29%3B%0A%20%20%20%20%20%20%20%20%0A%0A%20%20%20%20%20%20%20%20marker_d68f787ebc7a43ccaa7572732ededaa7.bindPopup%28popup_1666b1557b1b4a2098bddc1a466444e7%29%0A%20%20%20%20%20%20%20%20%3B%0A%0A%20%20%20%20%20%20%20%20%0A%20%20%20%20%0A%20%20%20%20%0A%20%20%20%20%20%20%20%20%20%20%20%20var%20marker_cdbcaaa2db7948409c6a7f2c1c947753%20%3D%20L.marker%28%0A%20%20%20%20%20%20%20%20%20%20%20%20%20%20%20%20%5B42.9306%2C%20-121.3607%5D%2C%0A%20%20%20%20%20%20%20%20%20%20%20%20%20%20%20%20%7B%7D%0A%20%20%20%20%20%20%20%20%20%20%20%20%29.addTo%28map_352b833e217d4568a7d6a8304d7a90cc%29%3B%0A%20%20%20%20%20%20%20%20%0A%20%20%20%20%0A%20%20%20%20%20%20%20%20var%20popup_374496fa422b4e24ae86f8ed676d2ee8%20%3D%20L.popup%28%7B%22maxWidth%22%3A%20%22100%25%22%7D%29%3B%0A%0A%20%20%20%20%20%20%20%20%0A%20%20%20%20%20%20%20%20%20%20%20%20var%20html_5b5974494572469e8cd9ced6ff5706e4%20%3D%20%24%28%60%3Cdiv%20id%3D%22html_5b5974494572469e8cd9ced6ff5706e4%22%20style%3D%22width%3A%20100.0%25%3B%20height%3A%20100.0%25%3B%22%3E53.1%3C/div%3E%60%29%5B0%5D%3B%0A%20%20%20%20%20%20%20%20%20%20%20%20popup_374496fa422b4e24ae86f8ed676d2ee8.setContent%28html_5b5974494572469e8cd9ced6ff5706e4%29%3B%0A%20%20%20%20%20%20%20%20%0A%0A%20%20%20%20%20%20%20%20marker_cdbcaaa2db7948409c6a7f2c1c947753.bindPopup%28popup_374496fa422b4e24ae86f8ed676d2ee8%29%0A%20%20%20%20%20%20%20%20%3B%0A%0A%20%20%20%20%20%20%20%20%0A%20%20%20%20%0A%20%20%20%20%0A%20%20%20%20%20%20%20%20%20%20%20%20var%20marker_fcfa1ae2f6954a8cbba13e0d3a808438%20%3D%20L.marker%28%0A%20%20%20%20%20%20%20%20%20%20%20%20%20%20%20%20%5B44.7138%2C%20-118.5617%5D%2C%0A%20%20%20%20%20%20%20%20%20%20%20%20%20%20%20%20%7B%7D%0A%20%20%20%20%20%20%20%20%20%20%20%20%29.addTo%28map_352b833e217d4568a7d6a8304d7a90cc%29%3B%0A%20%20%20%20%20%20%20%20%0A%20%20%20%20%0A%20%20%20%20%20%20%20%20var%20popup_53a229c36b634bcfbaff984a11c48deb%20%3D%20L.popup%28%7B%22maxWidth%22%3A%20%22100%25%22%7D%29%3B%0A%0A%20%20%20%20%20%20%20%20%0A%20%20%20%20%20%20%20%20%20%20%20%20var%20html_608803bd0a2647a9aff723ad591e8073%20%3D%20%24%28%60%3Cdiv%20id%3D%22html_608803bd0a2647a9aff723ad591e8073%22%20style%3D%22width%3A%20100.0%25%3B%20height%3A%20100.0%25%3B%22%3E23.5%3C/div%3E%60%29%5B0%5D%3B%0A%20%20%20%20%20%20%20%20%20%20%20%20popup_53a229c36b634bcfbaff984a11c48deb.setContent%28html_608803bd0a2647a9aff723ad591e8073%29%3B%0A%20%20%20%20%20%20%20%20%0A%0A%20%20%20%20%20%20%20%20marker_fcfa1ae2f6954a8cbba13e0d3a808438.bindPopup%28popup_53a229c36b634bcfbaff984a11c48deb%29%0A%20%20%20%20%20%20%20%20%3B%0A%0A%20%20%20%20%20%20%20%20%0A%20%20%20%20%0A%20%20%20%20%0A%20%20%20%20%20%20%20%20%20%20%20%20var%20marker_2afc5ab4175147e79c29a6b14cce5dbf%20%3D%20L.marker%28%0A%20%20%20%20%20%20%20%20%20%20%20%20%20%20%20%20%5B42.5134%2C%20-122.1453%5D%2C%0A%20%20%20%20%20%20%20%20%20%20%20%20%20%20%20%20%7B%7D%0A%20%20%20%20%20%20%20%20%20%20%20%20%29.addTo%28map_352b833e217d4568a7d6a8304d7a90cc%29%3B%0A%20%20%20%20%20%20%20%20%0A%20%20%20%20%0A%20%20%20%20%20%20%20%20var%20popup_117686415bb34423bd250949c0baa637%20%3D%20L.popup%28%7B%22maxWidth%22%3A%20%22100%25%22%7D%29%3B%0A%0A%20%20%20%20%20%20%20%20%0A%20%20%20%20%20%20%20%20%20%20%20%20var%20html_3f21d76cd960440bb210b3a16a535299%20%3D%20%24%28%60%3Cdiv%20id%3D%22html_3f21d76cd960440bb210b3a16a535299%22%20style%3D%22width%3A%20100.0%25%3B%20height%3A%20100.0%25%3B%22%3E15.98%3C/div%3E%60%29%5B0%5D%3B%0A%20%20%20%20%20%20%20%20%20%20%20%20popup_117686415bb34423bd250949c0baa637.setContent%28html_3f21d76cd960440bb210b3a16a535299%29%3B%0A%20%20%20%20%20%20%20%20%0A%0A%20%20%20%20%20%20%20%20marker_2afc5ab4175147e79c29a6b14cce5dbf.bindPopup%28popup_117686415bb34423bd250949c0baa637%29%0A%20%20%20%20%20%20%20%20%3B%0A%0A%20%20%20%20%20%20%20%20%0A%20%20%20%20%0A%20%20%20%20%0A%20%20%20%20%20%20%20%20%20%20%20%20var%20marker_88076468e99943ec8f471ed6dbb9474b%20%3D%20L.marker%28%0A%20%20%20%20%20%20%20%20%20%20%20%20%20%20%20%20%5B44.2889%2C%20-118.4954%5D%2C%0A%20%20%20%20%20%20%20%20%20%20%20%20%20%20%20%20%7B%7D%0A%20%20%20%20%20%20%20%20%20%20%20%20%29.addTo%28map_352b833e217d4568a7d6a8304d7a90cc%29%3B%0A%20%20%20%20%20%20%20%20%0A%20%20%20%20%0A%20%20%20%20%20%20%20%20var%20popup_2fedf7c3071c4b098df5758d928e9e87%20%3D%20L.popup%28%7B%22maxWidth%22%3A%20%22100%25%22%7D%29%3B%0A%0A%20%20%20%20%20%20%20%20%0A%20%20%20%20%20%20%20%20%20%20%20%20var%20html_1f6f685c3f8f4768883d05b44dfe8874%20%3D%20%24%28%60%3Cdiv%20id%3D%22html_1f6f685c3f8f4768883d05b44dfe8874%22%20style%3D%22width%3A%20100.0%25%3B%20height%3A%20100.0%25%3B%22%3E10.73%3C/div%3E%60%29%5B0%5D%3B%0A%20%20%20%20%20%20%20%20%20%20%20%20popup_2fedf7c3071c4b098df5758d928e9e87.setContent%28html_1f6f685c3f8f4768883d05b44dfe8874%29%3B%0A%20%20%20%20%20%20%20%20%0A%0A%20%20%20%20%20%20%20%20marker_88076468e99943ec8f471ed6dbb9474b.bindPopup%28popup_2fedf7c3071c4b098df5758d928e9e87%29%0A%20%20%20%20%20%20%20%20%3B%0A%0A%20%20%20%20%20%20%20%20%0A%20%20%20%20%0A%20%20%20%20%0A%20%20%20%20%20%20%20%20%20%20%20%20var%20marker_5be4bb725d6c41e5b245019bc431edcb%20%3D%20L.marker%28%0A%20%20%20%20%20%20%20%20%20%20%20%20%20%20%20%20%5B42.4597%2C%20-119.7414%5D%2C%0A%20%20%20%20%20%20%20%20%20%20%20%20%20%20%20%20%7B%7D%0A%20%20%20%20%20%20%20%20%20%20%20%20%29.addTo%28map_352b833e217d4568a7d6a8304d7a90cc%29%3B%0A%20%20%20%20%20%20%20%20%0A%20%20%20%20%0A%20%20%20%20%20%20%20%20var%20popup_2c292680ced74972956cc3ba7cc1899f%20%3D%20L.popup%28%7B%22maxWidth%22%3A%20%22100%25%22%7D%29%3B%0A%0A%20%20%20%20%20%20%20%20%0A%20%20%20%20%20%20%20%20%20%20%20%20var%20html_c112d369f61146819b1f3c4c20902edb%20%3D%20%24%28%60%3Cdiv%20id%3D%22html_c112d369f61146819b1f3c4c20902edb%22%20style%3D%22width%3A%20100.0%25%3B%20height%3A%20100.0%25%3B%22%3E35.6%3C/div%3E%60%29%5B0%5D%3B%0A%20%20%20%20%20%20%20%20%20%20%20%20popup_2c292680ced74972956cc3ba7cc1899f.setContent%28html_c112d369f61146819b1f3c4c20902edb%29%3B%0A%20%20%20%20%20%20%20%20%0A%0A%20%20%20%20%20%20%20%20marker_5be4bb725d6c41e5b245019bc431edcb.bindPopup%28popup_2c292680ced74972956cc3ba7cc1899f%29%0A%20%20%20%20%20%20%20%20%3B%0A%0A%20%20%20%20%20%20%20%20%0A%20%20%20%20%0A%20%20%20%20%0A%20%20%20%20%20%20%20%20%20%20%20%20var%20marker_40a94fed75b84a9d9229f684692ebbe6%20%3D%20L.marker%28%0A%20%20%20%20%20%20%20%20%20%20%20%20%20%20%20%20%5B43.6892%2C%20-121.2549%5D%2C%0A%20%20%20%20%20%20%20%20%20%20%20%20%20%20%20%20%7B%7D%0A%20%20%20%20%20%20%20%20%20%20%20%20%29.addTo%28map_352b833e217d4568a7d6a8304d7a90cc%29%3B%0A%20%20%20%20%20%20%20%20%0A%20%20%20%20%0A%20%20%20%20%20%20%20%20var%20popup_e7adffdb51d34a2fbeae2e8ea2bd4eec%20%3D%20L.popup%28%7B%22maxWidth%22%3A%20%22100%25%22%7D%29%3B%0A%0A%20%20%20%20%20%20%20%20%0A%20%20%20%20%20%20%20%20%20%20%20%20var%20html_e086a5bca71b49639d5f6b824405155a%20%3D%20%24%28%60%3Cdiv%20id%3D%22html_e086a5bca71b49639d5f6b824405155a%22%20style%3D%22width%3A%20100.0%25%3B%20height%3A%20100.0%25%3B%22%3E46.5%3C/div%3E%60%29%5B0%5D%3B%0A%20%20%20%20%20%20%20%20%20%20%20%20popup_e7adffdb51d34a2fbeae2e8ea2bd4eec.setContent%28html_e086a5bca71b49639d5f6b824405155a%29%3B%0A%20%20%20%20%20%20%20%20%0A%0A%20%20%20%20%20%20%20%20marker_40a94fed75b84a9d9229f684692ebbe6.bindPopup%28popup_e7adffdb51d34a2fbeae2e8ea2bd4eec%29%0A%20%20%20%20%20%20%20%20%3B%0A%0A%20%20%20%20%20%20%20%20%0A%20%20%20%20%0A%3C/script%3E onload=\"this.contentDocument.open();this.contentDocument.write(    decodeURIComponent(this.getAttribute('data-html')));this.contentDocument.close();\" allowfullscreen webkitallowfullscreen mozallowfullscreen></iframe></div></div>"
            ],
            "text/plain": [
              "<folium.folium.Map at 0x7fd07e919810>"
            ]
          },
          "metadata": {},
          "execution_count": 24
        }
      ]
    },
    {
      "cell_type": "markdown",
      "source": [
        " -----\n",
        "## Question 4 (10 points)\n",
        "\n",
        "* Write a script to automatically derive the geographic coordinates for the following addresses:\n",
        "\n",
        "    * 1844 SW Morrison St, Portland, OR 97205\n",
        "    \n",
        "    * 800 Occidental Ave S, Seattle, WA 98134\n",
        "    \n",
        "    * 1001 Stadium Dr, Inglewood, CA 90301\n",
        "    \n",
        "    * 2700 Martin Luther King Jr Blvd, Eugene, OR 97401\n",
        "-----"
      ],
      "metadata": {
        "id": "1iDVCFLZLt5x"
      }
    },
    {
      "cell_type": "code",
      "source": [
        "# Import packages\n",
        "from selenium import webdriver\n",
        "from selenium.webdriver.chrome.service import Service\n",
        "from selenium.webdriver.common.by import By\n",
        "from selenium.webdriver.support.ui import WebDriverWait \n",
        "from selenium.webdriver.support import expected_conditions as EC"
      ],
      "metadata": {
        "id": "VwGlWQiPLx7x"
      },
      "execution_count": 25,
      "outputs": []
    },
    {
      "cell_type": "code",
      "source": [
        "options = webdriver.ChromeOptions()\n",
        "options.add_argument('--headless')\n",
        "options.add_argument('--no-sandbox')\n",
        "options.add_argument('--disable-dev-shm-usage')\n",
        "# open it, go to a website, and get results\n",
        "driver = webdriver.Chrome(options = options)"
      ],
      "metadata": {
        "id": "pK9PWsWvMF57"
      },
      "execution_count": 26,
      "outputs": []
    },
    {
      "cell_type": "code",
      "source": [
        "# Open a web browser at the following page\n",
        "driver.get(\"https://en.wikipedia.org/wiki/Category:Ski_areas_and_resorts_in_Oregon\")"
      ],
      "metadata": {
        "id": "MhHGjz8bMIBT"
      },
      "execution_count": 27,
      "outputs": []
    },
    {
      "cell_type": "code",
      "source": [
        "# Retrieve ski resort names\n",
        "html_list = driver.find_element(By.ID, \"mw-pages\")\n",
        "items = html_list.find_elements(By.TAG_NAME, \"li\")"
      ],
      "metadata": {
        "id": "9Ykx6TVeMK9J"
      },
      "execution_count": 28,
      "outputs": []
    },
    {
      "cell_type": "code",
      "source": [
        "ski_resort_names = []\n",
        "for item in items:\n",
        "    text = item.text\n",
        "    print(text)\n",
        "    ski_resort_names.append(text)\n",
        "driver.close()"
      ],
      "metadata": {
        "colab": {
          "base_uri": "https://localhost:8080/",
          "height": 0
        },
        "id": "N-3Vbq-IML--",
        "outputId": "db6ba10f-3138-4abb-b8a0-f8bbd5de549c"
      },
      "execution_count": 29,
      "outputs": [
        {
          "output_type": "stream",
          "name": "stdout",
          "text": [
            "Anthony Lakes (ski area)\n",
            "Mount Ashland Ski Area\n",
            "Cooper Spur ski area\n",
            "Ferguson Ridge Ski Area\n",
            "Hoodoo (ski area)\n",
            "Mount Ashland Ski Area Expansion\n",
            "Mount Bachelor ski area\n",
            "Mount Hood Meadows\n",
            "Mount Hood Skibowl\n",
            "Snow Bunny\n",
            "Spout Springs Ski Area\n",
            "Summit Pass (Oregon)\n",
            "Timberline Lodge ski area\n",
            "Warner Canyon\n",
            "Willamette Pass Resort\n"
          ]
        }
      ]
    },
    {
      "cell_type": "markdown",
      "source": [
        "### Geocoding"
      ],
      "metadata": {
        "id": "ORUdQYKNMNaV"
      }
    },
    {
      "cell_type": "code",
      "source": [
        "# Define test URL\n",
        "url = 'https://www.google.com/maps/place/Hoodoo+Ski+Area+Oregon/'\n",
        "\n",
        "# Install Chrome webdriver\n",
        "driver = webdriver.Chrome(options = options)\n",
        "\n",
        "# Open URL\n",
        "driver.get(url)"
      ],
      "metadata": {
        "id": "GcBzFlhwMOfy"
      },
      "execution_count": 30,
      "outputs": []
    },
    {
      "cell_type": "code",
      "source": [
        "# Click search\n",
        "element = WebDriverWait(driver, 10).until(EC.element_to_be_clickable((By.ID, \"searchbox-searchbutton\")))\n",
        "element.click()"
      ],
      "metadata": {
        "id": "uZle5XWSMW1o"
      },
      "execution_count": 31,
      "outputs": []
    },
    {
      "cell_type": "code",
      "source": [
        "# Retrieve the URL\n",
        "link = driver.current_url\n",
        "\n",
        "# We can find the first occurrence of a character by using the \"find\" method\n",
        "link.find('@')"
      ],
      "metadata": {
        "colab": {
          "base_uri": "https://localhost:8080/",
          "height": 0
        },
        "id": "PJCljw4IMZjG",
        "outputId": "dcbd112f-e9ed-49e1-bba9-a5051fcf84ec"
      },
      "execution_count": 32,
      "outputs": [
        {
          "output_type": "execute_result",
          "data": {
            "text/plain": [
              "50"
            ]
          },
          "metadata": {},
          "execution_count": 32
        }
      ]
    },
    {
      "cell_type": "code",
      "source": [
        "split1 = link.rsplit('@', 1)\n",
        "split1"
      ],
      "metadata": {
        "colab": {
          "base_uri": "https://localhost:8080/",
          "height": 0
        },
        "id": "JHrGQcLRMbjd",
        "outputId": "8ce8de9f-411f-4c8c-8316-da631f296742"
      },
      "execution_count": 33,
      "outputs": [
        {
          "output_type": "execute_result",
          "data": {
            "text/plain": [
              "['https://www.google.com/maps/place/Hoodoo+Ski+Area/',\n",
              " '44.4086436,-121.8801706,15z/data=!3m1!4b1!4m5!3m4!1s0x54bf374c3f8e7d9d:0x28cc775b14baa46b!8m2!3d44.4086439!4d-121.8714158']"
            ]
          },
          "metadata": {},
          "execution_count": 33
        }
      ]
    },
    {
      "cell_type": "code",
      "source": [
        "split2 = split1[1].rsplit(',', 1)\n",
        "split2"
      ],
      "metadata": {
        "colab": {
          "base_uri": "https://localhost:8080/",
          "height": 0
        },
        "id": "evMo7Ve8MeNc",
        "outputId": "fa76863e-0814-40d3-dca3-c3bad9ee66a7"
      },
      "execution_count": 34,
      "outputs": [
        {
          "output_type": "execute_result",
          "data": {
            "text/plain": [
              "['44.4086436,-121.8801706',\n",
              " '15z/data=!3m1!4b1!4m5!3m4!1s0x54bf374c3f8e7d9d:0x28cc775b14baa46b!8m2!3d44.4086439!4d-121.8714158']"
            ]
          },
          "metadata": {},
          "execution_count": 34
        }
      ]
    },
    {
      "cell_type": "code",
      "source": [
        "split3 = split2[0].rsplit(',', 1)\n",
        "split3"
      ],
      "metadata": {
        "colab": {
          "base_uri": "https://localhost:8080/",
          "height": 0
        },
        "id": "fSn7hTcgMfcP",
        "outputId": "0bfb59e4-f300-4f42-82eb-91d282fd4937"
      },
      "execution_count": 35,
      "outputs": [
        {
          "output_type": "execute_result",
          "data": {
            "text/plain": [
              "['44.4086436', '-121.8801706']"
            ]
          },
          "metadata": {},
          "execution_count": 35
        }
      ]
    },
    {
      "cell_type": "code",
      "source": [
        "# Here's the \"one-liner\"\n",
        "lat, lon = link.rsplit('@', 1)[1].rsplit(',', 1)[0].rsplit(',', 1)"
      ],
      "metadata": {
        "id": "Uqwec2PnMlTf"
      },
      "execution_count": 36,
      "outputs": []
    },
    {
      "cell_type": "code",
      "source": [
        "lat, lon"
      ],
      "metadata": {
        "colab": {
          "base_uri": "https://localhost:8080/",
          "height": 0
        },
        "id": "rNmYWa9SMmvn",
        "outputId": "c4e8c965-b7e5-4c57-ca83-5a04b84a0c60"
      },
      "execution_count": 37,
      "outputs": [
        {
          "output_type": "execute_result",
          "data": {
            "text/plain": [
              "('44.4086436', '-121.8801706')"
            ]
          },
          "metadata": {},
          "execution_count": 37
        }
      ]
    },
    {
      "cell_type": "code",
      "source": [
        "driver.close()"
      ],
      "metadata": {
        "id": "e0Cju5UFMn4o"
      },
      "execution_count": 38,
      "outputs": []
    },
    {
      "cell_type": "code",
      "source": [
        "import time\n",
        "\n",
        "ski_resort_coords = []\n",
        "\n",
        "# Loop through every ski resort to find it's coordinates\n",
        "for resort in ski_resort_names:\n",
        "       \n",
        "    # Define URL to search in Google Maps and add 'Oregon' in for good measure\n",
        "    url = 'https://www.google.com/maps/place/' + resort + ' Oregon/'\n",
        "    \n",
        "    # Import web driver and search for ski resorts\n",
        "    driver = webdriver.Chrome(options = options)\n",
        "    driver.get(url)\n",
        "      \n",
        "    # Click search\n",
        "    element = WebDriverWait(driver, 20).until(EC.element_to_be_clickable((By.ID, \"searchbox-searchbutton\")))\n",
        "    element.click()\n",
        "    time.sleep(2)\n",
        "    # Make the web driver wait until the URL updates (i.e. contains the @ sign we're looking for)\n",
        "    WebDriverWait(driver, 20).until(EC.url_contains(\"@\"))\n",
        "    \n",
        "    # Retrieve the URL\n",
        "    link = driver.current_url\n",
        "    \n",
        "    # Split string\n",
        "    lat, lon = link.rsplit('@', 1)[1].rsplit(',', 1)[0].rsplit(',', 1)\n",
        "    \n",
        "    # Append to list\n",
        "    ski_resort_coords.append((lat, lon))\n",
        "    \n",
        "    # Close driver\n",
        "    driver.close()"
      ],
      "metadata": {
        "id": "5GRwePzzMq1g"
      },
      "execution_count": 40,
      "outputs": []
    },
    {
      "cell_type": "code",
      "source": [
        "ski_resort_coords"
      ],
      "metadata": {
        "colab": {
          "base_uri": "https://localhost:8080/",
          "height": 0
        },
        "id": "L0PRX3xhOsWN",
        "outputId": "38cee707-ca78-4d0a-d22d-dad1da65d07c"
      },
      "execution_count": 41,
      "outputs": [
        {
          "output_type": "execute_result",
          "data": {
            "text/plain": [
              "[('44.9629232', '-118.242279'),\n",
              " ('42.0816847', '-122.7135088'),\n",
              " ('45.4188448', '-121.6152074'),\n",
              " ('45.2816848', '-117.1213966'),\n",
              " ('44.4086436', '-121.8801706'),\n",
              " ('42.0816847', '-122.7135088'),\n",
              " ('44.0028934', '-121.6878262'),\n",
              " ('45.3317549', '-121.6739396'),\n",
              " ('45.2943301', '-121.807136'),\n",
              " ('45.2871415', '-121.7377963'),\n",
              " ('45.7552422', '-118.0601758'),\n",
              " ('43.7385499', '-125.2450969'),\n",
              " ('45.3311278', '-121.7197612'),\n",
              " ('42.2373737', '-120.3033932'),\n",
              " ('43.6000537', '-122.0452948')]"
            ]
          },
          "metadata": {},
          "execution_count": 41
        }
      ]
    },
    {
      "cell_type": "code",
      "source": [
        "map = folium.Map(location=[44, -121], zoom_start=7)\n",
        "for i in range(0, len(ski_resort_coords)):\n",
        "    folium.Marker(ski_resort_coords[i], popup=ski_resort_names[i]).add_to(map)\n",
        "map"
      ],
      "metadata": {
        "colab": {
          "base_uri": "https://localhost:8080/",
          "height": 866
        },
        "id": "AN6VNhuqOuYl",
        "outputId": "f4ee1e1c-ea57-424b-85cb-a6d4da93e526"
      },
      "execution_count": 42,
      "outputs": [
        {
          "output_type": "execute_result",
          "data": {
            "text/html": [
              "<div style=\"width:100%;\"><div style=\"position:relative;width:100%;height:0;padding-bottom:60%;\"><span style=\"color:#565656\">Make this Notebook Trusted to load map: File -> Trust Notebook</span><iframe src=\"about:blank\" style=\"position:absolute;width:100%;height:100%;left:0;top:0;border:none !important;\" data-html=%3C%21DOCTYPE%20html%3E%0A%3Chead%3E%20%20%20%20%0A%20%20%20%20%3Cmeta%20http-equiv%3D%22content-type%22%20content%3D%22text/html%3B%20charset%3DUTF-8%22%20/%3E%0A%20%20%20%20%0A%20%20%20%20%20%20%20%20%3Cscript%3E%0A%20%20%20%20%20%20%20%20%20%20%20%20L_NO_TOUCH%20%3D%20false%3B%0A%20%20%20%20%20%20%20%20%20%20%20%20L_DISABLE_3D%20%3D%20false%3B%0A%20%20%20%20%20%20%20%20%3C/script%3E%0A%20%20%20%20%0A%20%20%20%20%3Cstyle%3Ehtml%2C%20body%20%7Bwidth%3A%20100%25%3Bheight%3A%20100%25%3Bmargin%3A%200%3Bpadding%3A%200%3B%7D%3C/style%3E%0A%20%20%20%20%3Cstyle%3E%23map%20%7Bposition%3Aabsolute%3Btop%3A0%3Bbottom%3A0%3Bright%3A0%3Bleft%3A0%3B%7D%3C/style%3E%0A%20%20%20%20%3Cscript%20src%3D%22https%3A//cdn.jsdelivr.net/npm/leaflet%401.6.0/dist/leaflet.js%22%3E%3C/script%3E%0A%20%20%20%20%3Cscript%20src%3D%22https%3A//code.jquery.com/jquery-1.12.4.min.js%22%3E%3C/script%3E%0A%20%20%20%20%3Cscript%20src%3D%22https%3A//maxcdn.bootstrapcdn.com/bootstrap/3.2.0/js/bootstrap.min.js%22%3E%3C/script%3E%0A%20%20%20%20%3Cscript%20src%3D%22https%3A//cdnjs.cloudflare.com/ajax/libs/Leaflet.awesome-markers/2.0.2/leaflet.awesome-markers.js%22%3E%3C/script%3E%0A%20%20%20%20%3Clink%20rel%3D%22stylesheet%22%20href%3D%22https%3A//cdn.jsdelivr.net/npm/leaflet%401.6.0/dist/leaflet.css%22/%3E%0A%20%20%20%20%3Clink%20rel%3D%22stylesheet%22%20href%3D%22https%3A//maxcdn.bootstrapcdn.com/bootstrap/3.2.0/css/bootstrap.min.css%22/%3E%0A%20%20%20%20%3Clink%20rel%3D%22stylesheet%22%20href%3D%22https%3A//maxcdn.bootstrapcdn.com/bootstrap/3.2.0/css/bootstrap-theme.min.css%22/%3E%0A%20%20%20%20%3Clink%20rel%3D%22stylesheet%22%20href%3D%22https%3A//maxcdn.bootstrapcdn.com/font-awesome/4.6.3/css/font-awesome.min.css%22/%3E%0A%20%20%20%20%3Clink%20rel%3D%22stylesheet%22%20href%3D%22https%3A//cdnjs.cloudflare.com/ajax/libs/Leaflet.awesome-markers/2.0.2/leaflet.awesome-markers.css%22/%3E%0A%20%20%20%20%3Clink%20rel%3D%22stylesheet%22%20href%3D%22https%3A//cdn.jsdelivr.net/gh/python-visualization/folium/folium/templates/leaflet.awesome.rotate.min.css%22/%3E%0A%20%20%20%20%0A%20%20%20%20%20%20%20%20%20%20%20%20%3Cmeta%20name%3D%22viewport%22%20content%3D%22width%3Ddevice-width%2C%0A%20%20%20%20%20%20%20%20%20%20%20%20%20%20%20%20initial-scale%3D1.0%2C%20maximum-scale%3D1.0%2C%20user-scalable%3Dno%22%20/%3E%0A%20%20%20%20%20%20%20%20%20%20%20%20%3Cstyle%3E%0A%20%20%20%20%20%20%20%20%20%20%20%20%20%20%20%20%23map_e45f0c025fbb4218ab4b7b59757b2426%20%7B%0A%20%20%20%20%20%20%20%20%20%20%20%20%20%20%20%20%20%20%20%20position%3A%20relative%3B%0A%20%20%20%20%20%20%20%20%20%20%20%20%20%20%20%20%20%20%20%20width%3A%20100.0%25%3B%0A%20%20%20%20%20%20%20%20%20%20%20%20%20%20%20%20%20%20%20%20height%3A%20100.0%25%3B%0A%20%20%20%20%20%20%20%20%20%20%20%20%20%20%20%20%20%20%20%20left%3A%200.0%25%3B%0A%20%20%20%20%20%20%20%20%20%20%20%20%20%20%20%20%20%20%20%20top%3A%200.0%25%3B%0A%20%20%20%20%20%20%20%20%20%20%20%20%20%20%20%20%7D%0A%20%20%20%20%20%20%20%20%20%20%20%20%3C/style%3E%0A%20%20%20%20%20%20%20%20%0A%3C/head%3E%0A%3Cbody%3E%20%20%20%20%0A%20%20%20%20%0A%20%20%20%20%20%20%20%20%20%20%20%20%3Cdiv%20class%3D%22folium-map%22%20id%3D%22map_e45f0c025fbb4218ab4b7b59757b2426%22%20%3E%3C/div%3E%0A%20%20%20%20%20%20%20%20%0A%3C/body%3E%0A%3Cscript%3E%20%20%20%20%0A%20%20%20%20%0A%20%20%20%20%20%20%20%20%20%20%20%20var%20map_e45f0c025fbb4218ab4b7b59757b2426%20%3D%20L.map%28%0A%20%20%20%20%20%20%20%20%20%20%20%20%20%20%20%20%22map_e45f0c025fbb4218ab4b7b59757b2426%22%2C%0A%20%20%20%20%20%20%20%20%20%20%20%20%20%20%20%20%7B%0A%20%20%20%20%20%20%20%20%20%20%20%20%20%20%20%20%20%20%20%20center%3A%20%5B44.0%2C%20-121.0%5D%2C%0A%20%20%20%20%20%20%20%20%20%20%20%20%20%20%20%20%20%20%20%20crs%3A%20L.CRS.EPSG3857%2C%0A%20%20%20%20%20%20%20%20%20%20%20%20%20%20%20%20%20%20%20%20zoom%3A%207%2C%0A%20%20%20%20%20%20%20%20%20%20%20%20%20%20%20%20%20%20%20%20zoomControl%3A%20true%2C%0A%20%20%20%20%20%20%20%20%20%20%20%20%20%20%20%20%20%20%20%20preferCanvas%3A%20false%2C%0A%20%20%20%20%20%20%20%20%20%20%20%20%20%20%20%20%7D%0A%20%20%20%20%20%20%20%20%20%20%20%20%29%3B%0A%0A%20%20%20%20%20%20%20%20%20%20%20%20%0A%0A%20%20%20%20%20%20%20%20%0A%20%20%20%20%0A%20%20%20%20%20%20%20%20%20%20%20%20var%20tile_layer_2407c651094f4cf4a3da2c2569b2ef94%20%3D%20L.tileLayer%28%0A%20%20%20%20%20%20%20%20%20%20%20%20%20%20%20%20%22https%3A//%7Bs%7D.tile.openstreetmap.org/%7Bz%7D/%7Bx%7D/%7By%7D.png%22%2C%0A%20%20%20%20%20%20%20%20%20%20%20%20%20%20%20%20%7B%22attribution%22%3A%20%22Data%20by%20%5Cu0026copy%3B%20%5Cu003ca%20href%3D%5C%22http%3A//openstreetmap.org%5C%22%5Cu003eOpenStreetMap%5Cu003c/a%5Cu003e%2C%20under%20%5Cu003ca%20href%3D%5C%22http%3A//www.openstreetmap.org/copyright%5C%22%5Cu003eODbL%5Cu003c/a%5Cu003e.%22%2C%20%22detectRetina%22%3A%20false%2C%20%22maxNativeZoom%22%3A%2018%2C%20%22maxZoom%22%3A%2018%2C%20%22minZoom%22%3A%200%2C%20%22noWrap%22%3A%20false%2C%20%22opacity%22%3A%201%2C%20%22subdomains%22%3A%20%22abc%22%2C%20%22tms%22%3A%20false%7D%0A%20%20%20%20%20%20%20%20%20%20%20%20%29.addTo%28map_e45f0c025fbb4218ab4b7b59757b2426%29%3B%0A%20%20%20%20%20%20%20%20%0A%20%20%20%20%0A%20%20%20%20%20%20%20%20%20%20%20%20var%20marker_8b5c780e9336406f9b3e67e868fa54ed%20%3D%20L.marker%28%0A%20%20%20%20%20%20%20%20%20%20%20%20%20%20%20%20%5B44.9629232%2C%20-118.242279%5D%2C%0A%20%20%20%20%20%20%20%20%20%20%20%20%20%20%20%20%7B%7D%0A%20%20%20%20%20%20%20%20%20%20%20%20%29.addTo%28map_e45f0c025fbb4218ab4b7b59757b2426%29%3B%0A%20%20%20%20%20%20%20%20%0A%20%20%20%20%0A%20%20%20%20%20%20%20%20var%20popup_5e50a841ea8c45978f475af5eb68e990%20%3D%20L.popup%28%7B%22maxWidth%22%3A%20%22100%25%22%7D%29%3B%0A%0A%20%20%20%20%20%20%20%20%0A%20%20%20%20%20%20%20%20%20%20%20%20var%20html_ba096210f7434a798651dbca8e7e9693%20%3D%20%24%28%60%3Cdiv%20id%3D%22html_ba096210f7434a798651dbca8e7e9693%22%20style%3D%22width%3A%20100.0%25%3B%20height%3A%20100.0%25%3B%22%3EAnthony%20Lakes%20%28ski%20area%29%3C/div%3E%60%29%5B0%5D%3B%0A%20%20%20%20%20%20%20%20%20%20%20%20popup_5e50a841ea8c45978f475af5eb68e990.setContent%28html_ba096210f7434a798651dbca8e7e9693%29%3B%0A%20%20%20%20%20%20%20%20%0A%0A%20%20%20%20%20%20%20%20marker_8b5c780e9336406f9b3e67e868fa54ed.bindPopup%28popup_5e50a841ea8c45978f475af5eb68e990%29%0A%20%20%20%20%20%20%20%20%3B%0A%0A%20%20%20%20%20%20%20%20%0A%20%20%20%20%0A%20%20%20%20%0A%20%20%20%20%20%20%20%20%20%20%20%20var%20marker_336abcb914fc45988df95e7dea7c76b5%20%3D%20L.marker%28%0A%20%20%20%20%20%20%20%20%20%20%20%20%20%20%20%20%5B42.0816847%2C%20-122.7135088%5D%2C%0A%20%20%20%20%20%20%20%20%20%20%20%20%20%20%20%20%7B%7D%0A%20%20%20%20%20%20%20%20%20%20%20%20%29.addTo%28map_e45f0c025fbb4218ab4b7b59757b2426%29%3B%0A%20%20%20%20%20%20%20%20%0A%20%20%20%20%0A%20%20%20%20%20%20%20%20var%20popup_317da689c60e402491d26fb966cfd176%20%3D%20L.popup%28%7B%22maxWidth%22%3A%20%22100%25%22%7D%29%3B%0A%0A%20%20%20%20%20%20%20%20%0A%20%20%20%20%20%20%20%20%20%20%20%20var%20html_4d8c8ca4a4ba40c8af5e09e387f0105b%20%3D%20%24%28%60%3Cdiv%20id%3D%22html_4d8c8ca4a4ba40c8af5e09e387f0105b%22%20style%3D%22width%3A%20100.0%25%3B%20height%3A%20100.0%25%3B%22%3EMount%20Ashland%20Ski%20Area%3C/div%3E%60%29%5B0%5D%3B%0A%20%20%20%20%20%20%20%20%20%20%20%20popup_317da689c60e402491d26fb966cfd176.setContent%28html_4d8c8ca4a4ba40c8af5e09e387f0105b%29%3B%0A%20%20%20%20%20%20%20%20%0A%0A%20%20%20%20%20%20%20%20marker_336abcb914fc45988df95e7dea7c76b5.bindPopup%28popup_317da689c60e402491d26fb966cfd176%29%0A%20%20%20%20%20%20%20%20%3B%0A%0A%20%20%20%20%20%20%20%20%0A%20%20%20%20%0A%20%20%20%20%0A%20%20%20%20%20%20%20%20%20%20%20%20var%20marker_ec25d6f4e71c4df38a3f9237167e5c79%20%3D%20L.marker%28%0A%20%20%20%20%20%20%20%20%20%20%20%20%20%20%20%20%5B45.4188448%2C%20-121.6152074%5D%2C%0A%20%20%20%20%20%20%20%20%20%20%20%20%20%20%20%20%7B%7D%0A%20%20%20%20%20%20%20%20%20%20%20%20%29.addTo%28map_e45f0c025fbb4218ab4b7b59757b2426%29%3B%0A%20%20%20%20%20%20%20%20%0A%20%20%20%20%0A%20%20%20%20%20%20%20%20var%20popup_6c2f1c9c8d294ce0995c57caa39edd38%20%3D%20L.popup%28%7B%22maxWidth%22%3A%20%22100%25%22%7D%29%3B%0A%0A%20%20%20%20%20%20%20%20%0A%20%20%20%20%20%20%20%20%20%20%20%20var%20html_68b61243d2dc409cb4bfae5c41716384%20%3D%20%24%28%60%3Cdiv%20id%3D%22html_68b61243d2dc409cb4bfae5c41716384%22%20style%3D%22width%3A%20100.0%25%3B%20height%3A%20100.0%25%3B%22%3ECooper%20Spur%20ski%20area%3C/div%3E%60%29%5B0%5D%3B%0A%20%20%20%20%20%20%20%20%20%20%20%20popup_6c2f1c9c8d294ce0995c57caa39edd38.setContent%28html_68b61243d2dc409cb4bfae5c41716384%29%3B%0A%20%20%20%20%20%20%20%20%0A%0A%20%20%20%20%20%20%20%20marker_ec25d6f4e71c4df38a3f9237167e5c79.bindPopup%28popup_6c2f1c9c8d294ce0995c57caa39edd38%29%0A%20%20%20%20%20%20%20%20%3B%0A%0A%20%20%20%20%20%20%20%20%0A%20%20%20%20%0A%20%20%20%20%0A%20%20%20%20%20%20%20%20%20%20%20%20var%20marker_746139c0e7e34ff680028107a288fb3e%20%3D%20L.marker%28%0A%20%20%20%20%20%20%20%20%20%20%20%20%20%20%20%20%5B45.2816848%2C%20-117.1213966%5D%2C%0A%20%20%20%20%20%20%20%20%20%20%20%20%20%20%20%20%7B%7D%0A%20%20%20%20%20%20%20%20%20%20%20%20%29.addTo%28map_e45f0c025fbb4218ab4b7b59757b2426%29%3B%0A%20%20%20%20%20%20%20%20%0A%20%20%20%20%0A%20%20%20%20%20%20%20%20var%20popup_b793429ba67a41038a47203287c29bff%20%3D%20L.popup%28%7B%22maxWidth%22%3A%20%22100%25%22%7D%29%3B%0A%0A%20%20%20%20%20%20%20%20%0A%20%20%20%20%20%20%20%20%20%20%20%20var%20html_ba15b77f9e4745c9b892a0c3b3304a75%20%3D%20%24%28%60%3Cdiv%20id%3D%22html_ba15b77f9e4745c9b892a0c3b3304a75%22%20style%3D%22width%3A%20100.0%25%3B%20height%3A%20100.0%25%3B%22%3EFerguson%20Ridge%20Ski%20Area%3C/div%3E%60%29%5B0%5D%3B%0A%20%20%20%20%20%20%20%20%20%20%20%20popup_b793429ba67a41038a47203287c29bff.setContent%28html_ba15b77f9e4745c9b892a0c3b3304a75%29%3B%0A%20%20%20%20%20%20%20%20%0A%0A%20%20%20%20%20%20%20%20marker_746139c0e7e34ff680028107a288fb3e.bindPopup%28popup_b793429ba67a41038a47203287c29bff%29%0A%20%20%20%20%20%20%20%20%3B%0A%0A%20%20%20%20%20%20%20%20%0A%20%20%20%20%0A%20%20%20%20%0A%20%20%20%20%20%20%20%20%20%20%20%20var%20marker_6943aed6fb754d808f3807f4b093c847%20%3D%20L.marker%28%0A%20%20%20%20%20%20%20%20%20%20%20%20%20%20%20%20%5B44.4086436%2C%20-121.8801706%5D%2C%0A%20%20%20%20%20%20%20%20%20%20%20%20%20%20%20%20%7B%7D%0A%20%20%20%20%20%20%20%20%20%20%20%20%29.addTo%28map_e45f0c025fbb4218ab4b7b59757b2426%29%3B%0A%20%20%20%20%20%20%20%20%0A%20%20%20%20%0A%20%20%20%20%20%20%20%20var%20popup_ea462b7d167e4a99a7171273460cd990%20%3D%20L.popup%28%7B%22maxWidth%22%3A%20%22100%25%22%7D%29%3B%0A%0A%20%20%20%20%20%20%20%20%0A%20%20%20%20%20%20%20%20%20%20%20%20var%20html_ef72451496294d7ca755e1ad4a90e540%20%3D%20%24%28%60%3Cdiv%20id%3D%22html_ef72451496294d7ca755e1ad4a90e540%22%20style%3D%22width%3A%20100.0%25%3B%20height%3A%20100.0%25%3B%22%3EHoodoo%20%28ski%20area%29%3C/div%3E%60%29%5B0%5D%3B%0A%20%20%20%20%20%20%20%20%20%20%20%20popup_ea462b7d167e4a99a7171273460cd990.setContent%28html_ef72451496294d7ca755e1ad4a90e540%29%3B%0A%20%20%20%20%20%20%20%20%0A%0A%20%20%20%20%20%20%20%20marker_6943aed6fb754d808f3807f4b093c847.bindPopup%28popup_ea462b7d167e4a99a7171273460cd990%29%0A%20%20%20%20%20%20%20%20%3B%0A%0A%20%20%20%20%20%20%20%20%0A%20%20%20%20%0A%20%20%20%20%0A%20%20%20%20%20%20%20%20%20%20%20%20var%20marker_1af1df5b40594fd096608f1f9b97098f%20%3D%20L.marker%28%0A%20%20%20%20%20%20%20%20%20%20%20%20%20%20%20%20%5B42.0816847%2C%20-122.7135088%5D%2C%0A%20%20%20%20%20%20%20%20%20%20%20%20%20%20%20%20%7B%7D%0A%20%20%20%20%20%20%20%20%20%20%20%20%29.addTo%28map_e45f0c025fbb4218ab4b7b59757b2426%29%3B%0A%20%20%20%20%20%20%20%20%0A%20%20%20%20%0A%20%20%20%20%20%20%20%20var%20popup_ca362d8054e3471f825c256d48e3d318%20%3D%20L.popup%28%7B%22maxWidth%22%3A%20%22100%25%22%7D%29%3B%0A%0A%20%20%20%20%20%20%20%20%0A%20%20%20%20%20%20%20%20%20%20%20%20var%20html_ce7ca08b839949e3854abd8ce9a190aa%20%3D%20%24%28%60%3Cdiv%20id%3D%22html_ce7ca08b839949e3854abd8ce9a190aa%22%20style%3D%22width%3A%20100.0%25%3B%20height%3A%20100.0%25%3B%22%3EMount%20Ashland%20Ski%20Area%20Expansion%3C/div%3E%60%29%5B0%5D%3B%0A%20%20%20%20%20%20%20%20%20%20%20%20popup_ca362d8054e3471f825c256d48e3d318.setContent%28html_ce7ca08b839949e3854abd8ce9a190aa%29%3B%0A%20%20%20%20%20%20%20%20%0A%0A%20%20%20%20%20%20%20%20marker_1af1df5b40594fd096608f1f9b97098f.bindPopup%28popup_ca362d8054e3471f825c256d48e3d318%29%0A%20%20%20%20%20%20%20%20%3B%0A%0A%20%20%20%20%20%20%20%20%0A%20%20%20%20%0A%20%20%20%20%0A%20%20%20%20%20%20%20%20%20%20%20%20var%20marker_52178bb5967a451a8d05a0b53c4ef0c1%20%3D%20L.marker%28%0A%20%20%20%20%20%20%20%20%20%20%20%20%20%20%20%20%5B44.0028934%2C%20-121.6878262%5D%2C%0A%20%20%20%20%20%20%20%20%20%20%20%20%20%20%20%20%7B%7D%0A%20%20%20%20%20%20%20%20%20%20%20%20%29.addTo%28map_e45f0c025fbb4218ab4b7b59757b2426%29%3B%0A%20%20%20%20%20%20%20%20%0A%20%20%20%20%0A%20%20%20%20%20%20%20%20var%20popup_7e1611ec061e46fda18566a087e4f0c5%20%3D%20L.popup%28%7B%22maxWidth%22%3A%20%22100%25%22%7D%29%3B%0A%0A%20%20%20%20%20%20%20%20%0A%20%20%20%20%20%20%20%20%20%20%20%20var%20html_1e78724a3701465285da019b96379f09%20%3D%20%24%28%60%3Cdiv%20id%3D%22html_1e78724a3701465285da019b96379f09%22%20style%3D%22width%3A%20100.0%25%3B%20height%3A%20100.0%25%3B%22%3EMount%20Bachelor%20ski%20area%3C/div%3E%60%29%5B0%5D%3B%0A%20%20%20%20%20%20%20%20%20%20%20%20popup_7e1611ec061e46fda18566a087e4f0c5.setContent%28html_1e78724a3701465285da019b96379f09%29%3B%0A%20%20%20%20%20%20%20%20%0A%0A%20%20%20%20%20%20%20%20marker_52178bb5967a451a8d05a0b53c4ef0c1.bindPopup%28popup_7e1611ec061e46fda18566a087e4f0c5%29%0A%20%20%20%20%20%20%20%20%3B%0A%0A%20%20%20%20%20%20%20%20%0A%20%20%20%20%0A%20%20%20%20%0A%20%20%20%20%20%20%20%20%20%20%20%20var%20marker_5e849fa6a6ec4fc7a19d3a4897cbdfc8%20%3D%20L.marker%28%0A%20%20%20%20%20%20%20%20%20%20%20%20%20%20%20%20%5B45.3317549%2C%20-121.6739396%5D%2C%0A%20%20%20%20%20%20%20%20%20%20%20%20%20%20%20%20%7B%7D%0A%20%20%20%20%20%20%20%20%20%20%20%20%29.addTo%28map_e45f0c025fbb4218ab4b7b59757b2426%29%3B%0A%20%20%20%20%20%20%20%20%0A%20%20%20%20%0A%20%20%20%20%20%20%20%20var%20popup_580fa5f623d7455084fc8d6850f89779%20%3D%20L.popup%28%7B%22maxWidth%22%3A%20%22100%25%22%7D%29%3B%0A%0A%20%20%20%20%20%20%20%20%0A%20%20%20%20%20%20%20%20%20%20%20%20var%20html_5874feff6ee24f61a47406df70864c8b%20%3D%20%24%28%60%3Cdiv%20id%3D%22html_5874feff6ee24f61a47406df70864c8b%22%20style%3D%22width%3A%20100.0%25%3B%20height%3A%20100.0%25%3B%22%3EMount%20Hood%20Meadows%3C/div%3E%60%29%5B0%5D%3B%0A%20%20%20%20%20%20%20%20%20%20%20%20popup_580fa5f623d7455084fc8d6850f89779.setContent%28html_5874feff6ee24f61a47406df70864c8b%29%3B%0A%20%20%20%20%20%20%20%20%0A%0A%20%20%20%20%20%20%20%20marker_5e849fa6a6ec4fc7a19d3a4897cbdfc8.bindPopup%28popup_580fa5f623d7455084fc8d6850f89779%29%0A%20%20%20%20%20%20%20%20%3B%0A%0A%20%20%20%20%20%20%20%20%0A%20%20%20%20%0A%20%20%20%20%0A%20%20%20%20%20%20%20%20%20%20%20%20var%20marker_152ee2455a104c10844f97bac9d65fb8%20%3D%20L.marker%28%0A%20%20%20%20%20%20%20%20%20%20%20%20%20%20%20%20%5B45.2943301%2C%20-121.807136%5D%2C%0A%20%20%20%20%20%20%20%20%20%20%20%20%20%20%20%20%7B%7D%0A%20%20%20%20%20%20%20%20%20%20%20%20%29.addTo%28map_e45f0c025fbb4218ab4b7b59757b2426%29%3B%0A%20%20%20%20%20%20%20%20%0A%20%20%20%20%0A%20%20%20%20%20%20%20%20var%20popup_651045c14f8a44978b6b51d48f847bb2%20%3D%20L.popup%28%7B%22maxWidth%22%3A%20%22100%25%22%7D%29%3B%0A%0A%20%20%20%20%20%20%20%20%0A%20%20%20%20%20%20%20%20%20%20%20%20var%20html_b566a606d95146d9b9eb03aaee97d0c5%20%3D%20%24%28%60%3Cdiv%20id%3D%22html_b566a606d95146d9b9eb03aaee97d0c5%22%20style%3D%22width%3A%20100.0%25%3B%20height%3A%20100.0%25%3B%22%3EMount%20Hood%20Skibowl%3C/div%3E%60%29%5B0%5D%3B%0A%20%20%20%20%20%20%20%20%20%20%20%20popup_651045c14f8a44978b6b51d48f847bb2.setContent%28html_b566a606d95146d9b9eb03aaee97d0c5%29%3B%0A%20%20%20%20%20%20%20%20%0A%0A%20%20%20%20%20%20%20%20marker_152ee2455a104c10844f97bac9d65fb8.bindPopup%28popup_651045c14f8a44978b6b51d48f847bb2%29%0A%20%20%20%20%20%20%20%20%3B%0A%0A%20%20%20%20%20%20%20%20%0A%20%20%20%20%0A%20%20%20%20%0A%20%20%20%20%20%20%20%20%20%20%20%20var%20marker_d6aa9aeff6bd4d6ebfed36f2e9694562%20%3D%20L.marker%28%0A%20%20%20%20%20%20%20%20%20%20%20%20%20%20%20%20%5B45.2871415%2C%20-121.7377963%5D%2C%0A%20%20%20%20%20%20%20%20%20%20%20%20%20%20%20%20%7B%7D%0A%20%20%20%20%20%20%20%20%20%20%20%20%29.addTo%28map_e45f0c025fbb4218ab4b7b59757b2426%29%3B%0A%20%20%20%20%20%20%20%20%0A%20%20%20%20%0A%20%20%20%20%20%20%20%20var%20popup_5331086d895a4ca5aa6811c8221004b6%20%3D%20L.popup%28%7B%22maxWidth%22%3A%20%22100%25%22%7D%29%3B%0A%0A%20%20%20%20%20%20%20%20%0A%20%20%20%20%20%20%20%20%20%20%20%20var%20html_d05488d5783c4c7d9828d2c0fe57101d%20%3D%20%24%28%60%3Cdiv%20id%3D%22html_d05488d5783c4c7d9828d2c0fe57101d%22%20style%3D%22width%3A%20100.0%25%3B%20height%3A%20100.0%25%3B%22%3ESnow%20Bunny%3C/div%3E%60%29%5B0%5D%3B%0A%20%20%20%20%20%20%20%20%20%20%20%20popup_5331086d895a4ca5aa6811c8221004b6.setContent%28html_d05488d5783c4c7d9828d2c0fe57101d%29%3B%0A%20%20%20%20%20%20%20%20%0A%0A%20%20%20%20%20%20%20%20marker_d6aa9aeff6bd4d6ebfed36f2e9694562.bindPopup%28popup_5331086d895a4ca5aa6811c8221004b6%29%0A%20%20%20%20%20%20%20%20%3B%0A%0A%20%20%20%20%20%20%20%20%0A%20%20%20%20%0A%20%20%20%20%0A%20%20%20%20%20%20%20%20%20%20%20%20var%20marker_292aed5b1f384993ab7aec9b35f3849f%20%3D%20L.marker%28%0A%20%20%20%20%20%20%20%20%20%20%20%20%20%20%20%20%5B45.7552422%2C%20-118.0601758%5D%2C%0A%20%20%20%20%20%20%20%20%20%20%20%20%20%20%20%20%7B%7D%0A%20%20%20%20%20%20%20%20%20%20%20%20%29.addTo%28map_e45f0c025fbb4218ab4b7b59757b2426%29%3B%0A%20%20%20%20%20%20%20%20%0A%20%20%20%20%0A%20%20%20%20%20%20%20%20var%20popup_eaac58d731e948af8ecd50f428883550%20%3D%20L.popup%28%7B%22maxWidth%22%3A%20%22100%25%22%7D%29%3B%0A%0A%20%20%20%20%20%20%20%20%0A%20%20%20%20%20%20%20%20%20%20%20%20var%20html_ac2970129cea464281bb59de95c5ca39%20%3D%20%24%28%60%3Cdiv%20id%3D%22html_ac2970129cea464281bb59de95c5ca39%22%20style%3D%22width%3A%20100.0%25%3B%20height%3A%20100.0%25%3B%22%3ESpout%20Springs%20Ski%20Area%3C/div%3E%60%29%5B0%5D%3B%0A%20%20%20%20%20%20%20%20%20%20%20%20popup_eaac58d731e948af8ecd50f428883550.setContent%28html_ac2970129cea464281bb59de95c5ca39%29%3B%0A%20%20%20%20%20%20%20%20%0A%0A%20%20%20%20%20%20%20%20marker_292aed5b1f384993ab7aec9b35f3849f.bindPopup%28popup_eaac58d731e948af8ecd50f428883550%29%0A%20%20%20%20%20%20%20%20%3B%0A%0A%20%20%20%20%20%20%20%20%0A%20%20%20%20%0A%20%20%20%20%0A%20%20%20%20%20%20%20%20%20%20%20%20var%20marker_9ac93371c75a43f48c50fc38939ad8db%20%3D%20L.marker%28%0A%20%20%20%20%20%20%20%20%20%20%20%20%20%20%20%20%5B43.7385499%2C%20-125.2450969%5D%2C%0A%20%20%20%20%20%20%20%20%20%20%20%20%20%20%20%20%7B%7D%0A%20%20%20%20%20%20%20%20%20%20%20%20%29.addTo%28map_e45f0c025fbb4218ab4b7b59757b2426%29%3B%0A%20%20%20%20%20%20%20%20%0A%20%20%20%20%0A%20%20%20%20%20%20%20%20var%20popup_97534d4e0bab469cbb5e22d793d6a6a8%20%3D%20L.popup%28%7B%22maxWidth%22%3A%20%22100%25%22%7D%29%3B%0A%0A%20%20%20%20%20%20%20%20%0A%20%20%20%20%20%20%20%20%20%20%20%20var%20html_addc5f979f0c469abfc09dbb68e5d796%20%3D%20%24%28%60%3Cdiv%20id%3D%22html_addc5f979f0c469abfc09dbb68e5d796%22%20style%3D%22width%3A%20100.0%25%3B%20height%3A%20100.0%25%3B%22%3ESummit%20Pass%20%28Oregon%29%3C/div%3E%60%29%5B0%5D%3B%0A%20%20%20%20%20%20%20%20%20%20%20%20popup_97534d4e0bab469cbb5e22d793d6a6a8.setContent%28html_addc5f979f0c469abfc09dbb68e5d796%29%3B%0A%20%20%20%20%20%20%20%20%0A%0A%20%20%20%20%20%20%20%20marker_9ac93371c75a43f48c50fc38939ad8db.bindPopup%28popup_97534d4e0bab469cbb5e22d793d6a6a8%29%0A%20%20%20%20%20%20%20%20%3B%0A%0A%20%20%20%20%20%20%20%20%0A%20%20%20%20%0A%20%20%20%20%0A%20%20%20%20%20%20%20%20%20%20%20%20var%20marker_5470603ba77d49e984f4a396bb74116c%20%3D%20L.marker%28%0A%20%20%20%20%20%20%20%20%20%20%20%20%20%20%20%20%5B45.3311278%2C%20-121.7197612%5D%2C%0A%20%20%20%20%20%20%20%20%20%20%20%20%20%20%20%20%7B%7D%0A%20%20%20%20%20%20%20%20%20%20%20%20%29.addTo%28map_e45f0c025fbb4218ab4b7b59757b2426%29%3B%0A%20%20%20%20%20%20%20%20%0A%20%20%20%20%0A%20%20%20%20%20%20%20%20var%20popup_0b7448adcfc64aaca29acad9f58edc45%20%3D%20L.popup%28%7B%22maxWidth%22%3A%20%22100%25%22%7D%29%3B%0A%0A%20%20%20%20%20%20%20%20%0A%20%20%20%20%20%20%20%20%20%20%20%20var%20html_415f1f7f8962484080da91cbe46452de%20%3D%20%24%28%60%3Cdiv%20id%3D%22html_415f1f7f8962484080da91cbe46452de%22%20style%3D%22width%3A%20100.0%25%3B%20height%3A%20100.0%25%3B%22%3ETimberline%20Lodge%20ski%20area%3C/div%3E%60%29%5B0%5D%3B%0A%20%20%20%20%20%20%20%20%20%20%20%20popup_0b7448adcfc64aaca29acad9f58edc45.setContent%28html_415f1f7f8962484080da91cbe46452de%29%3B%0A%20%20%20%20%20%20%20%20%0A%0A%20%20%20%20%20%20%20%20marker_5470603ba77d49e984f4a396bb74116c.bindPopup%28popup_0b7448adcfc64aaca29acad9f58edc45%29%0A%20%20%20%20%20%20%20%20%3B%0A%0A%20%20%20%20%20%20%20%20%0A%20%20%20%20%0A%20%20%20%20%0A%20%20%20%20%20%20%20%20%20%20%20%20var%20marker_98e1e8c1b7a74958a0f0f2955e98b587%20%3D%20L.marker%28%0A%20%20%20%20%20%20%20%20%20%20%20%20%20%20%20%20%5B42.2373737%2C%20-120.3033932%5D%2C%0A%20%20%20%20%20%20%20%20%20%20%20%20%20%20%20%20%7B%7D%0A%20%20%20%20%20%20%20%20%20%20%20%20%29.addTo%28map_e45f0c025fbb4218ab4b7b59757b2426%29%3B%0A%20%20%20%20%20%20%20%20%0A%20%20%20%20%0A%20%20%20%20%20%20%20%20var%20popup_001eaffba2c248b5ad33cc25797371b9%20%3D%20L.popup%28%7B%22maxWidth%22%3A%20%22100%25%22%7D%29%3B%0A%0A%20%20%20%20%20%20%20%20%0A%20%20%20%20%20%20%20%20%20%20%20%20var%20html_2e3762816bd94e9dbcaa8bb60fc756a8%20%3D%20%24%28%60%3Cdiv%20id%3D%22html_2e3762816bd94e9dbcaa8bb60fc756a8%22%20style%3D%22width%3A%20100.0%25%3B%20height%3A%20100.0%25%3B%22%3EWarner%20Canyon%3C/div%3E%60%29%5B0%5D%3B%0A%20%20%20%20%20%20%20%20%20%20%20%20popup_001eaffba2c248b5ad33cc25797371b9.setContent%28html_2e3762816bd94e9dbcaa8bb60fc756a8%29%3B%0A%20%20%20%20%20%20%20%20%0A%0A%20%20%20%20%20%20%20%20marker_98e1e8c1b7a74958a0f0f2955e98b587.bindPopup%28popup_001eaffba2c248b5ad33cc25797371b9%29%0A%20%20%20%20%20%20%20%20%3B%0A%0A%20%20%20%20%20%20%20%20%0A%20%20%20%20%0A%20%20%20%20%0A%20%20%20%20%20%20%20%20%20%20%20%20var%20marker_bb47f1e48e8d4dcda932832c5e693a9f%20%3D%20L.marker%28%0A%20%20%20%20%20%20%20%20%20%20%20%20%20%20%20%20%5B43.6000537%2C%20-122.0452948%5D%2C%0A%20%20%20%20%20%20%20%20%20%20%20%20%20%20%20%20%7B%7D%0A%20%20%20%20%20%20%20%20%20%20%20%20%29.addTo%28map_e45f0c025fbb4218ab4b7b59757b2426%29%3B%0A%20%20%20%20%20%20%20%20%0A%20%20%20%20%0A%20%20%20%20%20%20%20%20var%20popup_580c41998c8f49eb86419d61a3add3bd%20%3D%20L.popup%28%7B%22maxWidth%22%3A%20%22100%25%22%7D%29%3B%0A%0A%20%20%20%20%20%20%20%20%0A%20%20%20%20%20%20%20%20%20%20%20%20var%20html_737e88ba8e1146c3bdb1f18062962a76%20%3D%20%24%28%60%3Cdiv%20id%3D%22html_737e88ba8e1146c3bdb1f18062962a76%22%20style%3D%22width%3A%20100.0%25%3B%20height%3A%20100.0%25%3B%22%3EWillamette%20Pass%20Resort%3C/div%3E%60%29%5B0%5D%3B%0A%20%20%20%20%20%20%20%20%20%20%20%20popup_580c41998c8f49eb86419d61a3add3bd.setContent%28html_737e88ba8e1146c3bdb1f18062962a76%29%3B%0A%20%20%20%20%20%20%20%20%0A%0A%20%20%20%20%20%20%20%20marker_bb47f1e48e8d4dcda932832c5e693a9f.bindPopup%28popup_580c41998c8f49eb86419d61a3add3bd%29%0A%20%20%20%20%20%20%20%20%3B%0A%0A%20%20%20%20%20%20%20%20%0A%20%20%20%20%0A%3C/script%3E onload=\"this.contentDocument.open();this.contentDocument.write(    decodeURIComponent(this.getAttribute('data-html')));this.contentDocument.close();\" allowfullscreen webkitallowfullscreen mozallowfullscreen></iframe></div></div>"
            ],
            "text/plain": [
              "<folium.folium.Map at 0x7fd07e7024d0>"
            ]
          },
          "metadata": {},
          "execution_count": 42
        }
      ]
    },
    {
      "cell_type": "code",
      "source": [
        "address_list = ['1844 SW Morrison St, Portland, OR 97205','800 Occidental Ave S, Seattle, WA 98134','1001 Stadium Dr, Inglewood, CA 90301','2700 Martin Luther King Jr Blvd, Eugene, OR 97401']\n",
        "\n",
        "address_list"
      ],
      "metadata": {
        "colab": {
          "base_uri": "https://localhost:8080/",
          "height": 0
        },
        "id": "N46WWneZO3Zk",
        "outputId": "dd4f774b-ce1f-43a1-9bf7-778f1caf55f8"
      },
      "execution_count": 43,
      "outputs": [
        {
          "output_type": "execute_result",
          "data": {
            "text/plain": [
              "['1844 SW Morrison St, Portland, OR 97205',\n",
              " '800 Occidental Ave S, Seattle, WA 98134',\n",
              " '1001 Stadium Dr, Inglewood, CA 90301',\n",
              " '2700 Martin Luther King Jr Blvd, Eugene, OR 97401']"
            ]
          },
          "metadata": {},
          "execution_count": 43
        }
      ]
    },
    {
      "cell_type": "code",
      "source": [
        "import time\n",
        "\n",
        "address_coords = []\n",
        "\n",
        "# Loop through every ski resort to find it's coordinates\n",
        "for address in address_list:\n",
        "       \n",
        "    # Define URL to search in Google Maps and add 'Oregon' in for good measure\n",
        "    url = 'https://www.google.com/maps/place/' + address\n",
        "    \n",
        "    # Import web driver and search for ski resorts\n",
        "    driver = webdriver.Chrome(options = options)\n",
        "    driver.get(url)\n",
        "      \n",
        "    # Click search\n",
        "    element = WebDriverWait(driver, 20).until(EC.element_to_be_clickable((By.ID, \"searchbox-searchbutton\")))\n",
        "    element.click()\n",
        "    time.sleep(2)\n",
        "    # Make the web driver wait until the URL updates (i.e. contains the @ sign we're looking for)\n",
        "    WebDriverWait(driver, 20).until(EC.url_contains(\"@\"))\n",
        "    \n",
        "    # Retrieve the URL\n",
        "    link = driver.current_url\n",
        "    \n",
        "    # Split string\n",
        "    lat, lon = link.rsplit('@', 1)[1].rsplit(',', 1)[0].rsplit(',', 1)\n",
        "    \n",
        "    # Append to list\n",
        "    address_coords.append((lat, lon))\n",
        "    \n",
        "    # Close driver\n",
        "    driver.close()"
      ],
      "metadata": {
        "id": "MGTxplEsO8WR"
      },
      "execution_count": 45,
      "outputs": []
    },
    {
      "cell_type": "code",
      "source": [
        "map = folium.Map(location=[44, -121], zoom_start=4)\n",
        "for i in range(0, len(address_coords)):\n",
        "    folium.Marker(address_coords[i], popup=address_list[i]).add_to(map)\n",
        "map"
      ],
      "metadata": {
        "colab": {
          "base_uri": "https://localhost:8080/",
          "height": 866
        },
        "id": "wiGHPBVHPa2Y",
        "outputId": "40024b52-04ab-4de6-a644-c0613c6ffbf0"
      },
      "execution_count": 46,
      "outputs": [
        {
          "output_type": "execute_result",
          "data": {
            "text/html": [
              "<div style=\"width:100%;\"><div style=\"position:relative;width:100%;height:0;padding-bottom:60%;\"><span style=\"color:#565656\">Make this Notebook Trusted to load map: File -> Trust Notebook</span><iframe src=\"about:blank\" style=\"position:absolute;width:100%;height:100%;left:0;top:0;border:none !important;\" data-html=%3C%21DOCTYPE%20html%3E%0A%3Chead%3E%20%20%20%20%0A%20%20%20%20%3Cmeta%20http-equiv%3D%22content-type%22%20content%3D%22text/html%3B%20charset%3DUTF-8%22%20/%3E%0A%20%20%20%20%0A%20%20%20%20%20%20%20%20%3Cscript%3E%0A%20%20%20%20%20%20%20%20%20%20%20%20L_NO_TOUCH%20%3D%20false%3B%0A%20%20%20%20%20%20%20%20%20%20%20%20L_DISABLE_3D%20%3D%20false%3B%0A%20%20%20%20%20%20%20%20%3C/script%3E%0A%20%20%20%20%0A%20%20%20%20%3Cstyle%3Ehtml%2C%20body%20%7Bwidth%3A%20100%25%3Bheight%3A%20100%25%3Bmargin%3A%200%3Bpadding%3A%200%3B%7D%3C/style%3E%0A%20%20%20%20%3Cstyle%3E%23map%20%7Bposition%3Aabsolute%3Btop%3A0%3Bbottom%3A0%3Bright%3A0%3Bleft%3A0%3B%7D%3C/style%3E%0A%20%20%20%20%3Cscript%20src%3D%22https%3A//cdn.jsdelivr.net/npm/leaflet%401.6.0/dist/leaflet.js%22%3E%3C/script%3E%0A%20%20%20%20%3Cscript%20src%3D%22https%3A//code.jquery.com/jquery-1.12.4.min.js%22%3E%3C/script%3E%0A%20%20%20%20%3Cscript%20src%3D%22https%3A//maxcdn.bootstrapcdn.com/bootstrap/3.2.0/js/bootstrap.min.js%22%3E%3C/script%3E%0A%20%20%20%20%3Cscript%20src%3D%22https%3A//cdnjs.cloudflare.com/ajax/libs/Leaflet.awesome-markers/2.0.2/leaflet.awesome-markers.js%22%3E%3C/script%3E%0A%20%20%20%20%3Clink%20rel%3D%22stylesheet%22%20href%3D%22https%3A//cdn.jsdelivr.net/npm/leaflet%401.6.0/dist/leaflet.css%22/%3E%0A%20%20%20%20%3Clink%20rel%3D%22stylesheet%22%20href%3D%22https%3A//maxcdn.bootstrapcdn.com/bootstrap/3.2.0/css/bootstrap.min.css%22/%3E%0A%20%20%20%20%3Clink%20rel%3D%22stylesheet%22%20href%3D%22https%3A//maxcdn.bootstrapcdn.com/bootstrap/3.2.0/css/bootstrap-theme.min.css%22/%3E%0A%20%20%20%20%3Clink%20rel%3D%22stylesheet%22%20href%3D%22https%3A//maxcdn.bootstrapcdn.com/font-awesome/4.6.3/css/font-awesome.min.css%22/%3E%0A%20%20%20%20%3Clink%20rel%3D%22stylesheet%22%20href%3D%22https%3A//cdnjs.cloudflare.com/ajax/libs/Leaflet.awesome-markers/2.0.2/leaflet.awesome-markers.css%22/%3E%0A%20%20%20%20%3Clink%20rel%3D%22stylesheet%22%20href%3D%22https%3A//cdn.jsdelivr.net/gh/python-visualization/folium/folium/templates/leaflet.awesome.rotate.min.css%22/%3E%0A%20%20%20%20%0A%20%20%20%20%20%20%20%20%20%20%20%20%3Cmeta%20name%3D%22viewport%22%20content%3D%22width%3Ddevice-width%2C%0A%20%20%20%20%20%20%20%20%20%20%20%20%20%20%20%20initial-scale%3D1.0%2C%20maximum-scale%3D1.0%2C%20user-scalable%3Dno%22%20/%3E%0A%20%20%20%20%20%20%20%20%20%20%20%20%3Cstyle%3E%0A%20%20%20%20%20%20%20%20%20%20%20%20%20%20%20%20%23map_e35e1a05426043a893301d262a1facd5%20%7B%0A%20%20%20%20%20%20%20%20%20%20%20%20%20%20%20%20%20%20%20%20position%3A%20relative%3B%0A%20%20%20%20%20%20%20%20%20%20%20%20%20%20%20%20%20%20%20%20width%3A%20100.0%25%3B%0A%20%20%20%20%20%20%20%20%20%20%20%20%20%20%20%20%20%20%20%20height%3A%20100.0%25%3B%0A%20%20%20%20%20%20%20%20%20%20%20%20%20%20%20%20%20%20%20%20left%3A%200.0%25%3B%0A%20%20%20%20%20%20%20%20%20%20%20%20%20%20%20%20%20%20%20%20top%3A%200.0%25%3B%0A%20%20%20%20%20%20%20%20%20%20%20%20%20%20%20%20%7D%0A%20%20%20%20%20%20%20%20%20%20%20%20%3C/style%3E%0A%20%20%20%20%20%20%20%20%0A%3C/head%3E%0A%3Cbody%3E%20%20%20%20%0A%20%20%20%20%0A%20%20%20%20%20%20%20%20%20%20%20%20%3Cdiv%20class%3D%22folium-map%22%20id%3D%22map_e35e1a05426043a893301d262a1facd5%22%20%3E%3C/div%3E%0A%20%20%20%20%20%20%20%20%0A%3C/body%3E%0A%3Cscript%3E%20%20%20%20%0A%20%20%20%20%0A%20%20%20%20%20%20%20%20%20%20%20%20var%20map_e35e1a05426043a893301d262a1facd5%20%3D%20L.map%28%0A%20%20%20%20%20%20%20%20%20%20%20%20%20%20%20%20%22map_e35e1a05426043a893301d262a1facd5%22%2C%0A%20%20%20%20%20%20%20%20%20%20%20%20%20%20%20%20%7B%0A%20%20%20%20%20%20%20%20%20%20%20%20%20%20%20%20%20%20%20%20center%3A%20%5B44.0%2C%20-121.0%5D%2C%0A%20%20%20%20%20%20%20%20%20%20%20%20%20%20%20%20%20%20%20%20crs%3A%20L.CRS.EPSG3857%2C%0A%20%20%20%20%20%20%20%20%20%20%20%20%20%20%20%20%20%20%20%20zoom%3A%204%2C%0A%20%20%20%20%20%20%20%20%20%20%20%20%20%20%20%20%20%20%20%20zoomControl%3A%20true%2C%0A%20%20%20%20%20%20%20%20%20%20%20%20%20%20%20%20%20%20%20%20preferCanvas%3A%20false%2C%0A%20%20%20%20%20%20%20%20%20%20%20%20%20%20%20%20%7D%0A%20%20%20%20%20%20%20%20%20%20%20%20%29%3B%0A%0A%20%20%20%20%20%20%20%20%20%20%20%20%0A%0A%20%20%20%20%20%20%20%20%0A%20%20%20%20%0A%20%20%20%20%20%20%20%20%20%20%20%20var%20tile_layer_8ff939269d704e9481d8d1b3b3d1bd4c%20%3D%20L.tileLayer%28%0A%20%20%20%20%20%20%20%20%20%20%20%20%20%20%20%20%22https%3A//%7Bs%7D.tile.openstreetmap.org/%7Bz%7D/%7Bx%7D/%7By%7D.png%22%2C%0A%20%20%20%20%20%20%20%20%20%20%20%20%20%20%20%20%7B%22attribution%22%3A%20%22Data%20by%20%5Cu0026copy%3B%20%5Cu003ca%20href%3D%5C%22http%3A//openstreetmap.org%5C%22%5Cu003eOpenStreetMap%5Cu003c/a%5Cu003e%2C%20under%20%5Cu003ca%20href%3D%5C%22http%3A//www.openstreetmap.org/copyright%5C%22%5Cu003eODbL%5Cu003c/a%5Cu003e.%22%2C%20%22detectRetina%22%3A%20false%2C%20%22maxNativeZoom%22%3A%2018%2C%20%22maxZoom%22%3A%2018%2C%20%22minZoom%22%3A%200%2C%20%22noWrap%22%3A%20false%2C%20%22opacity%22%3A%201%2C%20%22subdomains%22%3A%20%22abc%22%2C%20%22tms%22%3A%20false%7D%0A%20%20%20%20%20%20%20%20%20%20%20%20%29.addTo%28map_e35e1a05426043a893301d262a1facd5%29%3B%0A%20%20%20%20%20%20%20%20%0A%20%20%20%20%0A%20%20%20%20%20%20%20%20%20%20%20%20var%20marker_7a9403b7e97e407684e01901d48ff3fe%20%3D%20L.marker%28%0A%20%20%20%20%20%20%20%20%20%20%20%20%20%20%20%20%5B45.5216773%2C%20-122.6995831%5D%2C%0A%20%20%20%20%20%20%20%20%20%20%20%20%20%20%20%20%7B%7D%0A%20%20%20%20%20%20%20%20%20%20%20%20%29.addTo%28map_e35e1a05426043a893301d262a1facd5%29%3B%0A%20%20%20%20%20%20%20%20%0A%20%20%20%20%0A%20%20%20%20%20%20%20%20var%20popup_ceea2e67824045a6b2cbaaf816ab8fcf%20%3D%20L.popup%28%7B%22maxWidth%22%3A%20%22100%25%22%7D%29%3B%0A%0A%20%20%20%20%20%20%20%20%0A%20%20%20%20%20%20%20%20%20%20%20%20var%20html_6808fcec123f49a7bf0f401180cc5352%20%3D%20%24%28%60%3Cdiv%20id%3D%22html_6808fcec123f49a7bf0f401180cc5352%22%20style%3D%22width%3A%20100.0%25%3B%20height%3A%20100.0%25%3B%22%3E1844%20SW%20Morrison%20St%2C%20Portland%2C%20OR%2097205%3C/div%3E%60%29%5B0%5D%3B%0A%20%20%20%20%20%20%20%20%20%20%20%20popup_ceea2e67824045a6b2cbaaf816ab8fcf.setContent%28html_6808fcec123f49a7bf0f401180cc5352%29%3B%0A%20%20%20%20%20%20%20%20%0A%0A%20%20%20%20%20%20%20%20marker_7a9403b7e97e407684e01901d48ff3fe.bindPopup%28popup_ceea2e67824045a6b2cbaaf816ab8fcf%29%0A%20%20%20%20%20%20%20%20%3B%0A%0A%20%20%20%20%20%20%20%20%0A%20%20%20%20%0A%20%20%20%20%0A%20%20%20%20%20%20%20%20%20%20%20%20var%20marker_43309e8ad7334e9da25f3e07908b3298%20%3D%20L.marker%28%0A%20%20%20%20%20%20%20%20%20%20%20%20%20%20%20%20%5B47.5933101%2C%20-122.3344609%5D%2C%0A%20%20%20%20%20%20%20%20%20%20%20%20%20%20%20%20%7B%7D%0A%20%20%20%20%20%20%20%20%20%20%20%20%29.addTo%28map_e35e1a05426043a893301d262a1facd5%29%3B%0A%20%20%20%20%20%20%20%20%0A%20%20%20%20%0A%20%20%20%20%20%20%20%20var%20popup_284dbc75094d4b3599f26d78508bf47e%20%3D%20L.popup%28%7B%22maxWidth%22%3A%20%22100%25%22%7D%29%3B%0A%0A%20%20%20%20%20%20%20%20%0A%20%20%20%20%20%20%20%20%20%20%20%20var%20html_cf2de90ec6bd423ca881aad2c7b2e965%20%3D%20%24%28%60%3Cdiv%20id%3D%22html_cf2de90ec6bd423ca881aad2c7b2e965%22%20style%3D%22width%3A%20100.0%25%3B%20height%3A%20100.0%25%3B%22%3E800%20Occidental%20Ave%20S%2C%20Seattle%2C%20WA%2098134%3C/div%3E%60%29%5B0%5D%3B%0A%20%20%20%20%20%20%20%20%20%20%20%20popup_284dbc75094d4b3599f26d78508bf47e.setContent%28html_cf2de90ec6bd423ca881aad2c7b2e965%29%3B%0A%20%20%20%20%20%20%20%20%0A%0A%20%20%20%20%20%20%20%20marker_43309e8ad7334e9da25f3e07908b3298.bindPopup%28popup_284dbc75094d4b3599f26d78508bf47e%29%0A%20%20%20%20%20%20%20%20%3B%0A%0A%20%20%20%20%20%20%20%20%0A%20%20%20%20%0A%20%20%20%20%0A%20%20%20%20%20%20%20%20%20%20%20%20var%20marker_80f73f873cee4e1da252491f59a53672%20%3D%20L.marker%28%0A%20%20%20%20%20%20%20%20%20%20%20%20%20%20%20%20%5B33.9530046%2C%20-118.347279%5D%2C%0A%20%20%20%20%20%20%20%20%20%20%20%20%20%20%20%20%7B%7D%0A%20%20%20%20%20%20%20%20%20%20%20%20%29.addTo%28map_e35e1a05426043a893301d262a1facd5%29%3B%0A%20%20%20%20%20%20%20%20%0A%20%20%20%20%0A%20%20%20%20%20%20%20%20var%20popup_48a608216f5d4ab89a476932e624a760%20%3D%20L.popup%28%7B%22maxWidth%22%3A%20%22100%25%22%7D%29%3B%0A%0A%20%20%20%20%20%20%20%20%0A%20%20%20%20%20%20%20%20%20%20%20%20var%20html_57318fed83fe4ba0a4d648c7c9746c87%20%3D%20%24%28%60%3Cdiv%20id%3D%22html_57318fed83fe4ba0a4d648c7c9746c87%22%20style%3D%22width%3A%20100.0%25%3B%20height%3A%20100.0%25%3B%22%3E1001%20Stadium%20Dr%2C%20Inglewood%2C%20CA%2090301%3C/div%3E%60%29%5B0%5D%3B%0A%20%20%20%20%20%20%20%20%20%20%20%20popup_48a608216f5d4ab89a476932e624a760.setContent%28html_57318fed83fe4ba0a4d648c7c9746c87%29%3B%0A%20%20%20%20%20%20%20%20%0A%0A%20%20%20%20%20%20%20%20marker_80f73f873cee4e1da252491f59a53672.bindPopup%28popup_48a608216f5d4ab89a476932e624a760%29%0A%20%20%20%20%20%20%20%20%3B%0A%0A%20%20%20%20%20%20%20%20%0A%20%20%20%20%0A%20%20%20%20%0A%20%20%20%20%20%20%20%20%20%20%20%20var%20marker_3fb5b7f2a2cc4b18af6002a048116c04%20%3D%20L.marker%28%0A%20%20%20%20%20%20%20%20%20%20%20%20%20%20%20%20%5B44.0594284%2C%20-123.0776579%5D%2C%0A%20%20%20%20%20%20%20%20%20%20%20%20%20%20%20%20%7B%7D%0A%20%20%20%20%20%20%20%20%20%20%20%20%29.addTo%28map_e35e1a05426043a893301d262a1facd5%29%3B%0A%20%20%20%20%20%20%20%20%0A%20%20%20%20%0A%20%20%20%20%20%20%20%20var%20popup_477847da07d6470fb98137be73ba86af%20%3D%20L.popup%28%7B%22maxWidth%22%3A%20%22100%25%22%7D%29%3B%0A%0A%20%20%20%20%20%20%20%20%0A%20%20%20%20%20%20%20%20%20%20%20%20var%20html_7be9ac92592a4fda8e7626306efeacfb%20%3D%20%24%28%60%3Cdiv%20id%3D%22html_7be9ac92592a4fda8e7626306efeacfb%22%20style%3D%22width%3A%20100.0%25%3B%20height%3A%20100.0%25%3B%22%3E2700%20Martin%20Luther%20King%20Jr%20Blvd%2C%20Eugene%2C%20OR%2097401%3C/div%3E%60%29%5B0%5D%3B%0A%20%20%20%20%20%20%20%20%20%20%20%20popup_477847da07d6470fb98137be73ba86af.setContent%28html_7be9ac92592a4fda8e7626306efeacfb%29%3B%0A%20%20%20%20%20%20%20%20%0A%0A%20%20%20%20%20%20%20%20marker_3fb5b7f2a2cc4b18af6002a048116c04.bindPopup%28popup_477847da07d6470fb98137be73ba86af%29%0A%20%20%20%20%20%20%20%20%3B%0A%0A%20%20%20%20%20%20%20%20%0A%20%20%20%20%0A%3C/script%3E onload=\"this.contentDocument.open();this.contentDocument.write(    decodeURIComponent(this.getAttribute('data-html')));this.contentDocument.close();\" allowfullscreen webkitallowfullscreen mozallowfullscreen></iframe></div></div>"
            ],
            "text/plain": [
              "<folium.folium.Map at 0x7fd07e75a050>"
            ]
          },
          "metadata": {},
          "execution_count": 46
        }
      ]
    },
    {
      "cell_type": "markdown",
      "source": [
        "---------------\n",
        "## Question 5 below (10 points)\n",
        "\n",
        "* Which ski resort received **more** snowfall in 2020, Mount Ashland, Willammette Pass or Hoodoo? \n",
        "\n",
        "--------------"
      ],
      "metadata": {
        "id": "C92in8uOPet2"
      }
    },
    {
      "cell_type": "code",
      "source": [
        "# Import package\n",
        "import xarray as xr\n",
        "from google.colab import files\n",
        "\n",
        "uploaded = files.upload()\n",
        "\n",
        "# Define filepath\n",
        "# fp = \"C:/Users/littl/Dropbox (University of Oregon)/lab7\"\n",
        "\n",
        "# Read data\n",
        "xds = xr.open_dataset('era_monthly_snowfall_2020.nc', decode_coords='all')"
      ],
      "metadata": {
        "colab": {
          "resources": {
            "http://localhost:8080/nbextensions/google.colab/files.js": {
              "data": "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",
              "ok": true,
              "headers": [
                [
                  "content-type",
                  "application/javascript"
                ]
              ],
              "status": 200,
              "status_text": ""
            }
          },
          "base_uri": "https://localhost:8080/",
          "height": 109
        },
        "id": "PnwxYdG1PfjM",
        "outputId": "596923e9-11aa-4c04-b7f2-8f7f1a84ee36"
      },
      "execution_count": 47,
      "outputs": [
        {
          "output_type": "display_data",
          "data": {
            "text/html": [
              "\n",
              "     <input type=\"file\" id=\"files-869b41e7-bdd7-4d6d-95ee-bdabec7c223a\" name=\"files[]\" multiple disabled\n",
              "        style=\"border:none\" />\n",
              "     <output id=\"result-869b41e7-bdd7-4d6d-95ee-bdabec7c223a\">\n",
              "      Upload widget is only available when the cell has been executed in the\n",
              "      current browser session. Please rerun this cell to enable.\n",
              "      </output>\n",
              "      <script src=\"/nbextensions/google.colab/files.js\"></script> "
            ],
            "text/plain": [
              "<IPython.core.display.HTML object>"
            ]
          },
          "metadata": {}
        },
        {
          "output_type": "stream",
          "name": "stdout",
          "text": [
            "Saving era_monthly_snowfall_1979_2020.nc to era_monthly_snowfall_1979_2020.nc\n",
            "Saving era_monthly_snowfall_2020.nc to era_monthly_snowfall_2020.nc\n"
          ]
        }
      ]
    },
    {
      "cell_type": "code",
      "source": [
        "xds"
      ],
      "metadata": {
        "colab": {
          "base_uri": "https://localhost:8080/",
          "height": 331
        },
        "id": "MXA1B69fQTgO",
        "outputId": "4eff5ef0-98b3-4529-c9c9-39fcd2a048c6"
      },
      "execution_count": 49,
      "outputs": [
        {
          "output_type": "execute_result",
          "data": {
            "text/html": [
              "<div><svg style=\"position: absolute; width: 0; height: 0; overflow: hidden\">\n",
              "<defs>\n",
              "<symbol id=\"icon-database\" viewBox=\"0 0 32 32\">\n",
              "<path d=\"M16 0c-8.837 0-16 2.239-16 5v4c0 2.761 7.163 5 16 5s16-2.239 16-5v-4c0-2.761-7.163-5-16-5z\"></path>\n",
              "<path d=\"M16 17c-8.837 0-16-2.239-16-5v6c0 2.761 7.163 5 16 5s16-2.239 16-5v-6c0 2.761-7.163 5-16 5z\"></path>\n",
              "<path d=\"M16 26c-8.837 0-16-2.239-16-5v6c0 2.761 7.163 5 16 5s16-2.239 16-5v-6c0 2.761-7.163 5-16 5z\"></path>\n",
              "</symbol>\n",
              "<symbol id=\"icon-file-text2\" viewBox=\"0 0 32 32\">\n",
              "<path d=\"M28.681 7.159c-0.694-0.947-1.662-2.053-2.724-3.116s-2.169-2.030-3.116-2.724c-1.612-1.182-2.393-1.319-2.841-1.319h-15.5c-1.378 0-2.5 1.121-2.5 2.5v27c0 1.378 1.122 2.5 2.5 2.5h23c1.378 0 2.5-1.122 2.5-2.5v-19.5c0-0.448-0.137-1.23-1.319-2.841zM24.543 5.457c0.959 0.959 1.712 1.825 2.268 2.543h-4.811v-4.811c0.718 0.556 1.584 1.309 2.543 2.268zM28 29.5c0 0.271-0.229 0.5-0.5 0.5h-23c-0.271 0-0.5-0.229-0.5-0.5v-27c0-0.271 0.229-0.5 0.5-0.5 0 0 15.499-0 15.5 0v7c0 0.552 0.448 1 1 1h7v19.5z\"></path>\n",
              "<path d=\"M23 26h-14c-0.552 0-1-0.448-1-1s0.448-1 1-1h14c0.552 0 1 0.448 1 1s-0.448 1-1 1z\"></path>\n",
              "<path d=\"M23 22h-14c-0.552 0-1-0.448-1-1s0.448-1 1-1h14c0.552 0 1 0.448 1 1s-0.448 1-1 1z\"></path>\n",
              "<path d=\"M23 18h-14c-0.552 0-1-0.448-1-1s0.448-1 1-1h14c0.552 0 1 0.448 1 1s-0.448 1-1 1z\"></path>\n",
              "</symbol>\n",
              "</defs>\n",
              "</svg>\n",
              "<style>/* CSS stylesheet for displaying xarray objects in jupyterlab.\n",
              " *\n",
              " */\n",
              "\n",
              ":root {\n",
              "  --xr-font-color0: var(--jp-content-font-color0, rgba(0, 0, 0, 1));\n",
              "  --xr-font-color2: var(--jp-content-font-color2, rgba(0, 0, 0, 0.54));\n",
              "  --xr-font-color3: var(--jp-content-font-color3, rgba(0, 0, 0, 0.38));\n",
              "  --xr-border-color: var(--jp-border-color2, #e0e0e0);\n",
              "  --xr-disabled-color: var(--jp-layout-color3, #bdbdbd);\n",
              "  --xr-background-color: var(--jp-layout-color0, white);\n",
              "  --xr-background-color-row-even: var(--jp-layout-color1, white);\n",
              "  --xr-background-color-row-odd: var(--jp-layout-color2, #eeeeee);\n",
              "}\n",
              "\n",
              "html[theme=dark],\n",
              "body.vscode-dark {\n",
              "  --xr-font-color0: rgba(255, 255, 255, 1);\n",
              "  --xr-font-color2: rgba(255, 255, 255, 0.54);\n",
              "  --xr-font-color3: rgba(255, 255, 255, 0.38);\n",
              "  --xr-border-color: #1F1F1F;\n",
              "  --xr-disabled-color: #515151;\n",
              "  --xr-background-color: #111111;\n",
              "  --xr-background-color-row-even: #111111;\n",
              "  --xr-background-color-row-odd: #313131;\n",
              "}\n",
              "\n",
              ".xr-wrap {\n",
              "  display: block;\n",
              "  min-width: 300px;\n",
              "  max-width: 700px;\n",
              "}\n",
              "\n",
              ".xr-text-repr-fallback {\n",
              "  /* fallback to plain text repr when CSS is not injected (untrusted notebook) */\n",
              "  display: none;\n",
              "}\n",
              "\n",
              ".xr-header {\n",
              "  padding-top: 6px;\n",
              "  padding-bottom: 6px;\n",
              "  margin-bottom: 4px;\n",
              "  border-bottom: solid 1px var(--xr-border-color);\n",
              "}\n",
              "\n",
              ".xr-header > div,\n",
              ".xr-header > ul {\n",
              "  display: inline;\n",
              "  margin-top: 0;\n",
              "  margin-bottom: 0;\n",
              "}\n",
              "\n",
              ".xr-obj-type,\n",
              ".xr-array-name {\n",
              "  margin-left: 2px;\n",
              "  margin-right: 10px;\n",
              "}\n",
              "\n",
              ".xr-obj-type {\n",
              "  color: var(--xr-font-color2);\n",
              "}\n",
              "\n",
              ".xr-sections {\n",
              "  padding-left: 0 !important;\n",
              "  display: grid;\n",
              "  grid-template-columns: 150px auto auto 1fr 20px 20px;\n",
              "}\n",
              "\n",
              ".xr-section-item {\n",
              "  display: contents;\n",
              "}\n",
              "\n",
              ".xr-section-item input {\n",
              "  display: none;\n",
              "}\n",
              "\n",
              ".xr-section-item input + label {\n",
              "  color: var(--xr-disabled-color);\n",
              "}\n",
              "\n",
              ".xr-section-item input:enabled + label {\n",
              "  cursor: pointer;\n",
              "  color: var(--xr-font-color2);\n",
              "}\n",
              "\n",
              ".xr-section-item input:enabled + label:hover {\n",
              "  color: var(--xr-font-color0);\n",
              "}\n",
              "\n",
              ".xr-section-summary {\n",
              "  grid-column: 1;\n",
              "  color: var(--xr-font-color2);\n",
              "  font-weight: 500;\n",
              "}\n",
              "\n",
              ".xr-section-summary > span {\n",
              "  display: inline-block;\n",
              "  padding-left: 0.5em;\n",
              "}\n",
              "\n",
              ".xr-section-summary-in:disabled + label {\n",
              "  color: var(--xr-font-color2);\n",
              "}\n",
              "\n",
              ".xr-section-summary-in + label:before {\n",
              "  display: inline-block;\n",
              "  content: '►';\n",
              "  font-size: 11px;\n",
              "  width: 15px;\n",
              "  text-align: center;\n",
              "}\n",
              "\n",
              ".xr-section-summary-in:disabled + label:before {\n",
              "  color: var(--xr-disabled-color);\n",
              "}\n",
              "\n",
              ".xr-section-summary-in:checked + label:before {\n",
              "  content: '▼';\n",
              "}\n",
              "\n",
              ".xr-section-summary-in:checked + label > span {\n",
              "  display: none;\n",
              "}\n",
              "\n",
              ".xr-section-summary,\n",
              ".xr-section-inline-details {\n",
              "  padding-top: 4px;\n",
              "  padding-bottom: 4px;\n",
              "}\n",
              "\n",
              ".xr-section-inline-details {\n",
              "  grid-column: 2 / -1;\n",
              "}\n",
              "\n",
              ".xr-section-details {\n",
              "  display: none;\n",
              "  grid-column: 1 / -1;\n",
              "  margin-bottom: 5px;\n",
              "}\n",
              "\n",
              ".xr-section-summary-in:checked ~ .xr-section-details {\n",
              "  display: contents;\n",
              "}\n",
              "\n",
              ".xr-array-wrap {\n",
              "  grid-column: 1 / -1;\n",
              "  display: grid;\n",
              "  grid-template-columns: 20px auto;\n",
              "}\n",
              "\n",
              ".xr-array-wrap > label {\n",
              "  grid-column: 1;\n",
              "  vertical-align: top;\n",
              "}\n",
              "\n",
              ".xr-preview {\n",
              "  color: var(--xr-font-color3);\n",
              "}\n",
              "\n",
              ".xr-array-preview,\n",
              ".xr-array-data {\n",
              "  padding: 0 5px !important;\n",
              "  grid-column: 2;\n",
              "}\n",
              "\n",
              ".xr-array-data,\n",
              ".xr-array-in:checked ~ .xr-array-preview {\n",
              "  display: none;\n",
              "}\n",
              "\n",
              ".xr-array-in:checked ~ .xr-array-data,\n",
              ".xr-array-preview {\n",
              "  display: inline-block;\n",
              "}\n",
              "\n",
              ".xr-dim-list {\n",
              "  display: inline-block !important;\n",
              "  list-style: none;\n",
              "  padding: 0 !important;\n",
              "  margin: 0;\n",
              "}\n",
              "\n",
              ".xr-dim-list li {\n",
              "  display: inline-block;\n",
              "  padding: 0;\n",
              "  margin: 0;\n",
              "}\n",
              "\n",
              ".xr-dim-list:before {\n",
              "  content: '(';\n",
              "}\n",
              "\n",
              ".xr-dim-list:after {\n",
              "  content: ')';\n",
              "}\n",
              "\n",
              ".xr-dim-list li:not(:last-child):after {\n",
              "  content: ',';\n",
              "  padding-right: 5px;\n",
              "}\n",
              "\n",
              ".xr-has-index {\n",
              "  font-weight: bold;\n",
              "}\n",
              "\n",
              ".xr-var-list,\n",
              ".xr-var-item {\n",
              "  display: contents;\n",
              "}\n",
              "\n",
              ".xr-var-item > div,\n",
              ".xr-var-item label,\n",
              ".xr-var-item > .xr-var-name span {\n",
              "  background-color: var(--xr-background-color-row-even);\n",
              "  margin-bottom: 0;\n",
              "}\n",
              "\n",
              ".xr-var-item > .xr-var-name:hover span {\n",
              "  padding-right: 5px;\n",
              "}\n",
              "\n",
              ".xr-var-list > li:nth-child(odd) > div,\n",
              ".xr-var-list > li:nth-child(odd) > label,\n",
              ".xr-var-list > li:nth-child(odd) > .xr-var-name span {\n",
              "  background-color: var(--xr-background-color-row-odd);\n",
              "}\n",
              "\n",
              ".xr-var-name {\n",
              "  grid-column: 1;\n",
              "}\n",
              "\n",
              ".xr-var-dims {\n",
              "  grid-column: 2;\n",
              "}\n",
              "\n",
              ".xr-var-dtype {\n",
              "  grid-column: 3;\n",
              "  text-align: right;\n",
              "  color: var(--xr-font-color2);\n",
              "}\n",
              "\n",
              ".xr-var-preview {\n",
              "  grid-column: 4;\n",
              "}\n",
              "\n",
              ".xr-var-name,\n",
              ".xr-var-dims,\n",
              ".xr-var-dtype,\n",
              ".xr-preview,\n",
              ".xr-attrs dt {\n",
              "  white-space: nowrap;\n",
              "  overflow: hidden;\n",
              "  text-overflow: ellipsis;\n",
              "  padding-right: 10px;\n",
              "}\n",
              "\n",
              ".xr-var-name:hover,\n",
              ".xr-var-dims:hover,\n",
              ".xr-var-dtype:hover,\n",
              ".xr-attrs dt:hover {\n",
              "  overflow: visible;\n",
              "  width: auto;\n",
              "  z-index: 1;\n",
              "}\n",
              "\n",
              ".xr-var-attrs,\n",
              ".xr-var-data {\n",
              "  display: none;\n",
              "  background-color: var(--xr-background-color) !important;\n",
              "  padding-bottom: 5px !important;\n",
              "}\n",
              "\n",
              ".xr-var-attrs-in:checked ~ .xr-var-attrs,\n",
              ".xr-var-data-in:checked ~ .xr-var-data {\n",
              "  display: block;\n",
              "}\n",
              "\n",
              ".xr-var-data > table {\n",
              "  float: right;\n",
              "}\n",
              "\n",
              ".xr-var-name span,\n",
              ".xr-var-data,\n",
              ".xr-attrs {\n",
              "  padding-left: 25px !important;\n",
              "}\n",
              "\n",
              ".xr-attrs,\n",
              ".xr-var-attrs,\n",
              ".xr-var-data {\n",
              "  grid-column: 1 / -1;\n",
              "}\n",
              "\n",
              "dl.xr-attrs {\n",
              "  padding: 0;\n",
              "  margin: 0;\n",
              "  display: grid;\n",
              "  grid-template-columns: 125px auto;\n",
              "}\n",
              "\n",
              ".xr-attrs dt,\n",
              ".xr-attrs dd {\n",
              "  padding: 0;\n",
              "  margin: 0;\n",
              "  float: left;\n",
              "  padding-right: 10px;\n",
              "  width: auto;\n",
              "}\n",
              "\n",
              ".xr-attrs dt {\n",
              "  font-weight: normal;\n",
              "  grid-column: 1;\n",
              "}\n",
              "\n",
              ".xr-attrs dt:hover span {\n",
              "  display: inline-block;\n",
              "  background: var(--xr-background-color);\n",
              "  padding-right: 10px;\n",
              "}\n",
              "\n",
              ".xr-attrs dd {\n",
              "  grid-column: 2;\n",
              "  white-space: pre-wrap;\n",
              "  word-break: break-all;\n",
              "}\n",
              "\n",
              ".xr-icon-database,\n",
              ".xr-icon-file-text2 {\n",
              "  display: inline-block;\n",
              "  vertical-align: middle;\n",
              "  width: 1em;\n",
              "  height: 1.5em !important;\n",
              "  stroke-width: 0;\n",
              "  stroke: currentColor;\n",
              "  fill: currentColor;\n",
              "}\n",
              "</style><pre class='xr-text-repr-fallback'>&lt;xarray.Dataset&gt;\n",
              "Dimensions:    (latitude: 25, longitude: 49, time: 12)\n",
              "Coordinates:\n",
              "  * longitude  (longitude) float32 -128.0 -127.8 -127.5 ... -116.5 -116.2 -116.0\n",
              "  * latitude   (latitude) float32 47.0 46.75 46.5 46.25 ... 41.5 41.25 41.0\n",
              "  * time       (time) datetime64[ns] 2020-01-01 2020-02-01 ... 2020-12-01\n",
              "Data variables:\n",
              "    sf         (time, latitude, longitude) float32 -4.657e-10 ... 0.0005956\n",
              "Attributes:\n",
              "    Conventions:  CF-1.6\n",
              "    history:      2022-01-30 21:04:05 GMT by grib_to_netcdf-2.23.0: /opt/ecmw...</pre><div class='xr-wrap' hidden><div class='xr-header'><div class='xr-obj-type'>xarray.Dataset</div></div><ul class='xr-sections'><li class='xr-section-item'><input id='section-91fed33e-0069-4ce7-8814-a6c47c11313c' class='xr-section-summary-in' type='checkbox' disabled ><label for='section-91fed33e-0069-4ce7-8814-a6c47c11313c' class='xr-section-summary'  title='Expand/collapse section'>Dimensions:</label><div class='xr-section-inline-details'><ul class='xr-dim-list'><li><span class='xr-has-index'>latitude</span>: 25</li><li><span class='xr-has-index'>longitude</span>: 49</li><li><span class='xr-has-index'>time</span>: 12</li></ul></div><div class='xr-section-details'></div></li><li class='xr-section-item'><input id='section-9b08adc6-99ca-4b23-b9e1-fe21d45d4b3d' class='xr-section-summary-in' type='checkbox'  checked><label for='section-9b08adc6-99ca-4b23-b9e1-fe21d45d4b3d' class='xr-section-summary' >Coordinates: <span>(3)</span></label><div class='xr-section-inline-details'></div><div class='xr-section-details'><ul class='xr-var-list'><li class='xr-var-item'><div class='xr-var-name'><span class='xr-has-index'>longitude</span></div><div class='xr-var-dims'>(longitude)</div><div class='xr-var-dtype'>float32</div><div class='xr-var-preview xr-preview'>-128.0 -127.8 ... -116.2 -116.0</div><input id='attrs-c7b05162-7f88-41a3-9d83-002de9fc1e97' class='xr-var-attrs-in' type='checkbox' ><label for='attrs-c7b05162-7f88-41a3-9d83-002de9fc1e97' title='Show/Hide attributes'><svg class='icon xr-icon-file-text2'><use xlink:href='#icon-file-text2'></use></svg></label><input id='data-08254a22-4bdf-49cc-bbe5-2448f4ca40ef' class='xr-var-data-in' type='checkbox'><label for='data-08254a22-4bdf-49cc-bbe5-2448f4ca40ef' title='Show/Hide data repr'><svg class='icon xr-icon-database'><use xlink:href='#icon-database'></use></svg></label><div class='xr-var-attrs'><dl class='xr-attrs'><dt><span>units :</span></dt><dd>degrees_east</dd><dt><span>long_name :</span></dt><dd>longitude</dd></dl></div><div class='xr-var-data'><pre>array([-128.  , -127.75, -127.5 , -127.25, -127.  , -126.75, -126.5 , -126.25,\n",
              "       -126.  , -125.75, -125.5 , -125.25, -125.  , -124.75, -124.5 , -124.25,\n",
              "       -124.  , -123.75, -123.5 , -123.25, -123.  , -122.75, -122.5 , -122.25,\n",
              "       -122.  , -121.75, -121.5 , -121.25, -121.  , -120.75, -120.5 , -120.25,\n",
              "       -120.  , -119.75, -119.5 , -119.25, -119.  , -118.75, -118.5 , -118.25,\n",
              "       -118.  , -117.75, -117.5 , -117.25, -117.  , -116.75, -116.5 , -116.25,\n",
              "       -116.  ], dtype=float32)</pre></div></li><li class='xr-var-item'><div class='xr-var-name'><span class='xr-has-index'>latitude</span></div><div class='xr-var-dims'>(latitude)</div><div class='xr-var-dtype'>float32</div><div class='xr-var-preview xr-preview'>47.0 46.75 46.5 ... 41.5 41.25 41.0</div><input id='attrs-86efd2ac-36dd-485b-aaf9-409ed35d9375' class='xr-var-attrs-in' type='checkbox' ><label for='attrs-86efd2ac-36dd-485b-aaf9-409ed35d9375' title='Show/Hide attributes'><svg class='icon xr-icon-file-text2'><use xlink:href='#icon-file-text2'></use></svg></label><input id='data-30636e29-34b5-4553-a1f1-c409b7107fc5' class='xr-var-data-in' type='checkbox'><label for='data-30636e29-34b5-4553-a1f1-c409b7107fc5' title='Show/Hide data repr'><svg class='icon xr-icon-database'><use xlink:href='#icon-database'></use></svg></label><div class='xr-var-attrs'><dl class='xr-attrs'><dt><span>units :</span></dt><dd>degrees_north</dd><dt><span>long_name :</span></dt><dd>latitude</dd></dl></div><div class='xr-var-data'><pre>array([47.  , 46.75, 46.5 , 46.25, 46.  , 45.75, 45.5 , 45.25, 45.  , 44.75,\n",
              "       44.5 , 44.25, 44.  , 43.75, 43.5 , 43.25, 43.  , 42.75, 42.5 , 42.25,\n",
              "       42.  , 41.75, 41.5 , 41.25, 41.  ], dtype=float32)</pre></div></li><li class='xr-var-item'><div class='xr-var-name'><span class='xr-has-index'>time</span></div><div class='xr-var-dims'>(time)</div><div class='xr-var-dtype'>datetime64[ns]</div><div class='xr-var-preview xr-preview'>2020-01-01 ... 2020-12-01</div><input id='attrs-64172dde-4dde-4d17-9931-8f872cd2f449' class='xr-var-attrs-in' type='checkbox' ><label for='attrs-64172dde-4dde-4d17-9931-8f872cd2f449' title='Show/Hide attributes'><svg class='icon xr-icon-file-text2'><use xlink:href='#icon-file-text2'></use></svg></label><input id='data-352e7315-16dc-46ce-8cc6-75555d95dbf2' class='xr-var-data-in' type='checkbox'><label for='data-352e7315-16dc-46ce-8cc6-75555d95dbf2' title='Show/Hide data repr'><svg class='icon xr-icon-database'><use xlink:href='#icon-database'></use></svg></label><div class='xr-var-attrs'><dl class='xr-attrs'><dt><span>long_name :</span></dt><dd>time</dd></dl></div><div class='xr-var-data'><pre>array([&#x27;2020-01-01T00:00:00.000000000&#x27;, &#x27;2020-02-01T00:00:00.000000000&#x27;,\n",
              "       &#x27;2020-03-01T00:00:00.000000000&#x27;, &#x27;2020-04-01T00:00:00.000000000&#x27;,\n",
              "       &#x27;2020-05-01T00:00:00.000000000&#x27;, &#x27;2020-06-01T00:00:00.000000000&#x27;,\n",
              "       &#x27;2020-07-01T00:00:00.000000000&#x27;, &#x27;2020-08-01T00:00:00.000000000&#x27;,\n",
              "       &#x27;2020-09-01T00:00:00.000000000&#x27;, &#x27;2020-10-01T00:00:00.000000000&#x27;,\n",
              "       &#x27;2020-11-01T00:00:00.000000000&#x27;, &#x27;2020-12-01T00:00:00.000000000&#x27;],\n",
              "      dtype=&#x27;datetime64[ns]&#x27;)</pre></div></li></ul></div></li><li class='xr-section-item'><input id='section-70f184d0-0610-4d5b-bc13-9d011a26f091' class='xr-section-summary-in' type='checkbox'  checked><label for='section-70f184d0-0610-4d5b-bc13-9d011a26f091' class='xr-section-summary' >Data variables: <span>(1)</span></label><div class='xr-section-inline-details'></div><div class='xr-section-details'><ul class='xr-var-list'><li class='xr-var-item'><div class='xr-var-name'><span>sf</span></div><div class='xr-var-dims'>(time, latitude, longitude)</div><div class='xr-var-dtype'>float32</div><div class='xr-var-preview xr-preview'>...</div><input id='attrs-18a6b629-212c-4e9f-b2e6-c754ebcb78de' class='xr-var-attrs-in' type='checkbox' ><label for='attrs-18a6b629-212c-4e9f-b2e6-c754ebcb78de' title='Show/Hide attributes'><svg class='icon xr-icon-file-text2'><use xlink:href='#icon-file-text2'></use></svg></label><input id='data-914b61c7-3e0c-4d4e-ac25-0d9587b73c7d' class='xr-var-data-in' type='checkbox'><label for='data-914b61c7-3e0c-4d4e-ac25-0d9587b73c7d' title='Show/Hide data repr'><svg class='icon xr-icon-database'><use xlink:href='#icon-database'></use></svg></label><div class='xr-var-attrs'><dl class='xr-attrs'><dt><span>units :</span></dt><dd>m of water equivalent</dd><dt><span>long_name :</span></dt><dd>Snowfall</dd><dt><span>standard_name :</span></dt><dd>lwe_thickness_of_snowfall_amount</dd></dl></div><div class='xr-var-data'><pre>array([[[-4.656613e-10,  3.797468e-06, ...,  7.095437e-03,  9.166803e-03],\n",
              "        [-4.656613e-10, -4.656613e-10, ...,  4.137035e-03,  5.899501e-03],\n",
              "        ...,\n",
              "        [-4.656613e-10, -4.656613e-10, ...,  1.813949e-03,  1.599364e-03],\n",
              "        [-4.656613e-10, -4.656613e-10, ...,  1.411364e-03,  1.196780e-03]],\n",
              "\n",
              "       [[-4.656613e-10, -4.656613e-10, ...,  3.826657e-03,  4.766864e-03],\n",
              "        [-4.656613e-10, -4.656613e-10, ...,  2.944053e-03,  4.072259e-03],\n",
              "        ...,\n",
              "        [-4.656613e-10, -4.656613e-10, ...,  7.391251e-04,  6.332044e-04],\n",
              "        [-4.656613e-10, -4.656613e-10, ...,  5.055508e-04,  4.511131e-04]],\n",
              "\n",
              "       ...,\n",
              "\n",
              "       [[-4.656613e-10, -4.656613e-10, ...,  2.967896e-03,  3.781293e-03],\n",
              "        [-4.656613e-10, -4.656613e-10, ...,  1.843066e-03,  2.307472e-03],\n",
              "        ...,\n",
              "        [-4.656613e-10, -4.656613e-10, ...,  9.575081e-04,  7.925075e-04],\n",
              "        [-4.656613e-10, -4.656613e-10, ...,  7.357490e-04,  6.175903e-04]],\n",
              "\n",
              "       [[-4.656613e-10, -4.656613e-10, ...,  3.699214e-03,  4.183666e-03],\n",
              "        [-4.656613e-10, -4.656613e-10, ...,  2.190580e-03,  2.953970e-03],\n",
              "        ...,\n",
              "        [-4.656613e-10, -4.656613e-10, ...,  7.872325e-04,  6.532492e-04],\n",
              "        [-4.656613e-10, -4.656613e-10, ...,  7.032556e-04,  5.956464e-04]]],\n",
              "      dtype=float32)</pre></div></li></ul></div></li><li class='xr-section-item'><input id='section-6ab36e6c-dadf-47d6-a32e-83da5a4d3076' class='xr-section-summary-in' type='checkbox'  checked><label for='section-6ab36e6c-dadf-47d6-a32e-83da5a4d3076' class='xr-section-summary' >Attributes: <span>(2)</span></label><div class='xr-section-inline-details'></div><div class='xr-section-details'><dl class='xr-attrs'><dt><span>Conventions :</span></dt><dd>CF-1.6</dd><dt><span>history :</span></dt><dd>2022-01-30 21:04:05 GMT by grib_to_netcdf-2.23.0: /opt/ecmwf/mars-client/bin/grib_to_netcdf -S param -o /cache/data6/adaptor.mars.internal-1643576645.547142-29574-12-6e006e1c-6452-4b43-8b38-b506dd10f98b.nc /cache/tmp/6e006e1c-6452-4b43-8b38-b506dd10f98b-adaptor.mars.internal-1643576640.5525317-29574-17-tmp.grib</dd></dl></div></li></ul></div></div>"
            ],
            "text/plain": [
              "<xarray.Dataset>\n",
              "Dimensions:    (latitude: 25, longitude: 49, time: 12)\n",
              "Coordinates:\n",
              "  * longitude  (longitude) float32 -128.0 -127.8 -127.5 ... -116.5 -116.2 -116.0\n",
              "  * latitude   (latitude) float32 47.0 46.75 46.5 46.25 ... 41.5 41.25 41.0\n",
              "  * time       (time) datetime64[ns] 2020-01-01 2020-02-01 ... 2020-12-01\n",
              "Data variables:\n",
              "    sf         (time, latitude, longitude) float32 ...\n",
              "Attributes:\n",
              "    Conventions:  CF-1.6\n",
              "    history:      2022-01-30 21:04:05 GMT by grib_to_netcdf-2.23.0: /opt/ecmw..."
            ]
          },
          "metadata": {},
          "execution_count": 49
        }
      ]
    },
    {
      "cell_type": "code",
      "source": [
        "ashland = xds.sel(latitude=42.0816847, longitude=-122.7135088, method='nearest')\n",
        "willamette =  xds.sel(latitude=43.6000537, longitude=-122.0452948, method='nearest')\n",
        "hoodoo =  xds.sel(latitude=44.4086436, longitude=-121.8801706, method='nearest')"
      ],
      "metadata": {
        "id": "83xVZjdGQatY"
      },
      "execution_count": 50,
      "outputs": []
    },
    {
      "cell_type": "code",
      "source": [
        "ashland_sum = ashland['sf'].values.sum()\n",
        "print('Ashland: ',ashland_sum)\n",
        "\n",
        "willamette_sum = willamette['sf'].values.sum()\n",
        "print('Willamette: ',willamette_sum)\n",
        "\n",
        "hoodoo_sum = hoodoo['sf'].values.sum()\n",
        "print('Hoodoo: ', hoodoo_sum)"
      ],
      "metadata": {
        "colab": {
          "base_uri": "https://localhost:8080/",
          "height": 0
        },
        "id": "3sY4WbhhQczh",
        "outputId": "b009959d-e126-43a1-c046-a0bf9793cbb1"
      },
      "execution_count": 53,
      "outputs": [
        {
          "output_type": "stream",
          "name": "stdout",
          "text": [
            "Ashland:  0.009228621\n",
            "Willamette:  0.019636936\n",
            "Hoodoo:  0.025123514\n"
          ]
        }
      ]
    },
    {
      "cell_type": "markdown",
      "source": [
        "The Hoodoo Ski Area has had the most snowfall for the year with .025 meters."
      ],
      "metadata": {
        "id": "mPQ6Wk2bQlD5"
      }
    }
  ]
}